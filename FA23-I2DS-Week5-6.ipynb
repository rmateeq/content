{
 "cells": [
  {
   "cell_type": "markdown",
   "metadata": {},
   "source": [
    "# Your Name:\n",
    "# Registration Number:"
   ]
  },
  {
   "cell_type": "markdown",
   "metadata": {},
   "source": [
    "## Intro to Data Science (Fall2023)\n",
    "### Week05-06 (14/14/16-Nov-2023)\n",
    "\n",
    "**M Ateeq**,<br>\n",
    "*Department of Data Science, The Islamia University of Bahawalpur.*"
   ]
  },
  {
   "cell_type": "markdown",
   "metadata": {},
   "source": [
    "### **1. Lecture: Lists in Python**\n",
    "\n",
    "**1.1 Introduction to Lists**\n",
    "   - Definition of lists\n",
    "   - Importance of lists in programming\n",
    "\n",
    "**1.2 Creating Lists**\n",
    "   - Syntax for creating lists\n",
    "   - Examples with different data types in lists\n",
    "\n",
    "**1.3 Accessing List Elements**\n",
    "   - Indexing in lists (positive and negative)\n",
    "   - Slicing lists to retrieve specific elements\n",
    "   - Example scenarios of list access\n",
    "\n",
    "**1.4 Modifying Lists**\n",
    "   - Changing elements in a list\n",
    "   - Adding elements to a list (append, insert)\n",
    "   - Removing elements from a list (remove, pop)\n",
    "\n",
    "**1.5 List Operations**\n",
    "   - Concatenation of lists\n",
    "   - Repetition of lists\n",
    "   - Length of a list\n",
    "\n",
    "**1.6 List Methods**\n",
    "   - Commonly used methods (count, index, sort)\n",
    "   - Demonstrations and use cases\n",
    "\n",
    "**1.7 List Comprehensions**\n",
    "   - Syntax and structure\n",
    "   - Benefits and applications\n",
    "\n",
    "**1.8 Practical Applications**\n",
    "   - Real-world examples of using lists\n",
    "   - Importance in data manipulation and analysis\n"
   ]
  },
  {
   "cell_type": "markdown",
   "metadata": {},
   "source": [
    "### **2. Lab: Hands-On Practice with Lists**\n",
    "\n",
    "**2.1 Creating and Manipulating Lists**\n",
    "   - Guided exercises on creating and modifying lists\n",
    "   - Use of different data types within lists\n",
    "\n",
    "**2.2 List Operations Practice**\n",
    "   - Hands-on exercises for list concatenation and repetition\n",
    "   - Determining the length of lists\n",
    "\n",
    "**2.3 List Methods Exploration**\n",
    "   - Lab activities to explore various list methods\n",
    "   - Practical application scenarios\n",
    "\n",
    "**2.4 List Comprehension Challenges**\n",
    "   - Coding exercises to practice list comprehensions\n",
    "   - Solutions and explanations provided\n",
    "\n",
    "**2.5 Real-World Problem Solving**\n",
    "   - Application of lists in real-world problem-solving scenarios\n",
    "   - Collaborative exercises to reinforce concepts"
   ]
  },
  {
   "cell_type": "markdown",
   "metadata": {},
   "source": [
    "### **1.1 Introduction to Lists**\n",
    "\n",
    "In Python, a **list** is a versatile and fundamental data structure that allows you to organize and store collections of items. Unlike variables that hold only one value, a list can contain multiple values, making it a powerful tool for handling and manipulating data.\n",
    "\n",
    "#### **Definition of Lists:**\n",
    "A list is an ordered and mutable collection of elements. These elements can be of any data type, including numbers, strings, or even other lists. Lists are defined by enclosing elements within square brackets `[]`, and the elements are separated by commas.\n",
    "\n",
    "```python\n",
    "# Example of a simple list\n",
    "my_list = [1, 2, 3, 'apple', 'orange']\n",
    "```"
   ]
  },
  {
   "cell_type": "markdown",
   "metadata": {},
   "source": [
    "#### **Importance of Lists in Programming:**\n",
    "- **Flexibility:** Lists allow you to store and manage diverse data types in a single container.\n",
    "- **Manipulation:** Being mutable, lists can be modified after creation, enabling dynamic data manipulation.\n",
    "- **Iteration:** Lists are iterable, making it easy to loop through elements using loops like `for` and `while`.\n",
    "- **Data Organization:** Lists provide a structured way to organize and access data.\n",
    "\n",
    "#### **Visual Representation:**\n",
    "Consider a list of fruits:\n",
    "```\n",
    "Index  |  0       1       2         3         4\n",
    "----------------------------------------------\n",
    "Value  | 'apple' 'banana' 'cherry' 'kiwi' 'orange'\n",
    "```\n",
    "\n",
    "Here, each fruit is assigned an index starting from 0. Understanding this index system is crucial for working with lists in Python.\n",
    "\n",
    "#### **Side Note:**\n",
    "Lists are often compared to arrays in other programming languages, but in Python, lists are more flexible and can be heterogeneous, meaning they can store elements of different data types."
   ]
  },
  {
   "cell_type": "markdown",
   "metadata": {},
   "source": [
    "*Reflection Question:*\n",
    "\n",
    "**What is the key characteristic that distinguishes a list from a variable in Python?**\n",
    "- a. Indexing\n",
    "- b. Mutability\n",
    "- c. Data types\n",
    "- d. Encapsulation\n",
    "\n",
    "<details>\n",
    "<summary>Click to reveal the answer:</summary>\n",
    "b. Mutability"
   ]
  },
  {
   "cell_type": "markdown",
   "metadata": {},
   "source": [
    "### **1.2 Creating Lists**\n",
    "\n",
    "#### **Syntax for Creating Lists:**\n",
    "To create a list in Python, you use square brackets `[]` and separate the elements with commas. Lists can contain elements of different data types, and these elements can be variables or direct values.\n",
    "\n",
    "```python\n",
    "# Example of creating a list\n",
    "fruits = ['apple', 'banana', 'cherry']\n",
    "```\n",
    "\n",
    "#### **Examples with Different Data Types:**\n",
    "Lists can accommodate various data types, allowing for flexibility in data storage.\n",
    "\n",
    "```python\n",
    "# List of integers\n",
    "numbers = [1, 2, 3, 4, 5]\n",
    "\n",
    "# List of mixed data types\n",
    "mixed_list = [1, 'apple', 3.14, True]\n",
    "```"
   ]
  },
  {
   "cell_type": "markdown",
   "metadata": {},
   "source": [
    "#### **Using Functions for List Creation:**\n",
    "It's common to use functions to create lists dynamically. This is especially useful when dealing with large datasets or when the list elements follow a pattern.\n",
    "\n",
    "```python\n",
    "# Function to create a list of squares\n",
    "def create_square_list(n):\n",
    "    return [i**2 for i in range(n)]\n",
    "\n",
    "# Example usage\n",
    "squares = create_square_list(5)  # Results in [0, 1, 4, 9, 16]\n",
    "```\n",
    "\n",
    "#### **Visual Representation:**\n",
    "Consider a list of days in a week:\n",
    "```\n",
    "Index  |  0      1       2       3       4       5       6\n",
    "------------------------------------------------------------\n",
    "Value  | 'Mon' 'Tue' 'Wed' 'Thu' 'Fri' 'Sat' 'Sun'\n",
    "```"
   ]
  },
  {
   "cell_type": "markdown",
   "metadata": {},
   "source": [
    "#### **Side Note:**\n",
    "Lists are dynamic, meaning you can change their size and contents during program execution. This flexibility is one of the advantages of using lists in Python.\n",
    "\n",
    "*Reflection Question:*\n",
    "\n",
    "**Which of the following statements is true about creating lists in Python?**\n",
    "- a. Lists can only contain elements of the same data type.\n",
    "- b. Lists must be defined with a fixed size.\n",
    "- c. Lists can be modified after creation.\n",
    "- d. Lists can only be created using the `list()` constructor.\n",
    "\n",
    "<details>\n",
    "<summary>Click to reveal the answer:</summary>\n",
    "c. Lists can be modified after creation."
   ]
  },
  {
   "cell_type": "markdown",
   "metadata": {},
   "source": [
    "### **1.3 Accessing List Elements**\n",
    "\n",
    "#### **Indexing in Lists:**\n",
    "List elements are accessed using an index, which is an integer representing the position of an element in the list. In Python, indexing starts from 0 for the first element.\n",
    "\n",
    "```python\n",
    "# Accessing elements by index\n",
    "fruits = ['apple', 'banana', 'cherry']\n",
    "\n",
    "first_fruit = fruits[0]  # 'apple'\n",
    "second_fruit = fruits[1]  # 'banana'\n",
    "```"
   ]
  },
  {
   "cell_type": "markdown",
   "metadata": {},
   "source": [
    "#### **Negative Indexing:**\n",
    "Negative indexing allows you to access elements from the end of the list. `-1` refers to the last element, `-2` to the second last, and so on.\n",
    "\n",
    "```python\n",
    "# Accessing elements with negative indexing\n",
    "last_fruit = fruits[-1]  # 'cherry'\n",
    "second_last_fruit = fruits[-2]  # 'banana'\n",
    "```"
   ]
  },
  {
   "cell_type": "markdown",
   "metadata": {},
   "source": [
    "#### **Slicing Lists:**\n",
    "Slicing is a technique to extract a portion of a list. It is done using the colon `:` symbol. The syntax is `start:stop:step`.\n",
    "\n",
    "```python\n",
    "# Slicing a list\n",
    "numbers = [0, 1, 2, 3, 4, 5]\n",
    "\n",
    "subset = numbers[1:4]  # [1, 2, 3]\n",
    "even_numbers = numbers[::2]  # [0, 2, 4]\n",
    "```\n",
    "\n",
    "#### **Example Scenarios:**\n",
    "Consider a list of temperatures throughout the week:\n",
    "```\n",
    "Index  |  0   1   2   3   4   5   6\n",
    "-----------------------------------\n",
    "Value  | 25  26  24  23  22  25  27\n",
    "```\n",
    "- Accessing the temperature on the third day: `temperatures[2]`\n",
    "- Extracting temperatures from day 2 to day 5: `temperatures[1:5]`"
   ]
  },
  {
   "cell_type": "markdown",
   "metadata": {},
   "source": [
    "#### **Side Note:**\n",
    "Understanding indexing and slicing is crucial for working with lists efficiently. Pay attention to off-by-one errors, especially when dealing with the first and last elements.\n",
    "\n",
    "*Reflection Question:*\n",
    "\n",
    "**What will be the result of `numbers[-3:]` where `numbers = [0, 1, 2, 3, 4, 5]`?**\n",
    "- a. `[3, 4, 5]`\n",
    "- b. `[2, 3, 4, 5]`\n",
    "- c. `[2, 3, 4]`\n",
    "- d. `[0, 1, 2, 3]`\n",
    "\n",
    "<details>\n",
    "<summary>Click to reveal the answer:</summary>\n",
    "a. `[3, 4, 5]`"
   ]
  },
  {
   "cell_type": "markdown",
   "metadata": {},
   "source": [
    "### **1.4 Modifying Lists**\n",
    "\n",
    "#### **Changing Elements in a List:**\n",
    "Lists are mutable, meaning you can modify their elements after creation. Access the element by index and assign a new value to it.\n",
    "\n",
    "```python\n",
    "# Modifying elements in a list\n",
    "fruits = ['apple', 'banana', 'cherry']\n",
    "\n",
    "fruits[1] = 'grape'  # Changing 'banana' to 'grape'\n",
    "```"
   ]
  },
  {
   "cell_type": "markdown",
   "metadata": {},
   "source": [
    "#### **Adding Elements to a List:**\n",
    "- **Append:** Adds an element to the end of the list.\n",
    "- **Insert:** Adds an element at a specified index, moving the existing elements to accommodate the new one.\n",
    "\n",
    "```python\n",
    "# Adding elements to a list\n",
    "fruits = ['apple', 'cherry']\n",
    "\n",
    "fruits.append('banana')  # Adding 'banana' to the end\n",
    "fruits.insert(1, 'orange')  # Inserting 'orange' at index 1\n",
    "```"
   ]
  },
  {
   "cell_type": "code",
   "execution_count": 53,
   "metadata": {},
   "outputs": [
    {
     "name": "stdout",
     "output_type": "stream",
     "text": [
      "['apple', 'cherry', 'banana']\n",
      "['apple', 'orange', 'cherry', 'banana']\n"
     ]
    }
   ],
   "source": [
    "# Adding elements to a list\n",
    "fruits = ['apple', 'cherry']\n",
    "\n",
    "fruits.append('banana')  # Adding 'banana' to the end\n",
    "print(fruits)\n",
    "fruits.insert(1, 'orange')  # Inserting 'orange' at index 1\n",
    "print(fruits)"
   ]
  },
  {
   "cell_type": "markdown",
   "metadata": {},
   "source": [
    "#### **Removing Elements from a List:**\n",
    "- **Remove:** Removes the first occurrence of a specified value.\n",
    "- **Pop:** Removes the element at a specified position. If no index is provided, it removes the last element.\n",
    "\n",
    "```python\n",
    "# Removing elements from a list\n",
    "fruits = ['apple', 'orange', 'banana']\n",
    "\n",
    "fruits.remove('orange')  # Removing 'orange'\n",
    "removed_fruit = fruits.pop(1)  # Removing element at index 1 (returns the removed value)\n",
    "```"
   ]
  },
  {
   "cell_type": "code",
   "execution_count": 57,
   "metadata": {},
   "outputs": [
    {
     "name": "stdout",
     "output_type": "stream",
     "text": [
      "['apple', 'banana', 'orange']\n",
      "['apple', 'orange']\n",
      "banana\n"
     ]
    }
   ],
   "source": [
    "# Removing elements from a list\n",
    "fruits = ['apple', 'orange', 'banana', 'orange']\n",
    "\n",
    "fruits.remove('orange')  # Removing 'orange'\n",
    "print(fruits)\n",
    "removed_fruit = fruits.pop(1)  # Removing element at index 1 (returns the removed value)\n",
    "print(fruits)\n",
    "print(removed_fruit)"
   ]
  },
  {
   "cell_type": "markdown",
   "metadata": {},
   "source": [
    "#### **Example Scenario:**\n",
    "Consider a list of students:\n",
    "```\n",
    "Index  |  0         1         2         3\n",
    "-------------------------------------------\n",
    "Value  | 'Alice'  'Bob'   'Charlie' 'David'\n",
    "```\n",
    "- Changing 'Bob' to 'Robert': `students[1] = 'Robert'`\n",
    "- Adding 'Eva' at the end: `students.append('Eva')`\n",
    "- Removing 'Charlie': `students.remove('Charlie')`\n",
    "\n",
    "#### **Side Note:**\n",
    "When using `pop()`, be cautious with the index to avoid `IndexError` if the index is out of range."
   ]
  },
  {
   "cell_type": "markdown",
   "metadata": {},
   "source": [
    "*Reflection Question:*\n",
    "\n",
    "**What will be the result of the following code?**\n",
    "```python\n",
    "numbers = [1, 2, 3, 4]\n",
    "numbers.append([5, 6])\n",
    "```\n",
    "- a. `[1, 2, 3, 4, 5, 6]`\n",
    "- b. `[1, 2, 3, 4, [5, 6]]`\n",
    "- c. `[1, 2, 3, [5, 6], 4]`\n",
    "- d. `[1, 2, 3, 4, 5, 6]`\n",
    "\n",
    "<details>\n",
    "<summary>Click to reveal the answer:</summary>\n",
    "b. `[1, 2, 3, 4, [5, 6]]`"
   ]
  },
  {
   "cell_type": "markdown",
   "metadata": {},
   "source": [
    "### **1.5 List Operations**\n",
    "\n",
    "#### **Concatenation of Lists:**\n",
    "Lists can be combined using the `+` operator, resulting in a new list that contains elements from both lists.\n",
    "\n",
    "```python\n",
    "# Concatenating lists\n",
    "list1 = [1, 2, 3]\n",
    "list2 = ['a', 'b', 'c']\n",
    "\n",
    "combined_list = list1 + list2  # Results in [1, 2, 3, 'a', 'b', 'c']\n",
    "```"
   ]
  },
  {
   "cell_type": "markdown",
   "metadata": {},
   "source": [
    "#### **Repetition of Lists:**\n",
    "Lists can be multiplied by an integer to create a new list with repeated elements.\n",
    "\n",
    "```python\n",
    "# Repeating a list\n",
    "original_list = [1, 2, 3]\n",
    "\n",
    "repeated_list = original_list * 3  # Results in [1, 2, 3, 1, 2, 3, 1, 2, 3]\n",
    "```\n",
    "\n",
    "#### **Length of a List:**\n",
    "The `len()` function is used to determine the number of elements in a list.\n",
    "\n",
    "```python\n",
    "# Finding the length of a list\n",
    "fruits = ['apple', 'banana', 'cherry']\n",
    "\n",
    "num_fruits = len(fruits)  # Results in 3\n",
    "```"
   ]
  },
  {
   "cell_type": "markdown",
   "metadata": {},
   "source": [
    "#### **Visual Representation:**\n",
    "Consider two lists:\n",
    "```\n",
    "List1:  [1, 2, 3]\n",
    "List2:  ['a', 'b', 'c']\n",
    "```\n",
    "- Concatenating: `List1 + List2` results in `[1, 2, 3, 'a', 'b', 'c']`\n",
    "- Repeating: `List1 * 2` results in `[1, 2, 3, 1, 2, 3]`\n",
    "\n",
    "#### **Side Note:**\n",
    "List concatenation and repetition are operations that can be performed efficiently, even with large lists."
   ]
  },
  {
   "cell_type": "markdown",
   "metadata": {},
   "source": [
    "*Reflection Question:*\n",
    "\n",
    "**What is the result of `['a', 'b'] + ['c', 'd']`?**\n",
    "- a. `['a', 'b', 'c', 'd']`\n",
    "- b. `[['a', 'b'], ['c', 'd']]`\n",
    "- c. `['a', 'b', ['c', 'd']]`\n",
    "- d. `['a', 'b', 'c', 'd']`\n",
    "\n",
    "<details>\n",
    "<summary>Click to reveal the answer:</summary>\n",
    "a. `['a', 'b', 'c', 'd']`"
   ]
  },
  {
   "cell_type": "markdown",
   "metadata": {},
   "source": [
    "### **1.6 List Methods**\n",
    "\n",
    "#### **Commonly Used List Methods:**\n",
    "\n",
    "#### **1. `append(element):`**\n",
    "Adds a single element to the end of the list.\n",
    "\n",
    "```python\n",
    "# Using append() method\n",
    "fruits = ['apple', 'banana']\n",
    "fruits.append('cherry')  # Results in ['apple', 'banana', 'cherry']\n",
    "```\n",
    "\n",
    "#### **2. `insert(index, element):`**\n",
    "Inserts an element at a specific position in the list.\n",
    "\n",
    "```python\n",
    "# Using insert() method\n",
    "fruits = ['apple', 'cherry']\n",
    "fruits.insert(1, 'banana')  # Results in ['apple', 'banana', 'cherry']\n",
    "```"
   ]
  },
  {
   "cell_type": "markdown",
   "metadata": {},
   "source": [
    "#### **3. `remove(element):`**\n",
    "Removes the first occurrence of the specified element.\n",
    "\n",
    "```python\n",
    "# Using remove() method\n",
    "fruits = ['apple', 'banana', 'cherry']\n",
    "fruits.remove('banana')  # Results in ['apple', 'cherry']\n",
    "```\n",
    "\n",
    "#### **4. `pop(index):`**\n",
    "Removes and returns the element at the specified position. If no index is provided, removes the last element.\n",
    "\n",
    "```python\n",
    "# Using pop() method\n",
    "fruits = ['apple', 'banana', 'cherry']\n",
    "removed_fruit = fruits.pop(1)  # Results in 'banana', fruits is now ['apple', 'cherry']\n",
    "```\n",
    "\n",
    "#### **5. `count(element):`**\n",
    "Returns the number of occurrences of a specified element in the list.\n",
    "\n",
    "```python\n",
    "# Using count() method\n",
    "numbers = [1, 2, 3, 2, 4, 2, 5]\n",
    "count_of_twos = numbers.count(2)  # Results in 3\n",
    "```"
   ]
  },
  {
   "cell_type": "markdown",
   "metadata": {},
   "source": [
    "#### **6. `index(element):`**\n",
    "Returns the index of the first occurrence of the specified element.\n",
    "\n",
    "```python\n",
    "# Using index() method\n",
    "fruits = ['apple', 'banana', 'cherry']\n",
    "banana_index = fruits.index('banana')  # Results in 1\n",
    "```\n",
    "\n",
    "#### **7. `sort():`**\n",
    "Sorts the elements of a list in ascending order. If the list contains a mix of data types, an error will occur unless the `key` parameter is used.\n",
    "\n",
    "```python\n",
    "# Using sort() method\n",
    "numbers = [4, 1, 3, 2, 5]\n",
    "numbers.sort()  # Results in [1, 2, 3, 4, 5]\n",
    "```"
   ]
  },
  {
   "cell_type": "code",
   "execution_count": 65,
   "metadata": {},
   "outputs": [
    {
     "name": "stdout",
     "output_type": "stream",
     "text": [
      "0\n",
      "1\n"
     ]
    }
   ],
   "source": [
    "fruits = ['apple', 'banana', 'cherry', 'banana']\n",
    "print(fruits.count('bananaa'))\n",
    "if 'banana' in fruits:\n",
    "    banana_index = fruits.index('banana')  # Results in 1\n",
    "    print(banana_index)"
   ]
  },
  {
   "cell_type": "markdown",
   "metadata": {},
   "source": [
    "#### **Visual Representation:**\n",
    "Consider the list of numbers: `[4, 1, 3, 2, 5]`\n",
    "- Using `sort()`: `numbers.sort()` results in `[1, 2, 3, 4, 5]`\n",
    "\n",
    "#### **Side Note:**\n",
    "List methods provide powerful tools for manipulating and managing list data efficiently."
   ]
  },
  {
   "cell_type": "code",
   "execution_count": 68,
   "metadata": {},
   "outputs": [
    {
     "name": "stdout",
     "output_type": "stream",
     "text": [
      "['aba', 'abc', 'abcde']\n"
     ]
    }
   ],
   "source": [
    "l = ['abc', 'aba', 'abcde']\n",
    "l.sort()\n",
    "print(l)"
   ]
  },
  {
   "cell_type": "markdown",
   "metadata": {},
   "source": [
    "*Reflection Question:*\n",
    "\n",
    "**What will be the result of the following code?**\n",
    "```python\n",
    "numbers = [1, 2, 3, 2, 4, 2, 5]\n",
    "numbers.remove(2)\n",
    "```\n",
    "- a. `[1, 3, 4, 2, 5]`\n",
    "- b. `[1, 3, 4, 5]`\n",
    "- c. `[1, 3, 2, 4, 2, 5]`\n",
    "- d. `[1, 3, 2, 4, 5]`\n",
    "\n",
    "<details>\n",
    "<summary>Click to reveal the answer:</summary>\n",
    "b. `[1, 3, 4, 5]`"
   ]
  },
  {
   "cell_type": "markdown",
   "metadata": {},
   "source": [
    "### **1.7 List Comprehensions**\n",
    "\n",
    "#### **Syntax and Structure:**\n",
    "List comprehensions provide a concise way to create lists in a single line of code. The basic structure includes an expression followed by a `for` clause and optionally one or more `if` clauses.\n",
    "\n",
    "```python\n",
    "# Basic syntax of list comprehension\n",
    "squares = [x**2 for x in range(5)]\n",
    "# Results in [0, 1, 4, 9, 16]\n",
    "```\n",
    "\n",
    "#### **Benefits and Applications:**\n",
    "- **Conciseness:** List comprehensions are shorter and often more readable than equivalent traditional loops.\n",
    "- **Efficiency:** They can be more efficient in terms of both time and space.\n",
    "- **Clarity:** Expressing the creation of a list in a single line enhances code clarity."
   ]
  },
  {
   "cell_type": "markdown",
   "metadata": {},
   "source": [
    "#### **Examples:**\n",
    "\n",
    "**1. Creating a list of even numbers:**\n",
    "```python\n",
    "evens = [x for x in range(10) if x % 2 == 0]\n",
    "# Results in [0, 2, 4, 6, 8]\n",
    "```\n",
    "\n",
    "**2. Extracting vowels from a string:**\n",
    "```python\n",
    "word = \"python\"\n",
    "vowels = [char for char in word if char in 'aeiou']\n",
    "# Results in ['o']\n",
    "```"
   ]
  },
  {
   "cell_type": "markdown",
   "metadata": {},
   "source": [
    "#### **Visual Representation:**\n",
    "Consider the list of numbers: `[0, 1, 2, 3, 4]`\n",
    "- Using a list comprehension to create squares: `[x**2 for x in numbers]`\n",
    "\n",
    "#### **Side Note:**\n",
    "List comprehensions are not only limited to creating lists but also widely used for filtering and transforming existing lists.\n",
    "\n",
    "*Reflection Question:*\n",
    "\n",
    "**What is the purpose of the `if` clause in a list comprehension?**\n",
    "- a. To create a conditional statement for the expression.\n",
    "- b. To specify the data type of the elements in the list.\n",
    "- c. To loop through the elements of the list.\n",
    "- d. To concatenate two lists.\n",
    "\n",
    "<details>\n",
    "<summary>Click to reveal the answer:</summary>\n",
    "a. To create a conditional statement for the expression."
   ]
  },
  {
   "cell_type": "markdown",
   "metadata": {},
   "source": [
    "### **1.8 Practical Applications**\n",
    "\n",
    "#### **Real-World Examples of Using Lists:**\n",
    "\n",
    "#### **1. Inventory Management:**\n",
    "Lists are often used to manage inventory in various industries. Each element of the list represents a product, and the list can include details like name, quantity, and price.\n",
    "\n",
    "```python\n",
    "# Example of inventory management\n",
    "inventory = [\n",
    "    {'product': 'laptop', 'quantity': 50, 'price': 899.99},\n",
    "    {'product': 'printer', 'quantity': 20, 'price': 149.99},\n",
    "    # ...\n",
    "]\n",
    "```"
   ]
  },
  {
   "cell_type": "markdown",
   "metadata": {},
   "source": [
    "#### **2. Student Grades:**\n",
    "In educational settings, lists can be employed to store and manipulate student grades. Each element could represent a student's grades for different subjects.\n",
    "\n",
    "```python\n",
    "# Example of student grades\n",
    "student_grades = [\n",
    "    {'name': 'Alice', 'grades': [85, 90, 92]},\n",
    "    {'name': 'Bob', 'grades': [78, 85, 80]},\n",
    "    # ...\n",
    "]\n",
    "```\n",
    "\n",
    "#### **3. To-Do Lists:**\n",
    "Managing tasks becomes more organized using lists. Each task can be an element, and additional details like priority or due date can be included.\n",
    "\n",
    "```python\n",
    "# Example of a to-do list\n",
    "todo_list = [\n",
    "    {'task': 'Write report', 'priority': 'High', 'due_date': '2023-12-01'},\n",
    "    {'task': 'Prepare presentation', 'priority': 'Medium', 'due_date': '2023-12-05'},\n",
    "    # ...\n",
    "]\n",
    "```"
   ]
  },
  {
   "cell_type": "markdown",
   "metadata": {},
   "source": [
    "#### **4. Data Analysis:**\n",
    "In data science, lists play a vital role in handling datasets. Each element can represent a data point or a feature, facilitating analysis and manipulation.\n",
    "\n",
    "```python\n",
    "# Example of data analysis\n",
    "data_points = [45.2, 53.8, 48.5, 50.1, 52.3, 47.9, ...]\n",
    "```\n",
    "\n",
    "#### **5. Shopping Cart:**\n",
    "In e-commerce applications, lists are used to manage shopping carts. Each element represents a product, and the list keeps track of the user's selected items.\n",
    "\n",
    "```python\n",
    "# Example of a shopping cart\n",
    "shopping_cart = [\n",
    "    {'product': 'smartphone', 'price': 699.99, 'quantity': 2},\n",
    "    {'product': 'headphones', 'price': 129.99, 'quantity': 1},\n",
    "    # ...\n",
    "]\n",
    "```"
   ]
  },
  {
   "cell_type": "markdown",
   "metadata": {},
   "source": [
    "#### **Importance in Data Manipulation:**\n",
    "Lists serve as a foundational data structure for more complex data manipulation tasks, making them indispensable in various programming scenarios.\n",
    "\n",
    "#### **Side Note:**\n",
    "Understanding the practical applications of lists is crucial for developing effective and efficient programs for real-world problems.\n",
    "\n",
    "\n",
    "*Reflection Question:*\n",
    "\n",
    "**In which scenario would using a list be most appropriate?**\n",
    "- a. Storing a single numerical value.\n",
    "- b. Managing a collection of student grades.\n",
    "- c. Representing a single data point in a scientific experiment.\n",
    "- d. Storing the result of a mathematical computation.\n",
    "\n",
    "<details>\n",
    "<summary>Click to reveal the answer:</summary>\n",
    "b. Managing a collection of student grades."
   ]
  },
  {
   "cell_type": "markdown",
   "metadata": {},
   "source": [
    "### **2.1 Creating and Manipulating Lists - Lab**\n",
    "\n",
    "#### **Objective:**\n",
    "Gain hands-on experience in creating and manipulating lists in Python.\n",
    "\n",
    "#### **Lab Exercises:**\n",
    "\n",
    "#### **Exercise 1: Creating Lists**\n",
    "1. Create a list named `months` containing the names of the twelve months.\n",
    "2. Create a list named `even_numbers` with the first five even numbers.\n",
    "\n",
    "```python\n",
    "# Exercise 1: Creating Lists\n",
    "months = ['January', 'February', 'March', 'April', 'May', 'June', 'July', 'August', 'September', 'October', 'November', 'December']\n",
    "even_numbers = [2, 4, 6, 8, 10]\n",
    "```"
   ]
  },
  {
   "cell_type": "code",
   "execution_count": null,
   "metadata": {},
   "outputs": [],
   "source": [
    "# Test code here"
   ]
  },
  {
   "cell_type": "markdown",
   "metadata": {},
   "source": [
    "#### **Exercise 2: Modifying Lists**\n",
    "1. Add 'June' to the `months` list.\n",
    "2. Change the third element of `even_numbers` to 12.\n",
    "\n",
    "```python\n",
    "# Exercise 2: Modifying Lists\n",
    "months.append('June')\n",
    "even_numbers[2] = 12\n",
    "```"
   ]
  },
  {
   "cell_type": "code",
   "execution_count": null,
   "metadata": {},
   "outputs": [],
   "source": [
    "# Test code here"
   ]
  },
  {
   "cell_type": "markdown",
   "metadata": {},
   "source": [
    "#### **Exercise 3: Combining Lists**\n",
    "1. Create a new list named `combined` by concatenating `months` and `even_numbers`.\n",
    "2. Repeat the `months` list three times and store the result in a new list named `months_repeated`.\n",
    "\n",
    "```python\n",
    "# Exercise 3: Combining Lists\n",
    "combined = months + even_numbers\n",
    "months_repeated = months * 3\n",
    "```"
   ]
  },
  {
   "cell_type": "code",
   "execution_count": null,
   "metadata": {},
   "outputs": [],
   "source": [
    "# Test code here"
   ]
  },
  {
   "cell_type": "markdown",
   "metadata": {},
   "source": [
    "#### **Exercise 4: Removing Elements**\n",
    "1. Remove 'July' from the `months` list.\n",
    "2. Pop the last element from `even_numbers` and store it in a variable named `removed_number`.\n",
    "\n",
    "```python\n",
    "# Exercise 4: Removing Elements\n",
    "months.remove('July')\n",
    "removed_number = even_numbers.pop()\n",
    "```"
   ]
  },
  {
   "cell_type": "code",
   "execution_count": null,
   "metadata": {},
   "outputs": [],
   "source": [
    "# Test code here"
   ]
  },
  {
   "cell_type": "markdown",
   "metadata": {},
   "source": [
    "#### **Exercise 5: List Comprehension**\n",
    "1. Create a list named `squared_numbers` using list comprehension, containing the squares of numbers from 1 to 5.\n",
    "\n",
    "```python\n",
    "# Exercise 5: List Comprehension\n",
    "squared_numbers = [x**2 for x in range(1, 6)]\n",
    "```"
   ]
  },
  {
   "cell_type": "code",
   "execution_count": null,
   "metadata": {},
   "outputs": [],
   "source": [
    "# Test code here"
   ]
  },
  {
   "cell_type": "markdown",
   "metadata": {},
   "source": [
    "#### **Challenge:**\n",
    "Create a list named `temperature` with seven temperature values. Use list comprehension to create a new list named `above_25` containing temperatures above 25 degrees.\n",
    "\n",
    "```python\n",
    "# Challenge\n",
    "temperature = [22, 26, 24, 30, 28, 22, 26]\n",
    "above_25 = [temp for temp in temperature if temp > 25]\n",
    "```"
   ]
  },
  {
   "cell_type": "code",
   "execution_count": null,
   "metadata": {},
   "outputs": [],
   "source": [
    "# Test code here"
   ]
  },
  {
   "cell_type": "markdown",
   "metadata": {},
   "source": [
    "*Reflection Question:*\n",
    "\n",
    "**Why is list comprehension a useful technique, and in which exercises did you find it particularly effective?**\n",
    "- a. List comprehension is useful for concise list creation; it was effective in Exercise 5 for creating squared numbers.\n",
    "- b. List comprehension simplifies removing elements from a list; it was effective in Exercise 4.\n",
    "- c. List comprehension is essential for concatenating lists; it was effective in Exercise 3.\n",
    "- d. List comprehension is not necessary for basic list manipulation.\n",
    "\n",
    "<details>\n",
    "<summary>Click to reveal the answer:</summary>\n",
    "- a. List comprehension is useful for concise list creation; it was effective in Exercise 5 for creating squared numbers."
   ]
  },
  {
   "cell_type": "markdown",
   "metadata": {},
   "source": [
    "### **2.2 List Operations Practice - Lab**\n",
    "\n",
    "#### **Objective:**\n",
    "Practice and reinforce understanding of list operations in Python.\n",
    "\n",
    "#### **Lab Exercises:**\n",
    "\n",
    "#### **Exercise 1: Concatenation and Repetition**\n",
    "1. Create two lists, `list1` and `list2`, containing any three elements each.\n",
    "2. Concatenate the two lists and store the result in a new list called `concatenated_list`.\n",
    "3. Repeat `list1` three times and store the result in a new list called `repeated_list`.\n",
    "\n",
    "```python\n",
    "# Exercise 1: Concatenation and Repetition\n",
    "list1 = ['apple', 'banana', 'cherry']\n",
    "list2 = [1, 2, 3]\n",
    "\n",
    "concatenated_list = list1 + list2\n",
    "repeated_list = list1 * 3\n",
    "```"
   ]
  },
  {
   "cell_type": "code",
   "execution_count": null,
   "metadata": {},
   "outputs": [],
   "source": [
    "# Test code here"
   ]
  },
  {
   "cell_type": "markdown",
   "metadata": {},
   "source": [
    "#### **Exercise 2: Length of a List**\n",
    "1. Create a list named `numbers` containing the integers from 1 to 5.\n",
    "2. Find and print the length of the `numbers` list.\n",
    "\n",
    "```python\n",
    "# Exercise 2: Length of a List\n",
    "numbers = [1, 2, 3, 4, 5]\n",
    "length_of_numbers = len(numbers)\n",
    "print(\"Length of numbers:\", length_of_numbers)\n",
    "```"
   ]
  },
  {
   "cell_type": "code",
   "execution_count": null,
   "metadata": {},
   "outputs": [],
   "source": [
    "# Test code here"
   ]
  },
  {
   "cell_type": "markdown",
   "metadata": {},
   "source": [
    "#### **Exercise 3: Practical Application**\n",
    "1. Imagine you are building a shopping cart for an online store. Create a list named `cart` with three items, each represented as a dictionary with keys 'product', 'price', and 'quantity'.\n",
    "2. Calculate and print the total cost of items in the shopping cart.\n",
    "\n",
    "```python\n",
    "# Exercise 3: Practical Application\n",
    "cart = [\n",
    "    {'product': 'laptop', 'price': 899.99, 'quantity': 2},\n",
    "    {'product': 'headphones', 'price': 129.99, 'quantity': 1},\n",
    "    {'product': 'mouse', 'price': 19.99, 'quantity': 3}\n",
    "]\n",
    "\n",
    "total_cost = sum(item['price'] * item['quantity'] for item in cart)\n",
    "print(\"Total cost of items in the cart:\", total_cost)\n",
    "```"
   ]
  },
  {
   "cell_type": "code",
   "execution_count": null,
   "metadata": {},
   "outputs": [],
   "source": [
    "# Test code here"
   ]
  },
  {
   "cell_type": "markdown",
   "metadata": {},
   "source": [
    "#### **Exercise 4: List Comprehension**\n",
    "1. Create a list named `squares` using list comprehension, containing the squares of even numbers from 1 to 10.\n",
    "\n",
    "```python\n",
    "# Exercise 4: List Comprehension\n",
    "squares = [x**2 for x in range(2, 11, 2)]\n",
    "```"
   ]
  },
  {
   "cell_type": "code",
   "execution_count": null,
   "metadata": {},
   "outputs": [],
   "source": [
    "# Test code here"
   ]
  },
  {
   "cell_type": "markdown",
   "metadata": {},
   "source": [
    "#### **Challenge:**\n",
    "Create a list named `mixed_data` containing a mix of integers, strings, and floats. Use list comprehension to create a new list named `only_integers` containing only the integer elements from `mixed_data`.\n",
    "\n",
    "```python\n",
    "# Challenge\n",
    "mixed_data = [10, 'apple', 3.14, 'banana', 7, 8.5]\n",
    "only_integers = [item for item in mixed_data if isinstance(item, int)]\n",
    "```"
   ]
  },
  {
   "cell_type": "code",
   "execution_count": null,
   "metadata": {},
   "outputs": [],
   "source": [
    "# Test code here"
   ]
  },
  {
   "cell_type": "markdown",
   "metadata": {},
   "source": [
    "*Reflection Question:*\n",
    "\n",
    "**How did understanding list operations contribute to solving practical problems in the exercises?**\n",
    "- a. List operations provided efficient ways to combine and repeat lists, solving Exercise 1.\n",
    "- b. Knowing the length of a list was crucial for Exercise 2.\n",
    "- c. List operations facilitated practical applications, such as calculating the total cost in Exercise 3.\n",
    "- d. List comprehension proved valuable in generating specific lists, as seen in Exercise 4.\n",
    "\n",
    "<details>\n",
    "<summary>Click to reveal the answer:</summary>\n",
    "c. List operations facilitated practical applications, such as calculating the total cost in Exercise 3."
   ]
  },
  {
   "cell_type": "markdown",
   "metadata": {},
   "source": [
    "### **2.3 List Methods Exploration - Lab**\n",
    "\n",
    "#### **Objective:**\n",
    "Explore and practice using various list methods in Python.\n",
    "\n",
    "#### **Lab Exercises:**\n",
    "\n",
    "#### **Exercise 1: Modifying Lists**\n",
    "1. Create a list named `fruits` with three different fruit names.\n",
    "2. Use the `append()` method to add a new fruit to the end of the list.\n",
    "3. Use the `insert()` method to add another fruit at the second position.\n",
    "\n",
    "```python\n",
    "# Exercise 1: Modifying Lists\n",
    "fruits = ['apple', 'banana', 'cherry']\n",
    "fruits.append('orange')\n",
    "fruits.insert(1, 'grape')\n",
    "```"
   ]
  },
  {
   "cell_type": "code",
   "execution_count": null,
   "metadata": {},
   "outputs": [],
   "source": [
    "# Test code here"
   ]
  },
  {
   "cell_type": "markdown",
   "metadata": {},
   "source": [
    "#### **Exercise 2: Removing Elements**\n",
    "1. Remove the fruit 'banana' from the `fruits` list using the `remove()` method.\n",
    "2. Pop the last element from the `fruits` list using the `pop()` method and store it in a variable named `removed_fruit`.\n",
    "\n",
    "```python\n",
    "# Exercise 2: Removing Elements\n",
    "fruits.remove('banana')\n",
    "removed_fruit = fruits.pop()\n",
    "```"
   ]
  },
  {
   "cell_type": "code",
   "execution_count": null,
   "metadata": {},
   "outputs": [],
   "source": [
    "# Test code here"
   ]
  },
  {
   "cell_type": "markdown",
   "metadata": {},
   "source": [
    "#### **Exercise 3: Count and Index**\n",
    "1. Create a list named `numbers` with repeated occurrences of the number 5.\n",
    "2. Use the `count()` method to find and print the number of times 5 appears in the list.\n",
    "3. Use the `index()` method to find and print the index of the first occurrence of 5.\n",
    "\n",
    "```python\n",
    "# Exercise 3: Count and Index\n",
    "numbers = [5, 5, 5, 5, 5, 5, 5]\n",
    "count_of_5 = numbers.count(5)\n",
    "index_of_5 = numbers.index(5)\n",
    "```"
   ]
  },
  {
   "cell_type": "code",
   "execution_count": null,
   "metadata": {},
   "outputs": [],
   "source": [
    "# Test code here"
   ]
  },
  {
   "cell_type": "markdown",
   "metadata": {},
   "source": [
    "#### **Exercise 4: Sorting Lists**\n",
    "1. Create a list named `unsorted_numbers` with integers in random order.\n",
    "2. Use the `sort()` method to sort the list in ascending order.\n",
    "\n",
    "```python\n",
    "# Exercise 4: Sorting Lists\n",
    "unsorted_numbers = [4, 1, 7, 3, 9, 2]\n",
    "unsorted_numbers.sort()\n",
    "```"
   ]
  },
  {
   "cell_type": "code",
   "execution_count": null,
   "metadata": {},
   "outputs": [],
   "source": [
    "# Test code here"
   ]
  },
  {
   "cell_type": "markdown",
   "metadata": {},
   "source": [
    "#### **Challenge:**\n",
    "Create a list named `mixed_values` with a mix of integers, strings, and floats. Use the `sort()` method with the `key` parameter to sort the list based on the data type.\n",
    "\n",
    "```python\n",
    "# Challenge\n",
    "mixed_values = [10, 'apple', 3.14, 'banana', 7, 8.5]\n",
    "mixed_values.sort(key=lambda x: type(x).__name__)\n",
    "```"
   ]
  },
  {
   "cell_type": "code",
   "execution_count": null,
   "metadata": {},
   "outputs": [],
   "source": [
    "# Test code here"
   ]
  },
  {
   "cell_type": "markdown",
   "metadata": {},
   "source": [
    "*Reflection Question:*\n",
    "\n",
    "**How did using list methods simplify the process of modifying, removing, and sorting elements in the exercises?**\n",
    "- a. List methods provided concise ways to modify and remove elements, as seen in Exercise 1 and Exercise 2.\n",
    "- b. The count and index methods made it easy to analyze the content of the list in Exercise 3.\n",
    "- c. The sort method streamlined the process of sorting elements in Exercise 4.\n",
    "- d. All of the above.\n",
    "\n",
    "<details>\n",
    "<summary>Click to reveal the answer:</summary>\n",
    "d. All of the above."
   ]
  },
  {
   "cell_type": "markdown",
   "metadata": {},
   "source": [
    "### **2.4 List Comprehension Challenges - Lab**\n",
    "\n",
    "#### **Objective:**\n",
    "Tackle challenges using list comprehensions to reinforce understanding and application.\n",
    "\n",
    "#### **Lab Exercises:**\n",
    "\n",
    "#### **Exercise 1: Filtering Numbers**\n",
    "1. Create a list named `numbers` with integers from 1 to 10.\n",
    "2. Use a list comprehension to create a new list named `even_numbers` containing only the even numbers from the `numbers` list.\n",
    "\n",
    "```python\n",
    "# Exercise 1: Filtering Numbers\n",
    "numbers = [1, 2, 3, 4, 5, 6, 7, 8, 9, 10]\n",
    "even_numbers = [x for x in numbers if x % 2 == 0]\n",
    "```"
   ]
  },
  {
   "cell_type": "code",
   "execution_count": null,
   "metadata": {},
   "outputs": [],
   "source": [
    "# Test code here"
   ]
  },
  {
   "cell_type": "markdown",
   "metadata": {},
   "source": [
    "#### **Exercise 2: Extracting Vowels**\n",
    "1. Create a string named `word` with any word of your choice.\n",
    "2. Use a list comprehension to create a new list named `vowels` containing only the vowels from the `word` string.\n",
    "\n",
    "```python\n",
    "# Exercise 2: Extracting Vowels\n",
    "word = \"python\"\n",
    "vowels = [char for char in word if char in 'aeiou']\n",
    "```"
   ]
  },
  {
   "cell_type": "code",
   "execution_count": null,
   "metadata": {},
   "outputs": [],
   "source": [
    "# Test code here"
   ]
  },
  {
   "cell_type": "markdown",
   "metadata": {},
   "source": [
    "#### **Exercise 3: Power of Two**\n",
    "1. Create a list named `powers_of_two` using a list comprehension, containing the first five powers of 2 (2^0 to 2^4).\n",
    "\n",
    "```python\n",
    "# Exercise 3: Power of Two\n",
    "powers_of_two = [2**x for x in range(5)]\n",
    "```"
   ]
  },
  {
   "cell_type": "code",
   "execution_count": null,
   "metadata": {},
   "outputs": [],
   "source": [
    "# Test code here"
   ]
  },
  {
   "cell_type": "markdown",
   "metadata": {},
   "source": [
    "#### **Exercise 4: Filtering Words**\n",
    "1. Create a list named `words` with three words of varying lengths.\n",
    "2. Use a list comprehension to create a new list named `short_words` containing only the words with less than 5 characters.\n",
    "\n",
    "```python\n",
    "# Exercise 4: Filtering Words\n",
    "words = ['apple', 'banana', 'kiwi']\n",
    "short_words = [word for word in words if len(word) < 5]\n",
    "```"
   ]
  },
  {
   "cell_type": "code",
   "execution_count": null,
   "metadata": {},
   "outputs": [],
   "source": [
    "# Test code here"
   ]
  },
  {
   "cell_type": "markdown",
   "metadata": {},
   "source": [
    "#### **Challenge:**\n",
    "Create a list named `prime_numbers` using a list comprehension, containing the prime numbers from 1 to 20.\n",
    "\n",
    "```python\n",
    "# Challenge\n",
    "prime_numbers = [num for num in range(2, 21) if all(num % i != 0 for i in range(2, int(num**0.5) + 1))]\n",
    "```"
   ]
  },
  {
   "cell_type": "code",
   "execution_count": null,
   "metadata": {},
   "outputs": [],
   "source": [
    "# Test code here"
   ]
  },
  {
   "cell_type": "markdown",
   "metadata": {},
   "source": [
    "#### **Conclusion:**\n",
    "Fantastic job! You've successfully tackled challenges using list comprehensions. These exercises enhance your ability to create concise and effective solutions for various filtering and transformation tasks.\n",
    "\n",
    "*Reflection Question:*\n",
    "\n",
    "**How did the use of list comprehensions simplify the process of filtering and transforming data in the exercises, and in which exercise did you find it particularly effective?**\n",
    "- a. List comprehensions simplified filtering and transforming data, especially in Exercise 1 for filtering even numbers.\n",
    "- b. The expressive nature of list comprehensions made Exercise 2 effective for extracting vowels.\n",
    "- c. Generating a list of powers of two was streamlined with list comprehension in Exercise 3.\n",
    "- d. List comprehensions were not particularly effective in these exercises.\n",
    "\n",
    "<details>\n",
    "<summary>Click to reveal the answer:</summary>\n",
    "c. Generating a list of powers of two was streamlined with list comprehension in Exercise 3."
   ]
  },
  {
   "cell_type": "markdown",
   "metadata": {},
   "source": [
    "### **2.5 Real-World Problem Solving - Lab**\n",
    "\n",
    "#### **Objective:**\n",
    "Apply Python programming skills, including lists and list operations, to solve real-world problems.\n",
    "\n",
    "#### **Lab Exercises:**\n",
    "\n",
    "#### **Exercise 1: Task Scheduler**\n",
    "Imagine you have a list named `tasks` representing tasks for the day. Each task is a dictionary with keys 'task_name', 'priority', and 'estimated_time' (in minutes). Your goal is to perform the following operations:\n",
    "\n",
    "1. **Add a Task:**\n",
    "   - Add a new task named 'Read a Book' with a priority of 'High' and an estimated time of 60 minutes to the `tasks` list.\n",
    "\n",
    "2. **Remove a Task:**\n",
    "   - Remove the task with the name 'Clean the House' from the `tasks` list."
   ]
  },
  {
   "cell_type": "markdown",
   "metadata": {},
   "source": [
    "3. **Sort by Priority:**\n",
    "   - Sort the `tasks` list based on priority in descending order (High to Low).\n",
    "\n",
    "4. **Filter by Estimated Time:**\n",
    "   - Create a new list named `short_tasks` containing tasks with an estimated time of 30 minutes or less.\n",
    "\n",
    "```python\n",
    "# Exercise 1: Task Scheduler\n",
    "tasks = [\n",
    "    {'task_name': 'Clean the House', 'priority': 'Medium', 'estimated_time': 90},\n",
    "    {'task_name': 'Grocery Shopping', 'priority': 'Low', 'estimated_time': 45},\n",
    "    {'task_name': 'Exercise', 'priority': 'High', 'estimated_time': 60}\n",
    "]\n",
    "\n",
    "# Add a Task\n",
    "tasks.append({'task_name': 'Read a Book', 'priority': 'High', 'estimated_time': 60})\n",
    "\n",
    "# Remove a Task\n",
    "tasks = [task for task in tasks if task['task_name'] != 'Clean the House']\n",
    "\n",
    "# Sort by Priority\n",
    "tasks.sort(key=lambda x: x['priority'], reverse=True)\n",
    "\n",
    "# Filter by Estimated Time\n",
    "short_tasks = [task for task in tasks if task['estimated_time'] <= 30]\n",
    "```"
   ]
  },
  {
   "cell_type": "code",
   "execution_count": null,
   "metadata": {},
   "outputs": [],
   "source": [
    "# Test code here"
   ]
  },
  {
   "cell_type": "markdown",
   "metadata": {},
   "source": [
    "#### **Exercise 2: Sales Analysis**\n",
    "Imagine you have a list named `sales` representing daily sales data for a week. Each sale is represented by a dictionary with keys 'day', 'product', and 'amount_sold'. Your goal is to perform the following operations:\n",
    "\n",
    "1. **Total Sales:**\n",
    "   - Calculate and print the total amount sold for the week.\n",
    "\n",
    "2. **Most Sold Product:**\n",
    "   - Find and print the product that sold the most during the week.\n",
    "\n",
    "3. **Daily Average Sales:**\n",
    "   - Calculate and print the average amount sold per day.\n",
    "\n",
    "4. **Filter Low Sales:**\n",
    "   - Create a new list named `high_sales` containing sales with amounts greater than 200."
   ]
  },
  {
   "cell_type": "markdown",
   "metadata": {},
   "source": [
    "```python\n",
    "# Exercise 2: Sales Analysis\n",
    "sales = [\n",
    "    {'day': 'Monday', 'product': 'Laptop', 'amount_sold': 150},\n",
    "    {'day': 'Tuesday', 'product': 'Phone', 'amount_sold': 220},\n",
    "    {'day': 'Wednesday', 'product': 'Tablet', 'amount_sold': 180},\n",
    "    # ... (data for the entire week)\n",
    "]\n",
    "\n",
    "# Total Sales\n",
    "total_sales = sum(sale['amount_sold'] for sale in sales)\n",
    "\n",
    "# Most Sold Product\n",
    "most_sold_product = max(sales, key=lambda x: x['amount_sold'])['product']\n",
    "\n",
    "# Daily Average Sales\n",
    "average_sales_per_day = total_sales / len(sales)\n",
    "\n",
    "# Filter Low Sales\n",
    "high_sales = [sale for sale in sales if sale['amount_sold'] > 200]\n",
    "```"
   ]
  },
  {
   "cell_type": "code",
   "execution_count": null,
   "metadata": {},
   "outputs": [],
   "source": [
    "# Test code here"
   ]
  },
  {
   "cell_type": "markdown",
   "metadata": {},
   "source": [
    "#### **Challenge:**\n",
    "Create a list named `employees` representing employees in a company. Each employee is a dictionary with keys 'name', 'department', and 'salary'. Use list comprehensions to perform the following tasks:\n",
    "\n",
    "1. **Filter by Department:**\n",
    "   - Create a new list named `it_department` containing employees from the IT department.\n",
    "\n",
    "2. **Salary Increase:**\n",
    "   - Increase the salary of all employees in the Sales department by 10%.\n",
    "\n",
    "```python\n",
    "# Challenge\n",
    "employees = [\n",
    "    {'name': 'Alice', 'department': 'IT', 'salary': 60000},\n",
    "    {'name': 'Bob', 'department': 'Sales', 'salary': 50000},\n",
    "    {'name': 'Charlie', 'department': 'IT', 'salary': 70000},\n",
    "    # ... (more employee data)\n",
    "]\n",
    "\n",
    "# Filter by Department\n",
    "it_department = [employee for employee in employees if employee['department'] == 'IT']\n",
    "\n",
    "# Salary Increase\n",
    "employees = [{'name': emp['name'], 'department': emp['department'], 'salary': emp['salary'] * 1.1} if emp['department'] == 'Sales' else emp for emp in employees]\n",
    "```\n",
    "\n",
    "#### **Conclusion:**\n",
    "Fantastic work! You've successfully applied Python programming skills to solve real-world problems using lists and list operations. These exercises demonstrate the versatility of Python in practical scenarios."
   ]
  },
  {
   "cell_type": "code",
   "execution_count": null,
   "metadata": {},
   "outputs": [],
   "source": [
    "# Test code here"
   ]
  },
  {
   "cell_type": "markdown",
   "metadata": {},
   "source": [
    "*Reflection Question:*\n",
    "\n",
    "**How did applying Python programming to real-world scenarios enhance your understanding of lists and list operations?**\n",
    "- a. It helped me see the practical utility of lists and how they can be used for task management and data analysis, as seen in Exercise 1 and Exercise 2.\n",
    "- b. It provided insights into the flexibility of Python in solving diverse problems using lists, as seen in the challenge.\n",
    "- c. It emphasized the importance of list comprehensions for concise and readable code, especially in filtering and transforming data.\n",
    "- d. All of the above.\n",
    "\n",
    "<details>\n",
    "<summary>Click to reveal the answer:</summary>\n",
    "d. All of the above."
   ]
  },
  {
   "cell_type": "markdown",
   "metadata": {},
   "source": [
    "#### **Problem 1: Very Easy**\n",
    "\n",
    "**Problem Statement:**\n",
    "\n",
    "Write a Python function named `square_numbers` that takes a list of numbers as input and returns a new list containing the squares of each number.\n",
    "\n",
    "**Example:**\n",
    "```python\n",
    "input_list = [1, 2, 3, 4, 5]\n",
    "square_result = square_numbers(input_list)\n",
    "print(square_result)\n",
    "```\n",
    "**Output:**\n",
    "```\n",
    "[1, 4, 9, 16, 25]\n",
    "```\n",
    "\n",
    "**Hint:**\n",
    "Use list comprehension to iterate through the input list and calculate the square of each number."
   ]
  },
  {
   "cell_type": "code",
   "execution_count": null,
   "metadata": {},
   "outputs": [],
   "source": [
    "def square_numbers(numbers):\n",
    "    # Your code here\n",
    "    pass\n",
    "\n",
    "# Example function call:\n",
    "input_list = [1, 2, 3, 4, 5]\n",
    "square_result = square_numbers(input_list)\n",
    "print(square_result)"
   ]
  },
  {
   "cell_type": "markdown",
   "metadata": {},
   "source": [
    "#### **Problem 2: Very Easy**\n",
    "\n",
    "**Problem Statement:**\n",
    "\n",
    "Write a Python function named `count_vowels` that takes a string as input and returns the count of vowels in the string.\n",
    "\n",
    "**Example:**\n",
    "```python\n",
    "input_string = \"hello world\"\n",
    "vowel_count = count_vowels(input_string)\n",
    "print(vowel_count)\n",
    "```\n",
    "**Output:**\n",
    "```\n",
    "3\n",
    "```\n",
    "\n",
    "**Hint:**\n",
    "Use a list comprehension to filter out vowels and then find the length of the resulting list."
   ]
  },
  {
   "cell_type": "code",
   "execution_count": null,
   "metadata": {},
   "outputs": [],
   "source": [
    "def count_vowels(input_string):\n",
    "    # Your code here\n",
    "    pass\n",
    "\n",
    "# Example function call:\n",
    "input_string = \"hello world\"\n",
    "vowel_count = count_vowels(input_string)\n",
    "print(vowel_count)"
   ]
  },
  {
   "cell_type": "markdown",
   "metadata": {},
   "source": [
    "#### **Problem 3: Easy**\n",
    "\n",
    "**Problem Statement:**\n",
    "\n",
    "Write a Python function named `reverse_list` that takes a list as input and returns a new list with the elements in reverse order.\n",
    "\n",
    "**Example:**\n",
    "```python\n",
    "input_list = [1, 2, 3, 4, 5]\n",
    "reversed_result = reverse_list(input_list)\n",
    "print(reversed_result)\n",
    "```\n",
    "**Output:**\n",
    "```\n",
    "[5, 4, 3, 2, 1]\n",
    "```\n",
    "\n",
    "**Hint:**\n",
    "You can use slicing to reverse a list."
   ]
  },
  {
   "cell_type": "code",
   "execution_count": null,
   "metadata": {},
   "outputs": [],
   "source": [
    "def reverse_list(input_list):\n",
    "    # Your code here\n",
    "    pass\n",
    "\n",
    "# Example function call:\n",
    "input_list = [1, 2, 3, 4, 5]\n",
    "reversed_result = reverse_list(input_list)\n",
    "print(reversed_result)"
   ]
  },
  {
   "cell_type": "markdown",
   "metadata": {},
   "source": [
    "#### **Problem 4: Easy**\n",
    "\n",
    "**Problem Statement:**\n",
    "\n",
    "Write a Python function named `remove_duplicates` that takes a list as input and returns a new list with duplicate elements removed.\n",
    "\n",
    "**Example:**\n",
    "```python\n",
    "input_list = [1, 2, 2, 3, 4, 4, 5]\n",
    "no_duplicates = remove_duplicates(input_list)\n",
    "print(no_duplicates)\n",
    "```\n",
    "**Output:**\n",
    "```\n",
    "[1, 2, 3, 4, 5]\n",
    "```\n",
    "\n",
    "**Hint:**\n",
    "Consider using a set to automatically remove duplicates."
   ]
  },
  {
   "cell_type": "code",
   "execution_count": null,
   "metadata": {},
   "outputs": [],
   "source": [
    "def remove_duplicates(input_list):\n",
    "    # Your code here\n",
    "    pass\n",
    "\n",
    "# Example function call:\n",
    "input_list = [1, 2, 2, 3, 4, 4, 5]\n",
    "no_duplicates = remove_duplicates(input_list)\n",
    "print(no_duplicates)"
   ]
  },
  {
   "cell_type": "markdown",
   "metadata": {},
   "source": [
    "#### **Problem 5: Medium**\n",
    "\n",
    "**Problem Statement:**\n",
    "\n",
    "Write a Python function named `common_elements` that takes two lists as input and returns a new list containing the common elements between the two lists.\n",
    "\n",
    "**Example:**\n",
    "```python\n",
    "list1 = [1, 2, 3, 4, 5]\n",
    "list2 = [3, 4, 5, 6, 7]\n",
    "common_result = common_elements(list1, list2)\n",
    "print(common_result)\n",
    "```\n",
    "**Output:**\n",
    "```\n",
    "[3, 4, 5]\n",
    "```\n",
    "\n",
    "**Hint:**\n",
    "Consider using list comprehension and the `in` operator."
   ]
  },
  {
   "cell_type": "code",
   "execution_count": null,
   "metadata": {},
   "outputs": [],
   "source": [
    "def common_elements(list1, list2):\n",
    "    # Your code here\n",
    "    pass\n",
    "\n",
    "# Example function call:\n",
    "list1 = [1, 2, 3, 4, 5]\n",
    "list2 = [3, 4, 5, 6, 7]\n",
    "common_result = common_elements(list1, list2)\n",
    "print(common_result)"
   ]
  },
  {
   "cell_type": "markdown",
   "metadata": {},
   "source": [
    "#### **Problem 6: Medium**\n",
    "\n",
    "**Problem Statement:**\n",
    "\n",
    "Write a Python function named `matrix_transpose` that takes a 2D list (matrix) as input and returns a new matrix with its rows and columns swapped.\n",
    "\n",
    "**Example:**\n",
    "```python\n",
    "input_matrix = [[1, 2, 3], [4, 5, 6], [7, 8, 9]]\n",
    "transposed_result = matrix_transpose(input_matrix)\n",
    "print(transposed_result)\n",
    "```\n",
    "**Output:**\n",
    "```\n",
    "[[1, 4, 7], [2, 5, 8], [3, 6, 9]]\n",
    "```\n",
    "\n",
    "**Hint:**\n",
    "Use nested list comprehension to iterate through rows and columns."
   ]
  },
  {
   "cell_type": "code",
   "execution_count": null,
   "metadata": {},
   "outputs": [],
   "source": [
    "def matrix_transpose(input_matrix):\n",
    "    # Your code here\n",
    "    pass\n",
    "\n",
    "# Example function call:\n",
    "input_matrix = [[1, 2, 3], [4, 5, 6], [7, 8, 9]]\n",
    "transposed_result = matrix_transpose(input_matrix)\n",
    "print(transposed_result)"
   ]
  },
  {
   "cell_type": "markdown",
   "metadata": {},
   "source": [
    "#### **Problem 7: Difficult**\n",
    "\n",
    "**Problem Statement:**\n",
    "\n",
    "Write a Python function named `word_frequency` that takes a string as input and returns a dictionary where keys are unique words, and values are the frequencies of each word in the string.\n",
    "\n",
    "**Example:**\n",
    "```python\n",
    "input_string = \"this is a test string. this string is a test.\"\n",
    "frequency_result = word_frequency(input_string)\n",
    "print(frequency_result)\n",
    "```\n",
    "**Output:**\n",
    "```\n",
    "{'this': 2, 'is': 2, 'a': 2, 'test': 2, 'string.': 2, 'string': 1}\n",
    "```\n",
    "\n",
    "**Hint:**\n",
    "Use the `split()` method to break the string into words, and then use a dictionary to keep track of word frequencies."
   ]
  },
  {
   "cell_type": "code",
   "execution_count": null,
   "metadata": {},
   "outputs": [],
   "source": [
    "def word_frequency(input_string):\n",
    "    # Your code here\n",
    "    pass\n",
    "\n",
    "# Example function call:\n",
    "input_string = \"this is a test string. this string is a test.\"\n",
    "frequency_result = word_frequency(input_string)\n",
    "print(frequency_result)"
   ]
  },
  {
   "cell_type": "markdown",
   "metadata": {},
   "source": [
    "## Summary of List Methods\n",
    "\n",
    "<div align=\"center\">\n",
    "    \n",
    "Certainly! Here's a table summarizing the list methods used in the provided content:\n",
    "\n",
    "| Method           | Purpose                                          | Example                                   | Relevant Information                                         |\n",
    "|------------------|--------------------------------------------------|-------------------------------------------|--------------------------------------------------------------|\n",
    "| `append()`       | Adds an element to the end of the list           | `fruits.append('orange')`                | Modifies the original list by adding the specified element.  |\n",
    "| `insert()`       | Inserts an element at a specific position        | `fruits.insert(1, 'grape')`               | Modifies the original list by inserting the specified element at the given index. |\n",
    "| `remove()`       | Removes the first occurrence of a value          | `fruits.remove('banana')`                | Modifies the original list by removing the specified element. |\n",
    "| `pop()`          | Removes and returns an element by index          | `removed_fruit = fruits.pop()`            | Modifies the original list by removing the element at the specified index. Returns the removed element. |\n",
    "| `count()`        | Counts the occurrences of a value in the list    | `count_of_5 = numbers.count(5)`           | Returns the number of occurrences of the specified value in the list. |\n",
    "| `index()`        | Returns the index of the first occurrence        | `index_of_5 = numbers.index(5)`           | Returns the index of the first occurrence of the specified value in the list. |\n",
    "| `sort()`         | Sorts the elements of a list                    | `unsorted_numbers.sort()`                 | Modifies the original list by sorting its elements in ascending order. |\n",
    "| `sorted()`       | Returns a sorted copy of the list                | `sorted_numbers = sorted(unsorted_numbers)` | Returns a new sorted list without modifying the original list. |\n",
    "| `extend()`       | Extends the list by appending elements from another list | `list1.extend(list2)`              | Modifies the original list by adding elements from another list. |\n",
    "| `clear()`        | Removes all elements from the list               | `numbers.clear()`                        | Modifies the original list by removing all elements. |\n",
    "| `reverse()`      | Reverses the order of the elements in the list   | `numbers.reverse()`                      | Modifies the original list by reversing the order of its elements. |\n",
    "| `copy()`         | Returns a shallow copy of the list               | `copied_list = original_list.copy()`     | Creates a new list with the same elements without modifying the original list. |\n",
    "| `__getitem__()`  | Accesses an element by index using square brackets | `element = fruits[2]`                   | Returns the element at the specified index.                    |\n",
    "| `__setitem__()`  | Sets the value of an element by index using square brackets | `fruits[2] = 'pear'`              | Modifies the value of the element at the specified index.    |\n",
    "| `__delitem__()`  | Deletes an element by index using square brackets | `del fruits[1]`                        | Modifies the original list by deleting the element at the specified index. |\n",
    "| `__contains__()` | Checks if a value is present in the list          | `result = 'apple' in fruits`             | Returns a boolean indicating whether the specified value is present in the list. |"
   ]
  },
  {
   "cell_type": "markdown",
   "metadata": {},
   "source": [
    "## **Tuples**\n",
    "\n",
    "### **Introduction to Tuples in Python**\n",
    "\n",
    "In Python, a tuple is a collection data type similar to a list. However, there are key differences between tuples and lists. Here's an introduction to tuples and a comparison with lists:\n",
    "\n",
    "#### **1. **Definition:**\n",
    "- **List:**\n",
    "  - Mutable (can be modified after creation).\n",
    "  - Created using square brackets `[]`.\n",
    "\n",
    "- **Tuple:**\n",
    "  - Immutable (cannot be modified after creation).\n",
    "  - Created using parentheses `()`."
   ]
  },
  {
   "cell_type": "markdown",
   "metadata": {},
   "source": [
    "#### **2. **Creation:**\n",
    "```python\n",
    "# List Example\n",
    "fruits_list = ['apple', 'banana', 'cherry']\n",
    "\n",
    "# Tuple Example\n",
    "fruits_tuple = ('apple', 'banana', 'cherry')\n",
    "```"
   ]
  },
  {
   "cell_type": "markdown",
   "metadata": {},
   "source": [
    "#### **3. **Accessing Elements:**\n",
    "```python\n",
    "# Accessing List Elements\n",
    "first_fruit_list = fruits_list[0]\n",
    "\n",
    "# Accessing Tuple Elements\n",
    "first_fruit_tuple = fruits_tuple[0]\n",
    "```"
   ]
  },
  {
   "cell_type": "markdown",
   "metadata": {},
   "source": [
    "#### **4. **Mutability:**\n",
    "```python\n",
    "# Modifying List\n",
    "fruits_list[0] = 'orange'\n",
    "\n",
    "# Attempting to Modify Tuple (Raises an Error)\n",
    "# fruits_tuple[0] = 'orange'\n",
    "```"
   ]
  },
  {
   "cell_type": "markdown",
   "metadata": {},
   "source": [
    "#### **5. **Use Cases:**\n",
    "- **Lists:**\n",
    "  - Suitable for situations where the data may need to be modified.\n",
    "  - Use when you have a collection of similar or related items.\n",
    "\n",
    "- **Tuples:**\n",
    "  - Ideal when the data should remain constant.\n",
    "  - Use for situations where the order and structure of the data are crucial."
   ]
  },
  {
   "cell_type": "markdown",
   "metadata": {},
   "source": [
    "#### **Review Questions:**\n",
    "1. **What is the key difference between a tuple and a list in Python?**\n",
    "   - a. Tuples are mutable, lists are immutable.\n",
    "   - b. Tuples are immutable, lists are mutable.\n",
    "   - c. Both tuples and lists are immutable.\n",
    "   - d. Both tuples and lists are mutable."
   ]
  },
  {
   "cell_type": "markdown",
   "metadata": {},
   "source": [
    "2. **How is a tuple created in Python?**\n",
    "   - a. Using square brackets.\n",
    "   - b. Using parentheses.\n",
    "   - c. Using curly braces.\n",
    "   - d. Using angle brackets."
   ]
  },
  {
   "cell_type": "markdown",
   "metadata": {},
   "source": [
    "3. **Which of the following statements is true regarding tuple mutability?**\n",
    "   - a. Tuples are mutable, and elements can be modified after creation.\n",
    "   - b. Tuples are immutable, and elements cannot be modified after creation.\n",
    "   - c. Tuples can only be created using square brackets.\n",
    "   - d. Tuples are mutable, but only the first element can be modified."
   ]
  },
  {
   "cell_type": "markdown",
   "metadata": {},
   "source": [
    "4. **When might it be more appropriate to use a tuple instead of a list?**\n",
    "   - a. When the order of elements doesn't matter.\n",
    "   - b. When the data should remain constant.\n",
    "   - c. When frequent modifications to the data are expected.\n",
    "   - d. When the elements need to be accessed by index."
   ]
  },
  {
   "cell_type": "markdown",
   "metadata": {},
   "source": [
    "5. **What happens if you attempt to modify an element in a tuple?**\n",
    "   - a. It modifies the element without any issues.\n",
    "   - b. It raises an error because tuples are immutable.\n",
    "   - c. It converts the tuple into a list for modification.\n",
    "   - d. It adds a new element without modifying the original tuple."
   ]
  }
 ],
 "metadata": {
  "kernelspec": {
   "display_name": "Python 3",
   "language": "python",
   "name": "python3"
  },
  "language_info": {
   "codemirror_mode": {
    "name": "ipython",
    "version": 3
   },
   "file_extension": ".py",
   "mimetype": "text/x-python",
   "name": "python",
   "nbconvert_exporter": "python",
   "pygments_lexer": "ipython3",
   "version": "3.6.5"
  }
 },
 "nbformat": 4,
 "nbformat_minor": 2
}
