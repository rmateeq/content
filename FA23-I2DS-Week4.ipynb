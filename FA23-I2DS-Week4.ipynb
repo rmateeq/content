{
 "cells": [
  {
   "cell_type": "markdown",
   "metadata": {},
   "source": [
    "# Your Name:\n",
    "# Registration Number:"
   ]
  },
  {
   "cell_type": "markdown",
   "metadata": {},
   "source": [
    "## Intro to Data Science (Fall2023)\n",
    "### Week04 (02/07/07-Nov-2023)\n",
    "\n",
    "**M Ateeq**,<br>\n",
    "*Department of Data Science, The Islamia University of Bahawalpur.*"
   ]
  },
  {
   "cell_type": "markdown",
   "metadata": {},
   "source": [
    "### **Strings in Python**\n",
    "**I. Lecture**\n",
    "\n",
    "- **Introduction to Strings**\n",
    "  - What are strings in Python?\n",
    "  - Why are strings important in programming?\n",
    "\n",
    "- **String Creation and Manipulation**\n",
    "  - Creating strings with single and double quotes\n",
    "  - String concatenation and repetition\n",
    "  - Escaping special characters in strings\n",
    "\n",
    "- **String Indexing and Slicing**\n",
    "  - How to access individual characters in a string\n",
    "  - Slicing strings to extract substrings\n",
    "  - Understanding string indexes (positive and negative)\n",
    "\n",
    "- **String Methods**\n",
    "  - Common string methods: `len()`, `upper()`, `lower()`, `strip()`, `replace()`\n",
    "  - How to check if a string starts or ends with a specific substring\n",
    "  - Converting strings to lists and vice versa"
   ]
  },
  {
   "cell_type": "markdown",
   "metadata": {},
   "source": [
    "**II. Lab**\n",
    "\n",
    "- **Lab Introduction**\n",
    "  - Overview of the lab exercises on strings\n",
    "  - Setting up the Python development environment\n",
    "\n",
    "- **String Operations Lab**\n",
    "  - Practice creating, manipulating, and concatenating strings\n",
    "  - Experiment with string indexing and slicing\n",
    "  - Apply string methods to solve real-world problems\n",
    "\n",
    "- **String Challenges Lab**\n",
    "  - Solve more complex problems involving strings\n",
    "  - Implement algorithms for string manipulation\n",
    "  - Debug and improve code for efficiency"
   ]
  },
  {
   "cell_type": "markdown",
   "metadata": {},
   "source": [
    "### **Introduction to Strings**\n",
    "\n",
    "Strings in Python are fundamental data types that allow you to work with text and character data. They are used to store and manipulate sequences of characters, which can be as short as a single character or as long as entire documents. In this section, we will explore the basics of strings and their significance in programming.\n",
    "\n",
    "1. **What are Strings in Python?**\n",
    "\n",
    "   - Strings are sequences of characters enclosed in either single quotes (' '), double quotes (\" \"), or triple quotes (''' ''' or \"\"\" \"\"\").\n",
    "   - Examples:\n",
    "     - `'Hello, world!'`\n",
    "     - `\"Python is fun\"`\n",
    "     - `'''This is a multiline string'''`"
   ]
  },
  {
   "cell_type": "code",
   "execution_count": 1,
   "metadata": {},
   "outputs": [
    {
     "name": "stdout",
     "output_type": "stream",
     "text": [
      "1. Hello, world!\n",
      "2. Python is fun. Let's continue the fun!\n",
      "3. Welcome to strings.\n",
      "This is a multiline string.\n"
     ]
    }
   ],
   "source": [
    "str_single_quotes = '1. Hello, world!'\n",
    "str_double_quotes = \"2. Python is fun. Let's continue the fun!\"\n",
    "str_multi_line = '''3. Welcome to strings.\n",
    "This is a multiline string.'''\n",
    "print(str_single_quotes)\n",
    "print(str_double_quotes)\n",
    "print(str_multi_line)"
   ]
  },
  {
   "cell_type": "markdown",
   "metadata": {},
   "source": [
    "2. **Why are Strings Important in Programming?**\n",
    "\n",
    "   - Strings are vital in programming because they represent human-readable text, which is a common input and output format for programs.\n",
    "   - They are used for:\n",
    "     - Storing and displaying names, messages, and data.\n",
    "     - Processing and manipulating textual information.\n",
    "     - Working with file paths and file content.\n",
    "     - Handling user input and output.\n",
    "\n",
    "3. **String Creation and Manipulation**\n",
    "\n",
    "   - You can create strings by enclosing text in quotes. Python allows both single and double quotes, and you can mix them.\n",
    "   - Examples:\n",
    "     - `name = 'Alice'`\n",
    "     - `message = \"Python's syntax is easy to learn\"`\n",
    "     - `paragraph = '''This is a long\n",
    "       multiline string'''`"
   ]
  },
  {
   "cell_type": "markdown",
   "metadata": {},
   "source": [
    "4. **String Concatenation and Repetition**\n",
    "\n",
    "   - Strings can be combined using the `+` operator to form longer strings. This is known as string concatenation.\n",
    "   - Example:\n",
    "     ```python\n",
    "     first_name = \"John\"\n",
    "     last_name = \"Doe\"\n",
    "     full_name = first_name + \" \" + last_name  # Result: \"John Doe\"\n",
    "     ```\n",
    "\n",
    "   - Strings can also be repeated using the `*` operator with a number (`+` does not work!).\n",
    "   - Example:\n",
    "     ```python\n",
    "     word = \"Hello\"\n",
    "     repeated_word = word * 3  # Result: \"HelloHelloHello\"\n",
    "     ```"
   ]
  },
  {
   "cell_type": "code",
   "execution_count": 4,
   "metadata": {},
   "outputs": [
    {
     "name": "stdout",
     "output_type": "stream",
     "text": [
      "John Doe\n",
      "....\n",
      "HelloHelloHello\n"
     ]
    }
   ],
   "source": [
    "first_name = \"John\"\n",
    "last_name = \"Doe\"\n",
    "full_name = first_name + \" \" + last_name  # Result: \"John Doe\"\n",
    "print(full_name)\n",
    "\n",
    "print('....')\n",
    "\n",
    "word = \"Hello\"\n",
    "repeated_word = word * 3  # Result: \"HelloHelloHello\"\n",
    "print(repeated_word)"
   ]
  },
  {
   "cell_type": "markdown",
   "metadata": {},
   "source": [
    "5. **Escaping Special Characters in Strings**\n",
    "\n",
    "   - Sometimes, you need to include special characters like single quotes or double quotes within a string.\n",
    "   - You can use the backslash `\\` to escape special characters.\n",
    "   - Example:\n",
    "     ```python\n",
    "     message = \"She said, \\\"Hello, world!\\\"\"\n",
    "     ```\n",
    "\n",
    "<details>\n",
    "<summary><b>Click to reveal the details on escape sequence in programming</b></summary>\n",
    "In programming, an escape sequence is a combination of characters that represents a special or control character that cannot be easily expressed or represented as a regular character in a string or character literal. Escape sequences are typically used to include characters like newlines, tabs, quotes, and non-printable characters within a string or character constant. The escape sequence starts with an escape character, often denoted by a backslash `\\`, followed by a character that specifies the special character or action.\n",
    "\n",
    "Here are some common escape sequences and their meanings:\n",
    "\n",
    "1. `\\\\`: Represents a literal backslash character.\n",
    "2. `\\'`: Represents a single quote character within a single-quoted string.\n",
    "3. `\\\"`: Represents a double quote character within a double-quoted string.\n",
    "4. `\\n`: Represents a newline character, causing text to start on a new line.\n",
    "5. `\\t`: Represents a tab character, causing text to be indented.\n",
    "6. `\\r`: Represents a carriage return character, used to move the cursor to the beginning of the line.\n",
    "7. `\\b`: Represents a backspace character, which moves the cursor one position backward.\n",
    "8. `\\f`: Represents a form feed character, used for page breaks and form feeds.\n",
    "9. `\\v`: Represents a vertical tab character.\n",
    "10. `\\xhh`: Represents a character with the hexadecimal value `hh`. For example, `\\x0A` represents a newline character.\n",
    "\n",
    "Escape sequences are essential for handling special characters and formatting text within strings, particularly in programming languages that use string literals to define text content. They allow you to include characters and control codes that would otherwise be difficult to represent directly in a string."
   ]
  },
  {
   "cell_type": "code",
   "execution_count": 8,
   "metadata": {},
   "outputs": [
    {
     "name": "stdout",
     "output_type": "stream",
     "text": [
      "She said, \"Hello, world!\"\n"
     ]
    }
   ],
   "source": [
    "message = \"She said, \\\"Hello, world!\\\"\"\n",
    "print(message)"
   ]
  },
  {
   "cell_type": "markdown",
   "metadata": {},
   "source": [
    "6. **String Immutability**\n",
    "\n",
    "   - In Python, strings are immutable, which means their values cannot be changed after they are created. Any operation that seems to modify a string actually creates a new string.\n",
    "   - Example:\n",
    "     ```python\n",
    "     original_string = \"Python\"\n",
    "     modified_string = original_string.upper()  # Creates a new string\n",
    "     ```\n",
    "\n",
    "   - Understanding string immutability is important when optimizing code for performance."
   ]
  },
  {
   "cell_type": "code",
   "execution_count": 10,
   "metadata": {},
   "outputs": [
    {
     "ename": "TypeError",
     "evalue": "'str' object does not support item assignment",
     "output_type": "error",
     "traceback": [
      "\u001b[1;31m---------------------------------------------------------------------------\u001b[0m",
      "\u001b[1;31mTypeError\u001b[0m                                 Traceback (most recent call last)",
      "\u001b[1;32m<ipython-input-10-2c8702452ee9>\u001b[0m in \u001b[0;36m<module>\u001b[1;34m()\u001b[0m\n\u001b[0;32m      4\u001b[0m \u001b[0moriginal_string\u001b[0m \u001b[1;33m=\u001b[0m \u001b[1;34m\"Cython\"\u001b[0m \u001b[1;31m# Creates (redefines) a new string (allowed)\u001b[0m\u001b[1;33m\u001b[0m\u001b[0m\n\u001b[0;32m      5\u001b[0m \u001b[1;33m\u001b[0m\u001b[0m\n\u001b[1;32m----> 6\u001b[1;33m \u001b[0moriginal_string\u001b[0m\u001b[1;33m[\u001b[0m\u001b[1;36m0\u001b[0m\u001b[1;33m]\u001b[0m \u001b[1;33m=\u001b[0m \u001b[1;34m\"J\"\u001b[0m \u001b[1;31m# Attempts to modify existing string (not allowed)\u001b[0m\u001b[1;33m\u001b[0m\u001b[0m\n\u001b[0m",
      "\u001b[1;31mTypeError\u001b[0m: 'str' object does not support item assignment"
     ]
    }
   ],
   "source": [
    "original_string = \"Python\"\n",
    "modified_string = original_string.upper()  # Creates a new string (allowed)\n",
    "\n",
    "original_string = \"Cython\" # Creates (redefines) a new string (allowed)\n",
    "\n",
    "original_string[0] = \"J\" # Attempts to modify existing string (not allowed)"
   ]
  },
  {
   "cell_type": "markdown",
   "metadata": {},
   "source": [
    "7. **Common Uses of Strings**\n",
    "\n",
    "   - Strings are used in various real-world applications, such as:\n",
    "     - Storing and processing text documents.\n",
    "     - Handling user interactions in web development.\n",
    "     - Parsing and manipulating data from files.\n",
    "     - Representing and manipulating data in databases.\n",
    "\n",
    "By understanding the basics of strings and how to work with them, you'll be well-equipped to handle text-based data and perform various string operations in Python."
   ]
  },
  {
   "cell_type": "markdown",
   "metadata": {},
   "source": [
    "**Reflection Questions:**\n",
    "\n",
    "1. What are the different ways to create a string in Python?\n",
    "   - A) Single quotes\n",
    "   - B) Double quotes\n",
    "   - C) Triple quotes\n",
    "   - D) All of the above\n",
    "   \n",
    "   <details>\n",
    "<summary>Click to reveal the answer</summary>\n",
    "   - (Correct Answer: D)"
   ]
  },
  {
   "cell_type": "markdown",
   "metadata": {},
   "source": [
    "2. Why are strings important in programming?\n",
    "   - A) They represent numbers.\n",
    "   - B) They are used for storing images.\n",
    "   - C) They are essential for handling text data.\n",
    "   - D) They are used for mathematical operations.\n",
    "   \n",
    "   <details>\n",
    "<summary>Click to reveal the answer</summary>\n",
    "   - (Correct Answer: C)"
   ]
  },
  {
   "cell_type": "markdown",
   "metadata": {},
   "source": [
    "### **String Manipulation**\n",
    "\n",
    "In Python, creating and manipulating strings is a fundamental skill for any programmer. Strings are versatile and essential for working with text data. In this section, we will explore how to perform basic string manipulation.\n",
    "\n",
    "We have already seen how to **create** the strings using single, double or tripple quotes; **concatenate** multiple strings using `+`; and **repeat** a string using `*`. Let's delve further into string manipulation\n",
    "\n",
    "1. **String Length**\n",
    "\n",
    "   - To find the length (number of characters) of a string, you can use the `len()` function.\n",
    "   - Example:\n",
    "     ```python\n",
    "     message = \"This is a long message\"\n",
    "     length = len(message)  # Result: 23\n",
    "     ```\n",
    "\n",
    "   - Knowing the length of a string is useful when you need to process or validate text data."
   ]
  },
  {
   "cell_type": "code",
   "execution_count": 11,
   "metadata": {},
   "outputs": [
    {
     "name": "stdout",
     "output_type": "stream",
     "text": [
      "22\n"
     ]
    }
   ],
   "source": [
    "message = \"This is a long message\"\n",
    "length = len(message)  # Result: 22\n",
    "print(length)"
   ]
  },
  {
   "cell_type": "markdown",
   "metadata": {},
   "source": [
    "2. **String Interpolation**\n",
    "\n",
    "   - String interpolation allows you to insert variables into a string.\n",
    "   - You can use f-strings (formatted strings) to achieve this.\n",
    "   - Example:\n",
    "     ```python\n",
    "     name = \"Alice\"\n",
    "     age = 30\n",
    "     message = f\"My name is {name} and I am {age} years old.\"\n",
    "     ```\n",
    "\n",
    "   - String interpolation is a powerful way to create dynamic messages and output."
   ]
  },
  {
   "cell_type": "code",
   "execution_count": 14,
   "metadata": {},
   "outputs": [
    {
     "name": "stdout",
     "output_type": "stream",
     "text": [
      "My name is Alice and I am 30 years old.\n"
     ]
    }
   ],
   "source": [
    "name = \"Alice\"\n",
    "age = 30\n",
    "message = f\"My name is {name} and I am {age} years old.\"\n",
    "print(message)\n",
    "#print(...alternatively...)\n",
    "#another_message = \"My name is \" +name+ \" and I am \" + str(age) + \" years old.\"\n",
    "#print(another_message)"
   ]
  },
  {
   "cell_type": "markdown",
   "metadata": {},
   "source": [
    "3. **Basic String Methods**\n",
    "\n",
    "   - Python provides a variety of built-in string methods that can be used to manipulate strings. Some common methods include `upper()`, `lower()`, `strip()`, and `replace()`.\n",
    "   - Example:\n",
    "     ```python\n",
    "     text = \"   Python Programming   \"\n",
    "     uppercase_text = text.upper()  # Converts to uppercase\n",
    "     lowercase_text = text.lower()  # Converts to lowercase\n",
    "     stripped_text = text.strip()  # Removes leading and trailing whitespace\n",
    "     ```\n",
    "\n",
    "   - String methods are essential for cleaning and processing text data."
   ]
  },
  {
   "cell_type": "code",
   "execution_count": 15,
   "metadata": {},
   "outputs": [
    {
     "name": "stdout",
     "output_type": "stream",
     "text": [
      "   PYTHON PROGRAMMING   \n",
      "   python programming   \n",
      "Python Programming\n"
     ]
    }
   ],
   "source": [
    "text = \"   Python Programming   \"\n",
    "uppercase_text = text.upper()  # Converts to uppercase\n",
    "print(uppercase_text)\n",
    "lowercase_text = text.lower()  # Converts to lowercase\n",
    "print(lowercase_text)\n",
    "stripped_text = text.strip()  # Removes leading and trailing whitespace\n",
    "print(stripped_text)"
   ]
  },
  {
   "cell_type": "markdown",
   "metadata": {},
   "source": [
    "4. **Real-World Example: Building URLs**\n",
    "\n",
    "   - A real-world use case for string manipulation is constructing URLs in web development.\n",
    "   - You may create URLs by combining a base URL with dynamic parameters.\n",
    "   - Example:\n",
    "     ```python\n",
    "     base_url = \"https://example.com/api\"\n",
    "     endpoint = \"data\"\n",
    "     query_params = \"page=1&limit=10\"\n",
    "     url = f\"{base_url}/{endpoint}?{query_params}\"\n",
    "     ```\n",
    "\n",
    "   - This is a common task when making API requests or building dynamic web pages.\n",
    "\n",
    "Understanding how to create and manipulate strings is crucial for working with text data in Python. It allows you to build dynamic messages, format data, and interact with various text-based systems."
   ]
  },
  {
   "cell_type": "markdown",
   "metadata": {},
   "source": [
    "**Reflection Questions:**\n",
    "\n",
    "1. How can you create a multiline string in Python?\n",
    "   - A) Using single quotes\n",
    "   - B) Using double quotes\n",
    "   - C) Using triple quotes\n",
    "   - D) Using parentheses\n",
    "   \n",
    "   <details>\n",
    "<summary>Click to reveal the answer</summary>\n",
    "   - (Correct Answer: C)"
   ]
  },
  {
   "cell_type": "markdown",
   "metadata": {},
   "source": [
    "2. What is the result of the expression `\"Hello\" + \"World\"`?\n",
    "   - A) \"Hello World\"\n",
    "   - B) \"Hello+World\"\n",
    "   - C) \"HelloWorld\"\n",
    "   - D) Error\n",
    "   \n",
    "   <details>\n",
    "<summary>Click to reveal the answer</summary>\n",
    "   - (Correct Answer: C)"
   ]
  },
  {
   "cell_type": "markdown",
   "metadata": {},
   "source": [
    "### **String Indexing and Slicing**\n",
    "\n",
    "In Python, strings are ordered sequences of characters, and you can access individual characters within a string by their position or index. Understanding string indexing and slicing is essential for many text manipulation tasks. In this section, we'll explore how to access and extract specific parts of a string.\n",
    "\n",
    "1. **String Indexing**\n",
    "\n",
    "   - String indexing allows you to access individual characters within a string by their position.\n",
    "   - Each character in a string is assigned a unique index, starting from 0 for the first character.\n",
    "   - Example:\n",
    "     ```python\n",
    "     text = \"Python\"\n",
    "     first_character = text[0]  # 'P'\n",
    "     second_character = text[1]  # 'y'\n",
    "     ```\n",
    "\n",
    "   - Positive indexing begins from the first character (index 0), and negative indexing starts from the end of the string with -1."
   ]
  },
  {
   "cell_type": "code",
   "execution_count": 16,
   "metadata": {},
   "outputs": [],
   "source": [
    "text = \"Python\"\n",
    "first_character = text[0]  # 'P'\n",
    "second_character = text[1]  # 'y'"
   ]
  },
  {
   "cell_type": "markdown",
   "metadata": {},
   "source": [
    "2. **Negative Indexing**\n",
    "\n",
    "   - Negative indexing is used to access characters from the end of the string.\n",
    "   - The last character has an index of -1, the second-to-last character has an index of -2, and so on.\n",
    "   - Example:\n",
    "     ```python\n",
    "     text = \"Hello, world!\"\n",
    "     last_character = text[-1]  # '!'\n",
    "     second_last_character = text[-2]  # 'd'\n",
    "     ```"
   ]
  },
  {
   "cell_type": "code",
   "execution_count": 17,
   "metadata": {},
   "outputs": [],
   "source": [
    "text = \"Hello, world!\"\n",
    "last_character = text[-1]  # '!'\n",
    "second_last_character = text[-2]  # 'd'"
   ]
  },
  {
   "cell_type": "markdown",
   "metadata": {},
   "source": [
    "3. **String Slicing**\n",
    "\n",
    "   - String slicing allows you to extract a portion of a string, creating a new string.\n",
    "   - It is done by specifying a range of indices using a colon (:).\n",
    "   - The format is `start_index:end_index`, where the end_index is not inclusive.\n",
    "   - Example:\n",
    "     ```python\n",
    "     text = \"Python Programming\"\n",
    "     sliced_text = text[7:15]  # 'Programmi'\n",
    "     ```"
   ]
  },
  {
   "cell_type": "code",
   "execution_count": 19,
   "metadata": {},
   "outputs": [
    {
     "name": "stdout",
     "output_type": "stream",
     "text": [
      "Programm\n"
     ]
    }
   ],
   "source": [
    "text = \"Python Programming\"\n",
    "sliced_text = text[7:15]  # 'Programm'\n",
    "print(sliced_text)"
   ]
  },
  {
   "cell_type": "markdown",
   "metadata": {},
   "source": [
    "4. **Omitting Start or End Index**\n",
    "\n",
    "   - You can omit the start or end index when slicing to indicate the beginning or end of the string.\n",
    "   - Example:\n",
    "     ```python\n",
    "     text = \"Python Programming\"\n",
    "     start_to_end = text[:]  # Copies the entire string\n",
    "     start_to_9 = text[:9]  # 'Python Pr'\n",
    "     ```"
   ]
  },
  {
   "cell_type": "markdown",
   "metadata": {},
   "source": [
    "5. **Slicing with Steps**\n",
    "\n",
    "   - You can specify a step value to skip characters while slicing.\n",
    "   - The format is `start_index:end_index:step`.\n",
    "   - Example:\n",
    "     ```python\n",
    "     text = \"Python Programming\"\n",
    "     every_second_character = text[::2]  # 'Pto rgamn'\n",
    "     ```\n",
    "\n",
    "   - Slicing with steps is useful for extracting patterns or reversing strings.\n",
    "   - `start_index` is inclusive and `end_index` is exclusive.\n",
    "   - All of `start_index:end_index:step` are optional though."
   ]
  },
  {
   "cell_type": "code",
   "execution_count": 20,
   "metadata": {},
   "outputs": [
    {
     "name": "stdout",
     "output_type": "stream",
     "text": [
      "Pto rgamn\n",
      "yhnPormig\n",
      "yhnP\n"
     ]
    }
   ],
   "source": [
    "text = \"Python Programming\"\n",
    "every_second_character = text[::2]  # 'Pto rgamn'\n",
    "print(every_second_character)\n",
    "every_second_character = text[1::2]  # 'yhnPormig'\n",
    "print(every_second_character)\n",
    "every_second_character = text[1:9:2]  # 'yhnP'\n",
    "print(every_second_character)"
   ]
  },
  {
   "cell_type": "markdown",
   "metadata": {},
   "source": [
    "6. **Real-World Example: File Paths**\n",
    "\n",
    "   - String indexing and slicing are essential for working with file paths in real-world applications.\n",
    "   - You can extract the directory, filename, or file extension from a file path.\n",
    "   - Example:\n",
    "     ```python\n",
    "     file_path = \"/home/user/documents/report.txt\"\n",
    "     directory = file_path[:16]  # '/home/user/docs/'\n",
    "     filename = file_path[17:24]  # 'report.'\n",
    "     extension = file_path[-3:]  # 'txt'\n",
    "     ```\n",
    "\n",
    "Understanding string indexing and slicing is crucial for extracting data from strings and manipulating text-based information efficiently."
   ]
  },
  {
   "cell_type": "markdown",
   "metadata": {},
   "source": [
    "**Reflection Questions:**\n",
    "\n",
    "1. What is the index of the first character in a string?\n",
    "   - A) -1\n",
    "   - B) 0\n",
    "   - C) 1\n",
    "   - D) 2\n",
    "   \n",
    "   <details>\n",
    "<summary>Click to reveal the answer</summary>\n",
    "   (Correct Answer: B)"
   ]
  },
  {
   "cell_type": "markdown",
   "metadata": {},
   "source": [
    "2. Using an index that does not exist for a string generates an error when?\n",
    "   - A) Using indexing\n",
    "   - B) Using string stepping\n",
    "   - C) Using string slicing\n",
    "   - D) All of the above\n",
    "   \n",
    "   <details>\n",
    "<summary>Click to reveal the answer</summary>\n",
    "   (Correct Answer: A)"
   ]
  },
  {
   "cell_type": "markdown",
   "metadata": {},
   "source": [
    "### **String Methods**\n",
    "\n",
    "Python provides a wide range of built-in string methods that make it easy to manipulate and transform strings. These methods can help you clean, modify, and extract information from strings. In this section, we will explore some common string methods and their applications.\n",
    "\n",
    "We have already explored `len()`, `upper()`, `lower()`, and `strip()` methods. Let's explore more useful methods available to manipulate strings.\n",
    "\n",
    "1. **Finding Substrings with `find()`**\n",
    "\n",
    "   - The `find()` method allows you to find the occurrences of a substring within another string.\n",
    "   - Example:\n",
    "     ```python\n",
    "     text = \"Hello, world!\"\n",
    "     find_text_index = text.find(\"wo\")  # Result: 6 (index where 'wo' starts in original string)\n",
    "     find_text_index = text.find(\"won\")  # Result: -1 (because 'won' does not exist in original string)\n",
    "    ```"
   ]
  },
  {
   "cell_type": "code",
   "execution_count": 21,
   "metadata": {},
   "outputs": [
    {
     "name": "stdout",
     "output_type": "stream",
     "text": [
      "4\n",
      "8\n",
      "-1\n"
     ]
    }
   ],
   "source": [
    "text = \"Hello, world!\"\n",
    "find_index = text.find(\"o\")  # Result: 4 (index where 'o' occurs first in original string)\n",
    "print(find_index)\n",
    "find_index = text.find(\"orld\")  # Result: 8 (index where 'orld' starts in original string)\n",
    "print(find_index)\n",
    "find_index = text.find(\"won\")  # Result: -1 (because 'won' does not exist in original string)\n",
    "print(find_index)"
   ]
  },
  {
   "cell_type": "markdown",
   "metadata": {},
   "source": [
    "2. **Replacing Substrings with `replace()`**\n",
    "\n",
    "   - The `replace()` method allows you to replace occurrences of a substring with another string.\n",
    "   - Example:\n",
    "     ```python\n",
    "     text = \"Hello, world!\"\n",
    "     replaced_text = text.replace(\"Hello\", \"Hi\")  # Result: \"Hi, world!\"\n",
    "     ```"
   ]
  },
  {
   "cell_type": "code",
   "execution_count": 23,
   "metadata": {},
   "outputs": [
    {
     "name": "stdout",
     "output_type": "stream",
     "text": [
      "Hi, world!\n",
      "Hello, world!\n",
      "Hello, world!\n"
     ]
    }
   ],
   "source": [
    "text = \"Hello, world!\"\n",
    "replaced_text = text.replace(\"Hello\", \"Hi\")  # Result: \"Hi, world!\"\n",
    "print(replaced_text)\n",
    "####################\n",
    "print(text) # No mutation\n",
    "####################\n",
    "replaced_text = text.replace(\"Hi\", \"Hello\")  # No effect\n",
    "print(replaced_text)"
   ]
  },
  {
   "cell_type": "markdown",
   "metadata": {},
   "source": [
    "3. **Checking Prefix and Suffix with `startswith()` and `endswith()`**\n",
    "\n",
    "   - The `startswith()` method checks if a string starts with a specified prefix.\n",
    "   - The `endswith()` method checks if a string ends with a specified suffix.\n",
    "   - Example:\n",
    "     ```python\n",
    "     text = \"Welcome to Python\"\n",
    "     starts_with = text.startswith(\"Welcome\")  # True\n",
    "     ends_with = text.endswith(\"Java\")  # False\n",
    "     ```"
   ]
  },
  {
   "cell_type": "code",
   "execution_count": 24,
   "metadata": {},
   "outputs": [
    {
     "name": "stdout",
     "output_type": "stream",
     "text": [
      "True False\n"
     ]
    }
   ],
   "source": [
    "text = \"Welcome to Python\"\n",
    "starts_with = text.startswith(\"Welcome\")  # True\n",
    "ends_with = text.endswith(\"Java\")  # False\n",
    "print(starts_with, ends_with)"
   ]
  },
  {
   "cell_type": "markdown",
   "metadata": {},
   "source": [
    "4. **Splitting Strings with `split()`**\n",
    "\n",
    "   - The `split()` method splits a string into a list of substrings based on a specified delimiter.\n",
    "   - Example:\n",
    "     ```python\n",
    "     sentence = \"Python is versatile and powerful\"\n",
    "     words = sentence.split()  # Splits on spaces\n",
    "     ```\n",
    "\n",
    "   - You can also provide a delimiter as an argument to split on a custom character."
   ]
  },
  {
   "cell_type": "code",
   "execution_count": 28,
   "metadata": {},
   "outputs": [
    {
     "name": "stdout",
     "output_type": "stream",
     "text": [
      "['Python', 'is', 'versatile', 'and', 'powerful']\n",
      "['A', 'B', 'C', 'D', 'E', 'F']\n",
      "['Python', 'is', 'versatile', ' and', 'powerful']\n"
     ]
    }
   ],
   "source": [
    "sentence = \"Python is versatile and powerful\"\n",
    "words = sentence.split()  # Splits on spaces\n",
    "print(words)\n",
    "################\n",
    "sentence = \"A\\nB\\rC\\tD\\n\\rE F\"\n",
    "words = sentence.split()  # Splits on all white characters\n",
    "print(words)\n",
    "################\n",
    "sentence = \"Python,is,versatile, and,powerful\"\n",
    "words = sentence.split(',')  # Splits on ,\n",
    "print(words)"
   ]
  },
  {
   "cell_type": "markdown",
   "metadata": {},
   "source": [
    "5. **Joining Lists of Strings with `join()`**\n",
    "\n",
    "   - The `join()` method combines a list of strings into a single string, using the calling string as a delimiter.\n",
    "   - Example:\n",
    "     ```python\n",
    "     words = [\"Python\", \"is\", \"powerful\"]\n",
    "     sentence = \" \".join(words)  # Joins with spaces\n",
    "     ```"
   ]
  },
  {
   "cell_type": "code",
   "execution_count": 31,
   "metadata": {},
   "outputs": [
    {
     "name": "stdout",
     "output_type": "stream",
     "text": [
      "Python..is..powerful\n"
     ]
    }
   ],
   "source": [
    "words = [\"Python\", \"is\", \"powerful\"]\n",
    "sentence = \"..\".join(words)  # Joins with spaces\n",
    "print(sentence)"
   ]
  },
  {
   "cell_type": "markdown",
   "metadata": {},
   "source": [
    "6. **Real-World Example: Data Cleaning**\n",
    "\n",
    "   - String methods are invaluable when cleaning and processing data. For example, in data analysis, you may need to remove unwanted characters, change formatting, or normalize text.\n",
    "\n",
    "   - Example:\n",
    "     ```python\n",
    "     data = \"Price: $19.99\"\n",
    "     cleaned_data = data.replace(\"Price: $\", \"\").strip()  # Result: \"19.99\"\n",
    "     ```\n",
    "\n",
    "   - String methods help ensure data consistency and accuracy.\n",
    "\n",
    "By mastering these common string methods, you can efficiently work with and manipulate textual data in Python. They are essential tools for tasks ranging from data cleaning to text processing."
   ]
  },
  {
   "cell_type": "markdown",
   "metadata": {},
   "source": [
    "**Reflection Questions:**\n",
    "\n",
    "1. Which string method can be used to find the length of a string?\n",
    "   - A) `len()`\n",
    "   - B) `length()`\n",
    "   - C) `count()`\n",
    "   - D) `size()`\n",
    "   \n",
    "   <details>\n",
    "<summary>Click to reveal the answer</summary>\n",
    "   (Correct Answer: A)"
   ]
  },
  {
   "cell_type": "markdown",
   "metadata": {},
   "source": [
    "2. How can you check if a string starts with a specific prefix?\n",
    "   - A) Using `beginwith()`\n",
    "   - B) Using `starts()`\n",
    "   - C) Using `startswith()`\n",
    "   - D) Using `prefix()`\n",
    "   \n",
    "   <details>\n",
    "<summary>Click to reveal the answer</summary>\n",
    "   (Correct Answer: C)"
   ]
  },
  {
   "cell_type": "markdown",
   "metadata": {},
   "source": [
    "## **Strings Lab**\n",
    "\n",
    "In this lab, we will dive into practical string operations to solidify your understanding of the concepts covered in the lecture. You will have the opportunity to apply your knowledge and work with strings in Python.\n",
    "\n",
    "**Instructions:**\n",
    "\n",
    "1. For each exercise, complete the code to accomplish the task.\n",
    "2. Test your code with various inputs to ensure it works correctly.\n",
    "3. Pay attention to the questions provided, as they are designed to reinforce your understanding of string operations.\n",
    "4. Don't hesitate to ask for help or collaborate with your peers if you encounter challenges."
   ]
  },
  {
   "cell_type": "markdown",
   "metadata": {},
   "source": [
    "**Exercise 1: String Concatenation**\n",
    "\n",
    "- **Task:** Write a Python program that takes a user's first name and last name as input, then prints the full name by concatenating them.\n",
    "- **Starter Code:**\n",
    "  ```python\n",
    "  # Input\n",
    "  first_name = input(\"Enter your first name: \")\n",
    "  last_name = input(\"Enter your last name: \")\n",
    "\n",
    "  # Concatenate and print the full name\n",
    "  ```\n",
    "- **Questions:**\n",
    "  1. Which operator is used for string concatenation in Python?\n",
    "  2. What happens if you don't convert user input to strings before concatenation?"
   ]
  },
  {
   "cell_type": "markdown",
   "metadata": {},
   "source": [
    "# TODO-1"
   ]
  },
  {
   "cell_type": "code",
   "execution_count": null,
   "metadata": {},
   "outputs": [],
   "source": [
    "# Code your solution to Exrercise 1 here"
   ]
  },
  {
   "cell_type": "markdown",
   "metadata": {},
   "source": [
    "**Exercise 2: String Repetition**\n",
    "\n",
    "- **Task:** Write a Python program that takes a word and a number as input and prints the word repeated that many times.\n",
    "- **Starter Code:**\n",
    "  ```python\n",
    "  # Input\n",
    "  word = input(\"Enter a word: \")\n",
    "  num = int(input(\"Enter a number: \"))\n",
    "\n",
    "  # Repeat and print the word\n",
    "  ```\n",
    "- **Questions:**\n",
    "  1. What data type is the variable `num` in this exercise, and why is it necessary to convert it?\n",
    "  2. How could you modify the program to handle situations where the user enters a non-integer value for `num`?"
   ]
  },
  {
   "cell_type": "markdown",
   "metadata": {},
   "source": [
    "# TODO-2"
   ]
  },
  {
   "cell_type": "code",
   "execution_count": null,
   "metadata": {},
   "outputs": [],
   "source": [
    "# Code your solution to Exrercise 2 here"
   ]
  },
  {
   "cell_type": "markdown",
   "metadata": {},
   "source": [
    "**Exercise 3: String Interpolation**\n",
    "\n",
    "- **Task:** Write a Python program that takes a user's name and age as input, then prints a welcome message using string interpolation.\n",
    "- **Starter Code:**\n",
    "  ```python\n",
    "  # Input\n",
    "  name = input(\"Enter your name: \")\n",
    "  age = int(input(\"Enter your age: \"))\n",
    "\n",
    "  # Interpolate and print a welcome message\n",
    "  ```\n",
    "- **Questions:**\n",
    "  1. What is the benefit of using string interpolation (f-strings) compared to simple concatenation for generating dynamic messages?\n",
    "  2. What could be a potential issue if the age input is not converted to an integer?"
   ]
  },
  {
   "cell_type": "markdown",
   "metadata": {},
   "source": [
    "# TODO-3"
   ]
  },
  {
   "cell_type": "code",
   "execution_count": null,
   "metadata": {},
   "outputs": [],
   "source": [
    "# Code your solution to Exrercise 3 here"
   ]
  },
  {
   "cell_type": "markdown",
   "metadata": {},
   "source": [
    "**Exercise 4: Real-World Data Cleaning**\n",
    "\n",
    "- **Task:** Write a Python program that cleans up a given string by removing leading and trailing whitespace and converting it to lowercase.\n",
    "- **Starter Code:**\n",
    "  ```python\n",
    "  # Input\n",
    "  raw_data = \"    This Is Some Unformatted Text     \"\n",
    "\n",
    "  # Clean and print the data\n",
    "  ```\n",
    "- **Questions:**\n",
    "  1. Why is data cleaning important in real-world data processing tasks?\n",
    "  2. Which string methods can you use to achieve the desired cleaning in this exercise?"
   ]
  },
  {
   "cell_type": "markdown",
   "metadata": {},
   "source": [
    "# TODO-4"
   ]
  },
  {
   "cell_type": "code",
   "execution_count": null,
   "metadata": {},
   "outputs": [],
   "source": [
    "# Code your solution to Exrercise 4 here"
   ]
  },
  {
   "cell_type": "markdown",
   "metadata": {},
   "source": [
    "## **String Challenges**\n",
    "\n",
    "**Instructions:**\n",
    "\n",
    "1. For each challenge, complete the code to accomplish the task.\n",
    "2. Test your code with various inputs to ensure it works correctly.\n",
    "3. Reflect on the questions provided to deepen your understanding of the challenges.\n",
    "4. These challenges are designed to be more complex, so take your time and think through your solutions.\n",
    "5. Don't hesitate to ask for help or collaborate with your peers if you encounter challenges."
   ]
  },
  {
   "cell_type": "markdown",
   "metadata": {},
   "source": [
    "**Challenge 1: Palindrome Checker**\n",
    "\n",
    "- **Task:** Write a Python program that checks if a given string is a palindrome, meaning it reads the same forwards and backward. Ignore spaces and consider letter casing.\n",
    "- **Starter Code:**\n",
    "  ```python\n",
    "  # Input\n",
    "  text = input(\"Enter a string: \")\n",
    "\n",
    "  # Check if the string is a palindrome and print the result\n",
    "  ```\n",
    "- **Questions:**\n",
    "  1. What is the concept of a palindrome, and how do you approach ignoring spaces and letter casing?"
   ]
  },
  {
   "cell_type": "markdown",
   "metadata": {},
   "source": [
    "# TODO-5"
   ]
  },
  {
   "cell_type": "code",
   "execution_count": 1,
   "metadata": {},
   "outputs": [],
   "source": [
    "# Code your solution to Challenge 1 here"
   ]
  },
  {
   "cell_type": "markdown",
   "metadata": {},
   "source": [
    "**Challenge 2: Word Reversal**\n",
    "\n",
    "- **Task:** Write a Python program that takes a sentence as input and reverses the order of words.\n",
    "- **Starter Code:**\n",
    "  ```python\n",
    "  # Input\n",
    "  sentence = input(\"Enter a sentence: \")\n",
    "\n",
    "  # Reverse the words in the sentence and print the result\n",
    "  ```\n",
    "- **Questions:**\n",
    "  1. How can you split a sentence into words?\n",
    "  2. What technique can be used to reverse the order of elements in a sequence?"
   ]
  },
  {
   "cell_type": "markdown",
   "metadata": {},
   "source": [
    "# TODO-6"
   ]
  },
  {
   "cell_type": "code",
   "execution_count": 2,
   "metadata": {},
   "outputs": [],
   "source": [
    "# Code your solution to Challenge 2 here"
   ]
  },
  {
   "cell_type": "markdown",
   "metadata": {},
   "source": [
    "**Challenge 3: Email Validation**\n",
    "\n",
    "- **Task:** Write a Python program that checks if a given string is a valid email address. Ensure it follows common email address rules (e.g., username@domain.com).\n",
    "- **Starter Code:**\n",
    "  ```python\n",
    "  # Input\n",
    "  email = input(\"Enter an email address: \")\n",
    "\n",
    "  # Check if the email address is valid and print the result\n",
    "  ```\n",
    "- **Questions:**\n",
    "  1. What are the key components of a valid email address?\n",
    "  2. How would you approach verifying the format of an email address in your code?"
   ]
  },
  {
   "cell_type": "markdown",
   "metadata": {},
   "source": [
    "# TODO-7"
   ]
  },
  {
   "cell_type": "code",
   "execution_count": 3,
   "metadata": {},
   "outputs": [],
   "source": [
    "# Code your solution to Challenge 3 here"
   ]
  },
  {
   "cell_type": "markdown",
   "metadata": {},
   "source": [
    "**Challenge 4: Sentence Capitalization**\n",
    "\n",
    "- **Task:** Write a Python program that capitalizes the first letter of each word in a sentence.\n",
    "- **Starter Code:**\n",
    "  ```python\n",
    "  # Input\n",
    "  sentence = input(\"Enter a sentence: \")\n",
    "\n",
    "  # Capitalize the first letter of each word and print the result\n",
    "  ```\n",
    "- **Questions:**\n",
    "  1. How can you split a sentence into words to work on individual words?\n",
    "  2. Which string method can be used to capitalize the first letter of a word?"
   ]
  },
  {
   "cell_type": "markdown",
   "metadata": {},
   "source": [
    "# TODO-8"
   ]
  },
  {
   "cell_type": "code",
   "execution_count": 4,
   "metadata": {},
   "outputs": [],
   "source": [
    "# Code your solution to Challenge 4 here"
   ]
  },
  {
   "cell_type": "markdown",
   "metadata": {},
   "source": [
    "## **Problems**\n",
    "\n",
    "**Very Easy Problems:**\n",
    "\n",
    "1. **Problem 1: Count Uppercase Letters**\n",
    "\n",
    "   Write a Python function `count_uppercase(text)` that takes a string as input and returns the number of uppercase letters in the string.\n",
    "\n",
    "   **Example:**\n",
    "   ```python\n",
    "   count_uppercase(\"Hello World\")  # Should return 2\n",
    "   ```"
   ]
  },
  {
   "cell_type": "markdown",
   "metadata": {},
   "source": [
    "# TODO-9"
   ]
  },
  {
   "cell_type": "code",
   "execution_count": null,
   "metadata": {},
   "outputs": [],
   "source": [
    "# Code your solution to Problem 1 here"
   ]
  },
  {
   "cell_type": "markdown",
   "metadata": {},
   "source": [
    "2. **Problem 2: Reverse a String**\n",
    "\n",
    "   Write a Python function `reverse_string(text)` that takes a string as input and returns the reversed string.\n",
    "\n",
    "   **Example:**\n",
    "   ```python\n",
    "   reverse_string(\"Python\")  # Should return \"nohtyP\"\n",
    "   ```"
   ]
  },
  {
   "cell_type": "markdown",
   "metadata": {},
   "source": [
    "# TODO-10"
   ]
  },
  {
   "cell_type": "code",
   "execution_count": null,
   "metadata": {},
   "outputs": [],
   "source": [
    "# Code your solution to Problem 2 here"
   ]
  },
  {
   "cell_type": "markdown",
   "metadata": {},
   "source": [
    "**Easy Problems:**\n",
    "\n",
    "3. **Problem 3: Check for Palindrome**\n",
    "\n",
    "   Write a Python function `is_palindrome(text)` that takes a string as input and returns `True` if the string is a palindrome (reads the same forwards and backward), ignoring spaces and letter casing. Otherwise, return `False`.\n",
    "\n",
    "   **Example:**\n",
    "   ```python\n",
    "   is_palindrome(\"racecar\")  # Should return True\n",
    "   ```"
   ]
  },
  {
   "cell_type": "markdown",
   "metadata": {},
   "source": [
    "# TODO-11"
   ]
  },
  {
   "cell_type": "code",
   "execution_count": null,
   "metadata": {},
   "outputs": [],
   "source": [
    "# Code your solution to Problem 3 here"
   ]
  },
  {
   "cell_type": "markdown",
   "metadata": {},
   "source": [
    "4. **Problem 4: Title Case Sentence**\n",
    "\n",
    "   Write a Python function `title_case(sentence)` that takes a sentence as input and returns the sentence with the first letter of each word capitalized.\n",
    "\n",
    "   **Example:**\n",
    "   ```python\n",
    "   title_case(\"this is a sample sentence\")  # Should return \"This Is A Sample Sentence\"\n",
    "   ```"
   ]
  },
  {
   "cell_type": "markdown",
   "metadata": {},
   "source": [
    "# TODO-12"
   ]
  },
  {
   "cell_type": "code",
   "execution_count": null,
   "metadata": {},
   "outputs": [],
   "source": [
    "# Code your solution to Problem 4 here"
   ]
  },
  {
   "cell_type": "markdown",
   "metadata": {},
   "source": [
    "**Medium Problems:**\n",
    "\n",
    "5. **Problem 5: Remove Duplicates**\n",
    "\n",
    "   Write a Python function `remove_duplicates(text)` that takes a string as input and returns the string with duplicate characters removed, keeping only the first occurrence of each character.\n",
    "\n",
    "   **Example:**\n",
    "   ```python\n",
    "   remove_duplicates(\"programming\")  # Should return \"progamin\"\n",
    "   ```\n",
    "\n",
    "   **Hint:** You can use an empty string to build the result while iterating through the input string."
   ]
  },
  {
   "cell_type": "markdown",
   "metadata": {},
   "source": [
    "# TODO-13"
   ]
  },
  {
   "cell_type": "code",
   "execution_count": null,
   "metadata": {},
   "outputs": [],
   "source": [
    "# Code your solution to Problem 5 here"
   ]
  },
  {
   "cell_type": "markdown",
   "metadata": {},
   "source": [
    "6. **Problem 6: Word Count**\n",
    "\n",
    "   Write a Python function `word_count(text)` that takes a string as input and returns a dictionary with the count of each word in the string. Words are separated by spaces.\n",
    "\n",
    "   **Example:**\n",
    "   ```python\n",
    "   word_count(\"the quick brown fox jumps over the lazy dog\")  # Should return {'the': 2, 'quick': 1, 'brown': 1, 'fox': 1, 'jumps': 1, 'over': 1, 'lazy': 1, 'dog': 1}\n",
    "   ```\n",
    "\n",
    "   **Hint:** You can use the `split()` method to break the input string into words."
   ]
  },
  {
   "cell_type": "markdown",
   "metadata": {},
   "source": [
    "# TODO-14"
   ]
  },
  {
   "cell_type": "code",
   "execution_count": null,
   "metadata": {},
   "outputs": [],
   "source": [
    "# Code your solution to Problem 6 here"
   ]
  },
  {
   "cell_type": "markdown",
   "metadata": {},
   "source": [
    "**Difficult Problem:**\n",
    "\n",
    "7. **Problem 7: Email Extraction**\n",
    "\n",
    "   Write a Python function `extract_emails(text)` that takes a long text as input and returns a list of unique email addresses found within the text. Assume that email addresses follow the format `username@domain.com`.\n",
    "\n",
    "   **Example:**\n",
    "   ```python\n",
    "   text = \"Please contact support@example.com or john.doe@email.com for assistance. support@example.com\"\n",
    "   extract_emails(text)  # Should return ['support@example.com', 'john.doe@email.com']\n",
    "   ```\n",
    "\n",
    "   **Hint:** You can use regular expressions to identify email patterns and extract them from the text."
   ]
  },
  {
   "cell_type": "markdown",
   "metadata": {},
   "source": [
    "# TODO-15"
   ]
  },
  {
   "cell_type": "code",
   "execution_count": null,
   "metadata": {},
   "outputs": [],
   "source": [
    "# Code your solution to Problem 7 here"
   ]
  }
 ],
 "metadata": {
  "kernelspec": {
   "display_name": "Python 3",
   "language": "python",
   "name": "python3"
  },
  "language_info": {
   "codemirror_mode": {
    "name": "ipython",
    "version": 3
   },
   "file_extension": ".py",
   "mimetype": "text/x-python",
   "name": "python",
   "nbconvert_exporter": "python",
   "pygments_lexer": "ipython3",
   "version": "3.6.5"
  }
 },
 "nbformat": 4,
 "nbformat_minor": 2
}
