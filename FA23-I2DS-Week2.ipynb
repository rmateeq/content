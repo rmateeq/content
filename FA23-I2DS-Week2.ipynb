{
 "cells": [
  {
   "cell_type": "markdown",
   "metadata": {},
   "source": [
    "# Your Name:\n",
    "# Registration Number:"
   ]
  },
  {
   "cell_type": "markdown",
   "metadata": {},
   "source": [
    "## Intro to Data Science (Fall2023)\n",
    "### Week02 (17/24-Oct-2023)\n",
    "\n",
    "**M Ateeq**,<br>\n",
    "*Department of Data Science, The Islamia University of Bahawalpur.*"
   ]
  },
  {
   "cell_type": "markdown",
   "metadata": {},
   "source": [
    "### Outline\n",
    "\n",
    "Here's a layout for the our introductory topic \"Basics of Python syntax (variables, data types, operators)\" along with a lab component:\n",
    "\n",
    "### **Lecture/Lab:** Control Flow (if statements, loops)\n",
    "\n",
    "**I. Introduction to Control Flow**\n",
    "- What is control flow?\n",
    "- The importance of control flow in programming.\n",
    "- An overview of decision-making and looping structures.\n",
    "\n",
    "**II. Conditional Statements: If Statements**\n",
    "- Syntax of the `if` statement.\n",
    "- Simple `if` statements.\n",
    "- Using `if-else` statements.\n",
    "- Using `if-elif-else` statements for multiple conditions.\n",
    "- Nested `if` statements.\n",
    "- Real-world examples of conditional statements.\n",
    "\n",
    "**III. Lab Exercise 1**\n",
    "- Exercise to practice writing and using `if` statements.\n",
    "- Scenario-based problems where students use `if` and `if-else` statements to make decisions.\n",
    "\n",
    "**IV. Loops: Introduction**\n",
    "- The concept of loops and their significance.\n",
    "- Introducing two primary types of loops: `for` and `while`.\n",
    "- The role of loops in automating repetitive tasks.\n",
    "\n",
    "**V. For Loops**\n",
    "- Syntax and usage of `for` loops.\n",
    "- Iterating through sequences (e.g., lists, strings).\n",
    "- Using `range()` function for controlled iteration.\n",
    "- Real-world examples of `for` loops.\n",
    "\n",
    "**VI. Lab Exercise 2**\n",
    "- Exercise to practice writing `for` loops.\n",
    "- Problems where students iterate through lists or perform repetitive tasks using `for` loops.\n",
    "\n",
    "**Lab Exercise 3: While Loops**\n",
    "- Introduction to `while` loops.\n",
    "- Syntax and usage of `while` loops.\n",
    "- Using `while` loops for indefinite repetition.\n",
    "- Real-world examples of `while` loops.\n",
    "\n",
    "**Lab Exercise 4: Combining Control Structures**\n",
    "- Complex exercises combining conditional statements and loops.\n",
    "- Problem-solving scenarios that require using both `if` statements and loops to achieve specific outcomes.\n",
    "\n"
   ]
  },
  {
   "cell_type": "markdown",
   "metadata": {},
   "source": [
    "### **Introduction to Control Flow**\n",
    "\n",
    "Today, we'll dive into the world of control flow in Python. Control flow is a fundamental concept in programming, allowing us to make decisions and control the execution of our code. Let's get started!\n",
    "\n",
    "**I. What is Control Flow?**\n",
    "\n",
    "Control flow refers to the order in which statements and instructions are executed in a program. It allows us to determine the path our program takes based on certain conditions and loops."
   ]
  },
  {
   "cell_type": "markdown",
   "metadata": {},
   "source": [
    "**Reflection MCQ 1 (Multiple Choice Question):**\n",
    "\n",
    "What is the primary purpose of control flow in programming?\n",
    "\n",
    "a) Executing all statements sequentially\n",
    "\n",
    "b) Skipping certain statements\n",
    "\n",
    "c) Determining the order of statement execution based on conditions\n",
    "\n",
    "d) Controlling the flow of electricity in the computer\n",
    "\n",
    "<details>\n",
    "<summary>Click to reveal the answer</summary>\n",
    "*Correct Answer: c) Determining the order of statement execution based on conditions*"
   ]
  },
  {
   "cell_type": "markdown",
   "metadata": {},
   "source": [
    "**II. Importance of Control Flow**\n",
    "\n",
    "Control flow is essential in programming for the following reasons:\n",
    "\n",
    "- **Decision-Making**: It allows us to make choices and execute specific code blocks based on conditions. For example, you might want to execute one set of instructions if a condition is true and another set if it's false."
   ]
  },
  {
   "cell_type": "markdown",
   "metadata": {},
   "source": [
    "**Reflection MCQ 2:**\n",
    "\n",
    "Why is control flow important in programming?\n",
    "\n",
    "a) It helps avoid writing code.\n",
    "\n",
    "b) It allows for random execution of code.\n",
    "\n",
    "c) It enables decision-making and executing code based on conditions.\n",
    "\n",
    "d) It's only used in specific programming languages.\n",
    "\n",
    "<details>\n",
    "<summary>Click to reveal the answer</summary>\n",
    "*Correct Answer: c) It enables decision-making and executing code based on conditions.*"
   ]
  },
  {
   "cell_type": "markdown",
   "metadata": {},
   "source": [
    "**III. Overview of Decision-Making and Looping Structures**\n",
    "\n",
    "In Python, we have several control flow structures. The two primary ones we'll cover are:\n",
    "\n",
    "- **Conditional Statements**: These allow us to execute specific blocks of code based on whether a condition is true or false. We'll see how to use `if` statements, `if-else` statements, and `if-elif-else` statements.\n",
    "\n",
    "- **Loops**: Loops are used for repeating tasks. We'll explore two main types: `for` loops and `while` loops. These help us automate tasks by executing a block of code multiple times."
   ]
  },
  {
   "cell_type": "markdown",
   "metadata": {},
   "source": [
    "**Reflection MCQ 3:**\n",
    "\n",
    "Which of the following is a primary control flow structure in Python?\n",
    "\n",
    "a) Variables\n",
    "\n",
    "b) Functions\n",
    "\n",
    "c) Conditional Statements\n",
    "\n",
    "d) Comments\n",
    "\n",
    "<details>\n",
    "<summary>Click to reveal the answer</summary>\n",
    "*Correct Answer: c) Conditional Statements*"
   ]
  },
  {
   "cell_type": "markdown",
   "metadata": {},
   "source": [
    "**Reflection MCQ 4:**\n",
    "\n",
    "What is the primary purpose of loops in programming?\n",
    "\n",
    "a) Automating repetitive tasks\n",
    "\n",
    "b) Decision-making\n",
    "\n",
    "c) Displaying text\n",
    "\n",
    "d) Skipping code execution\n",
    "\n",
    "<details>\n",
    "<summary>Click to reveal the answer</summary>\n",
    "*Correct Answer: a) Automating repetitive tasks*"
   ]
  },
  {
   "cell_type": "markdown",
   "metadata": {},
   "source": [
    "With this introduction to control flow, you now have an idea of what we'll be exploring in this session. In the next segment, we'll start with conditional statements, specifically, `if` statements, and learn how they can be used for decision-making in Python."
   ]
  },
  {
   "cell_type": "markdown",
   "metadata": {},
   "source": [
    "### **Conditional Statements: If Statements**\n",
    "\n",
    "In this segment, we'll delve into conditional statements, specifically focusing on `if` statements. These statements allow us to make decisions in our Python programs. Let's explore how they work.\n",
    "\n",
    "**I. The `if` Statement**\n",
    "\n",
    "The `if` statement is one of the simplest forms of a conditional statement. It allows us to execute a block of code if a specified condition is true. Here's the basic syntax:\n",
    "\n",
    "```python\n",
    "if condition:\n",
    "    # Code to execute if the condition is true\n",
    "```\n",
    "\n",
    "- The `if` keyword is followed by a condition.\n",
    "- If the condition evaluates to `True`, the indented code block beneath it is executed."
   ]
  },
  {
   "cell_type": "markdown",
   "metadata": {},
   "source": [
    "**Reflection MCQ 1:**\n",
    "\n",
    "What is the primary purpose of an `if` statement in Python?\n",
    "\n",
    "a) To execute a block of code unconditionally\n",
    "\n",
    "b) To execute a block of code if a specified condition is true\n",
    "\n",
    "c) To execute a block of code if a specified condition is false\n",
    "\n",
    "d) To execute a block of code repeatedly\n",
    "\n",
    "<details>\n",
    "<summary>Click to reveal the answer</summary>\n",
    "*Correct Answer: b) To execute a block of code if a specified condition is true*"
   ]
  },
  {
   "cell_type": "markdown",
   "metadata": {},
   "source": [
    "**II. Simple `if` Statements**\n",
    "\n",
    "Let's start with a simple example. We'll check if a number is positive and print a message if it is.\n",
    "\n",
    "```python\n",
    "num = 10\n",
    "\n",
    "if num > 0:\n",
    "    print(\"The number is positive.\")\n",
    "```\n",
    "\n",
    "- In this case, the condition `num > 0` is evaluated. Since it's true (10 is greater than 0), the message \"The number is positive\" will be displayed.\n",
    "\n"
   ]
  },
  {
   "cell_type": "code",
   "execution_count": 28,
   "metadata": {},
   "outputs": [
    {
     "name": "stdout",
     "output_type": "stream",
     "text": [
      "1. testing....\n",
      "2. The number is positive.\n",
      "3. hehehe.... shumaila,,,,, heheheheheeeeee\n"
     ]
    }
   ],
   "source": [
    "num = 10\n",
    "\n",
    "if num > 0:\n",
    "    print(\"1. testing....\")\n",
    "    print(\"2. The number is positive.\")\n",
    "print(\"3. hehehe.... shumaila,,,,, heheheheheeeeee\")"
   ]
  },
  {
   "cell_type": "markdown",
   "metadata": {},
   "source": [
    "**III. Using `if-else` Statements**\n",
    "\n",
    "In many cases, we want to execute one block of code if a condition is true and another block if it's false. This is where `if-else` statements come into play.\n",
    "\n",
    "```python\n",
    "num = -5\n",
    "\n",
    "if num > 0:\n",
    "    print(\"The number is positive.\")\n",
    "else:\n",
    "    print(\"The number is not positive.\")\n",
    "```\n",
    "\n",
    "- If the condition `num > 0` is true, the first block is executed. Otherwise, the second block is executed."
   ]
  },
  {
   "cell_type": "code",
   "execution_count": 32,
   "metadata": {},
   "outputs": [
    {
     "name": "stdout",
     "output_type": "stream",
     "text": [
      "The number is not positive.\n"
     ]
    }
   ],
   "source": [
    "num = -5\n",
    "\n",
    "if num > 0:\n",
    "    print(\"The number is positive.\")\n",
    "else:\n",
    "    print(\"The number is not positive.\")"
   ]
  },
  {
   "cell_type": "markdown",
   "metadata": {},
   "source": [
    "**Reflection MCQ 2:**\n",
    "\n",
    "When might you use an `if-else` statement in Python?\n",
    "\n",
    "a) To execute only one block of code unconditionally\n",
    "\n",
    "b) To execute one block of code if a condition is true and another if it's false\n",
    "\n",
    "c) To execute multiple blocks of code sequentially\n",
    "\n",
    "d) To repeat a block of code multiple times\n",
    "\n",
    "<details>\n",
    "<summary>Click to reveal the answer</summary>\n",
    "*Correct Answer: b) To execute one block of code if a condition is true and another if it's false*"
   ]
  },
  {
   "cell_type": "markdown",
   "metadata": {},
   "source": [
    "**IV. Using `if-elif-else` Statements**\n",
    "\n",
    "In more complex scenarios, you might have multiple conditions to check. This is where `if-elif-else` statements become useful.\n",
    "\n",
    "```python\n",
    "num = 0\n",
    "\n",
    "if num > 0:\n",
    "    print(\"The number is positive.\")\n",
    "elif num < 0:\n",
    "    print(\"The number is negative.\")\n",
    "else:\n",
    "    print(\"The number is zero.\")\n",
    "```\n",
    "\n",
    "- In this example, we check three conditions sequentially. The first condition that evaluates to `True` triggers the corresponding block of code."
   ]
  },
  {
   "cell_type": "code",
   "execution_count": 4,
   "metadata": {},
   "outputs": [
    {
     "name": "stdout",
     "output_type": "stream",
     "text": [
      "The number is zero.\n"
     ]
    }
   ],
   "source": [
    "num = 0\n",
    "\n",
    "if num > 0:\n",
    "    print(\"The number is positive.\")\n",
    "elif num < 0:\n",
    "    print(\"The number is negative.\")\n",
    "else:\n",
    "    print(\"The number is zero.\")"
   ]
  },
  {
   "cell_type": "markdown",
   "metadata": {},
   "source": [
    "**Reflection MCQ 3:**\n",
    "\n",
    "When might you use an `if-elif-else` statement in Python?\n",
    "\n",
    "a) To execute only one block of code unconditionally\n",
    "\n",
    "b) To execute one block of code if a condition is true and another if it's false\n",
    "\n",
    "c) To execute multiple blocks of code sequentially\n",
    "\n",
    "d) To handle multiple conditions and execute the block corresponding to the first true condition\n",
    "\n",
    "<details>\n",
    "<summary>Click to reveal the answer</summary>\n",
    "*Correct Answer: d) To handle multiple conditions and execute the block corresponding to the first true condition*"
   ]
  },
  {
   "cell_type": "markdown",
   "metadata": {},
   "source": [
    "With `if` statements, you have the power to make decisions in your code. In our next session, we'll explore more complex conditions and introduce practical examples of using `if` statements."
   ]
  },
  {
   "cell_type": "markdown",
   "metadata": {},
   "source": [
    "### **Lab Exercise 1**\n",
    "\n",
    "In this exercise, we will apply what we've learned about `if` statements by working on practical problems. Let's get started!\n",
    "\n",
    "**Exercise 1-1: Positive or Negative?**\n",
    "\n",
    "Your first task is to create a Python script that determines if a number is positive, negative, or zero. Here's what you need to do:\n",
    "\n",
    "1. Prompt the user to enter a numerical value.\n",
    "2. Use an `if` statement to check if the number is positive.\n",
    "3. If it's positive, display a message saying \"The number is positive.\"\n",
    "4. If it's not positive, use an `if-else` statement to check if it's negative.\n",
    "5. If it's negative, display a message saying \"The number is negative.\"\n",
    "6. If it's neither positive nor negative (i.e., zero), display a message saying \"The number is zero.\"\n",
    "\n",
    "**Reflection MCQ 1:**\n",
    "\n",
    "What is the primary purpose of the `if` statement in this exercise?\n",
    "\n",
    "a) To check if the number is negative\n",
    "\n",
    "b) To display a message saying \"The number is zero\"\n",
    "\n",
    "c) To prompt the user to enter a numerical value\n",
    "\n",
    "d) To check if the number is positive\n",
    "\n",
    "<details>\n",
    "<summary>Click to reveal the answer</summary>\n",
    "*Correct Answer: d) To check if the number is positive*"
   ]
  },
  {
   "cell_type": "markdown",
   "metadata": {},
   "source": [
    "# TODO-1"
   ]
  },
  {
   "cell_type": "code",
   "execution_count": 19,
   "metadata": {},
   "outputs": [],
   "source": [
    "# Code your solution to Exrercise 1-1 here"
   ]
  },
  {
   "cell_type": "markdown",
   "metadata": {},
   "source": [
    "<details>\n",
    "<summary>Click to reveal the solution for Exercise 1:</summary>\n",
    "\n",
    "```python\n",
    "# Prompt the user for a numerical value\n",
    "num = float(input(\"Enter a number: \"))\n",
    "\n",
    "# Check if the number is positive, negative, or zero\n",
    "if num > 0:\n",
    "    print(\"The number is positive.\")\n",
    "elif num < 0:\n",
    "    print(\"The number is negative.\")\n",
    "else:\n",
    "    print(\"The number is zero.\")\n",
    "```"
   ]
  },
  {
   "cell_type": "markdown",
   "metadata": {},
   "source": [
    "**Exercise 1-2: Grade Classification**\n",
    "\n",
    "In this task, you'll create a script that classifies a student's grade based on their score. Here's what you need to do:\n",
    "\n",
    "1. Prompt the user to enter a numerical score (e.g., out of 100).\n",
    "2. Use `if-elif-else` statements to classify the grade into the following categories:\n",
    "   - If the score is 90 or higher, display \"A\" for excellent.\n",
    "   - If the score is between 80 and 89, display \"B\" for very good.\n",
    "   - If the score is between 70 and 79, display \"C\" for good.\n",
    "   - If the score is between 60 and 69, display \"D\" for satisfactory.\n",
    "   - If the score is below 60, display \"F\" for fail.\n",
    "\n",
    "**Reflection MCQ 2:**\n",
    "\n",
    "Which statement type is best suited for classifying a student's grade based on a score range?\n",
    "\n",
    "a) `if` statement\n",
    "\n",
    "b) `if-else` statement\n",
    "\n",
    "c) `if-elif-else` statement\n",
    "\n",
    "d) `for` loop\n",
    "\n",
    "<details>\n",
    "<summary>Click to reveal the answer</summary>\n",
    "*Correct Answer: c) `if-elif-else` statement*"
   ]
  },
  {
   "cell_type": "markdown",
   "metadata": {},
   "source": [
    "# TODO-2"
   ]
  },
  {
   "cell_type": "code",
   "execution_count": 18,
   "metadata": {},
   "outputs": [],
   "source": [
    "# Code your solution to Exrercise 1-2 here"
   ]
  },
  {
   "cell_type": "markdown",
   "metadata": {},
   "source": [
    "<details>\n",
    "<summary>Click to reveal the solution for Exercise 2:</summary>\n",
    "\n",
    "```python\n",
    "# Prompt the user for a numerical score\n",
    "score = float(input(\"Enter the score (0-100): \"))\n",
    "\n",
    "# Check the grade based on the score\n",
    "if 90 <= score <= 100:\n",
    "    grade = \"A (Excellent)\"\n",
    "elif 80 <= score < 90:\n",
    "    grade = \"B (Very Good)\"\n",
    "elif 70 <= score < 80:\n",
    "    grade = \"C (Good)\"\n",
    "elif 60 <= score < 70:\n",
    "    grade = \"D (Satisfactory)\"\n",
    "else:\n",
    "    grade = \"F (Fail)\"\n",
    "\n",
    "print(\"Grade:\", grade)\n",
    "\n",
    "```"
   ]
  },
  {
   "cell_type": "markdown",
   "metadata": {},
   "source": [
    "**Exercise 1-3: Identifying the Maximum**\n",
    "\n",
    "In this exercise, you'll write a script to find the maximum of three numbers. Here are the steps:\n",
    "\n",
    "1. Prompt the user to enter three numerical values.\n",
    "2. Use `if-else` statements to compare the numbers and determine which one is the maximum.\n",
    "3. Display a message indicating which number is the maximum.\n",
    "\n",
    "**Reflection MCQ 3:**\n",
    "\n",
    "What type of statement is best suited for comparing three numbers and identifying the maximum?\n",
    "\n",
    "a) `if` statement\n",
    "\n",
    "b) `if-else` statement\n",
    "\n",
    "c) `if-elif-else` statement\n",
    "\n",
    "d) `for` loop\n",
    "\n",
    "<details>\n",
    "<summary>Click to reveal the answer</summary>\n",
    "*Correct Answer: b) `if-else` statement*\n",
    "\n",
    "Now it's your turn! Open your Python development environment, create a new Python script, and work on these exercises. Don't forget to run your script to check the results. These exercises will help reinforce your understanding of `if` statements and decision-making in Python."
   ]
  },
  {
   "cell_type": "markdown",
   "metadata": {},
   "source": [
    "# TODO-3"
   ]
  },
  {
   "cell_type": "code",
   "execution_count": 20,
   "metadata": {},
   "outputs": [],
   "source": [
    "# Code your solution to Exrercise 1-3 here"
   ]
  },
  {
   "cell_type": "markdown",
   "metadata": {},
   "source": [
    "<details>\n",
    "<summary>Click to reveal the solution for Exercise 3:</summary>\n",
    "    \n",
    "```python\n",
    "# Prompt the user to enter three numerical values\n",
    "num1 = float(input(\"Enter the first number: \"))\n",
    "num2 = float(input(\"Enter the second number: \"))\n",
    "num3 = float(input(\"Enter the third number: \"))\n",
    "\n",
    "# Initialize a variable to store the maximum\n",
    "maximum = num1\n",
    "\n",
    "# Compare and update maximum\n",
    "if num2 > maximum:\n",
    "    maximum = num2\n",
    "if num3 > maximum:\n",
    "    maximum = num3\n",
    "\n",
    "print(\"The maximum number is:\", maximum)\n",
    "```"
   ]
  },
  {
   "cell_type": "markdown",
   "metadata": {},
   "source": [
    "### **Loops: Introduction**\n",
    "\n",
    "In this segment, we'll explore the concept of loops in Python. Loops are essential for automating repetitive tasks, and they play a crucial role in many programs. Let's start with an introduction to loops.\n",
    "\n",
    "**I. The Role of Loops**\n",
    "\n",
    "Loops in programming are used to execute a block of code multiple times. They allow us to automate tasks and perform actions on a collection of items, like a list of values or characters in a string.\n",
    "\n",
    "**Reflection MCQ 1:**\n",
    "\n",
    "What is the primary purpose of loops in programming?\n",
    "\n",
    "a) To execute a block of code unconditionally\n",
    "\n",
    "b) To automate repetitive tasks and perform actions multiple times\n",
    "\n",
    "c) To make decisions in code\n",
    "\n",
    "d) To display messages to the user\n",
    "\n",
    "<details>\n",
    "<summary>Click to reveal the answer</summary>\n",
    "*Correct Answer: b) To automate repetitive tasks and perform actions multiple times*"
   ]
  },
  {
   "cell_type": "markdown",
   "metadata": {},
   "source": [
    "**II. Types of Loops in Python**\n",
    "\n",
    "Python provides two main types of loops:\n",
    "\n",
    "1. **`for` Loops**: These loops are used when you know the number of times you want to repeat a block of code. They are often used to iterate through sequences like lists, strings, or range of numbers.\n",
    "\n",
    "**Reflection MCQ 2:**\n",
    "\n",
    "When would you typically use a `for` loop in Python?\n",
    "\n",
    "a) When you want to repeat a block of code indefinitely\n",
    "\n",
    "b) When you know the number of times you want to repeat a block of code\n",
    "\n",
    "c) When you want to make decisions in code\n",
    "\n",
    "d) When you want to display messages to the user\n",
    "\n",
    "<details>\n",
    "<summary>Click to reveal the answer</summary>\n",
    "*Correct Answer: b) When you know the number of times you want to repeat a block of code*"
   ]
  },
  {
   "cell_type": "markdown",
   "metadata": {},
   "source": [
    "2. **`while` Loops**: `while` loops are used when you want to repeat a block of code as long as a certain condition is met. They are often used for indefinite repetition.\n",
    "\n",
    "**Reflection MCQ 3:**\n",
    "\n",
    "In which situation is a `while` loop the most suitable choice in Python?\n",
    "\n",
    "a) When you want to repeat a block of code a specific number of times\n",
    "\n",
    "b) When you want to make decisions in code\n",
    "\n",
    "c) When you want to display messages to the user\n",
    "\n",
    "d) When you want to repeat a block of code as long as a condition is true\n",
    "\n",
    "<details>\n",
    "<summary>Click to reveal the answer</summary>\n",
    "*Correct Answer: d) When you want to repeat a block of code as long as a condition is true*"
   ]
  },
  {
   "cell_type": "markdown",
   "metadata": {},
   "source": [
    "**III. Looping in Python**\n",
    "\n",
    "Let's start with `for` loops. They are particularly useful for iterating through sequences. Here's a simple example:\n",
    "\n",
    "```python\n",
    "fruits = [\"apple\", \"banana\", \"cherry\"]\n",
    "\n",
    "for fruit in fruits:\n",
    "    print(fruit)\n",
    "```\n",
    "\n",
    "In this example, the `for` loop iterates through the list of fruits and prints each one."
   ]
  },
  {
   "cell_type": "code",
   "execution_count": 1,
   "metadata": {},
   "outputs": [
    {
     "name": "stdout",
     "output_type": "stream",
     "text": [
      "apple\n",
      "banana\n",
      "cherry\n"
     ]
    }
   ],
   "source": [
    "fruits = [\"apple\", \"banana\", \"cherry\"]\n",
    "\n",
    "for fruit in fruits:\n",
    "    print(fruit)"
   ]
  },
  {
   "cell_type": "markdown",
   "metadata": {},
   "source": [
    "**Reflection MCQ 4:**\n",
    "\n",
    "What is the primary purpose of the `for` loop in the example provided?\n",
    "\n",
    "a) To display the text \"apple,\" \"banana,\" and \"cherry\" to the user\n",
    "\n",
    "b) To make a decision in code\n",
    "\n",
    "c) To automate the task of printing each fruit in the list\n",
    "\n",
    "d) To repeat the loop indefinitely\n",
    "\n",
    "<details>\n",
    "<summary>Click to reveal the answer</summary>\n",
    "*Correct Answer: c) To automate the task of printing each fruit in the list*"
   ]
  },
  {
   "cell_type": "markdown",
   "metadata": {},
   "source": [
    "With this introduction to loops, you're now ready to explore more about `for` loops in our next session. We'll see practical examples and understand how to use them effectively."
   ]
  },
  {
   "cell_type": "markdown",
   "metadata": {},
   "source": [
    "### **For Loops**\n",
    "\n",
    "In this segment, we'll dive deeper into the world of `for` loops in Python. `for` loops are incredibly useful for iterating through sequences, performing actions on each element, and automating repetitive tasks.\n",
    "\n",
    "**I. The `for` Loop in Python**\n",
    "\n",
    "The `for` loop is a control flow statement in Python used for iterating over sequences, such as lists, strings, or the result of a `range()` function. It allows us to execute a block of code for each item in the sequence.\n",
    "\n",
    "**Reflection MCQ 1:**\n",
    "\n",
    "What is the primary purpose of a `for` loop in Python?\n",
    "\n",
    "a) To make decisions in code\n",
    "\n",
    "b) To display messages to the user\n",
    "\n",
    "c) To iterate through a sequence and execute a block of code for each item\n",
    "\n",
    "d) To execute a block of code only once\n",
    "\n",
    "<details>\n",
    "<summary>Click to reveal the answer</summary>\n",
    "*Correct Answer: c) To iterate through a sequence and execute a block of code for each item*"
   ]
  },
  {
   "cell_type": "markdown",
   "metadata": {},
   "source": [
    "**II. Basic Syntax of a `for` Loop**\n",
    "\n",
    "The basic syntax of a `for` loop consists of the following components:\n",
    "\n",
    "```python\n",
    "for item in sequence:\n",
    "    # Code to execute for each item\n",
    "```\n",
    "\n",
    "- `item` is a variable that takes on the value of each element in the `sequence`.\n",
    "- The code block beneath the `for` loop is executed for each item in the sequence.\n",
    "\n",
    "**III. Iterating Through Lists**\n",
    "\n",
    "One of the most common use cases of `for` loops is iterating through lists. Let's see an example:\n",
    "\n",
    "```python\n",
    "fruits = [\"apple\", \"banana\", \"cherry\"]\n",
    "\n",
    "for fruit in fruits:\n",
    "    print(fruit)\n",
    "```\n",
    "\n",
    "In this example, the `for` loop iterates through the list `fruits`, and for each item (each fruit), it prints the fruit's name."
   ]
  },
  {
   "cell_type": "code",
   "execution_count": 15,
   "metadata": {},
   "outputs": [
    {
     "name": "stdout",
     "output_type": "stream",
     "text": [
      "apple\n",
      "banana\n",
      "cherry\n"
     ]
    }
   ],
   "source": [
    "fruits = [\"apple\", \"banana\", \"cherry\"]\n",
    "\n",
    "for fruit in fruits:\n",
    "    print(fruit)"
   ]
  },
  {
   "cell_type": "markdown",
   "metadata": {},
   "source": [
    "**Reflection MCQ 2:**\n",
    "\n",
    "What is the outcome of the `for` loop in the example provided?\n",
    "\n",
    "a) It adds the words \"apple,\" \"banana,\" and \"cherry\" together\n",
    "\n",
    "b) It displays each fruit's name in the list\n",
    "\n",
    "c) It counts the number of characters in each fruit's name\n",
    "\n",
    "d) It displays a single message to the user\n",
    "\n",
    "<details>\n",
    "<summary>Click to reveal the answer</summary>\n",
    "*Correct Answer: b) It displays each fruit's name in the list*"
   ]
  },
  {
   "cell_type": "markdown",
   "metadata": {},
   "source": [
    "**IV. Using `range()` for Controlled Iteration**\n",
    "\n",
    "The `range()` function generates a sequence of numbers, and it's often used with `for` loops for controlled iteration. For example:\n",
    "\n",
    "```python\n",
    "for number in range(1, 6):\n",
    "    print(number)\n",
    "```\n",
    "\n",
    "This code will print numbers from 1 to 5, inclusive."
   ]
  },
  {
   "cell_type": "code",
   "execution_count": 13,
   "metadata": {},
   "outputs": [
    {
     "name": "stdout",
     "output_type": "stream",
     "text": [
      "1\n",
      "2\n",
      "3\n",
      "4\n",
      "5\n"
     ]
    }
   ],
   "source": [
    "for number in range(1, 6):\n",
    "    print(number)"
   ]
  },
  {
   "cell_type": "markdown",
   "metadata": {},
   "source": [
    "**Reflection MCQ 3:**\n",
    "\n",
    "What is the role of the `range()` function in the example provided?\n",
    "\n",
    "a) It generates a random sequence of numbers\n",
    "\n",
    "b) It prints numbers from 1 to 5\n",
    "\n",
    "c) It calculates the sum of numbers from 1 to 5\n",
    "\n",
    "d) It checks if a number is equal to 5\n",
    "\n",
    "<details>\n",
    "<summary>Click to reveal the answer</summary>\n",
    "*Correct Answer: b) It prints numbers from 1 to 5*"
   ]
  },
  {
   "cell_type": "markdown",
   "metadata": {},
   "source": [
    "### **Lab Exercise 2**\n",
    "\n",
    "In this exercise, we'll put our knowledge of `for` loops into practice by working on practical problems. Let's dive in!\n",
    "\n",
    "**Exercise 2-1: Iterating Through a List**\n",
    "\n",
    "Your first task is to create a Python script that iterates through a list of numbers and calculates the sum of all the even numbers. Here's what you need to do:\n",
    "\n",
    "1. Create a list of numbers, which can be any numerical values.\n",
    "2. Use a `for` loop to iterate through the list.\n",
    "3. Within the loop, check if the number is even (i.e., divisible by 2).\n",
    "4. If it's even, add it to a running sum.\n",
    "5. After the loop finishes, print the total sum of the even numbers."
   ]
  },
  {
   "cell_type": "markdown",
   "metadata": {},
   "source": [
    "**Reflection MCQ 1:**\n",
    "\n",
    "What is the primary purpose of the `for` loop in this exercise?\n",
    "\n",
    "a) To create a list of numbers\n",
    "\n",
    "b) To calculate the sum of all numbers in the list\n",
    "\n",
    "c) To iterate through a list and perform a specific action for each even number\n",
    "\n",
    "d) To check if a number is odd\n",
    "\n",
    "<details>\n",
    "<summary>Click to reveal the answer</summary>\n",
    "*Correct Answer: c) To iterate through a list and perform a specific action for each even number*"
   ]
  },
  {
   "cell_type": "markdown",
   "metadata": {},
   "source": [
    "# TODO-4"
   ]
  },
  {
   "cell_type": "code",
   "execution_count": 16,
   "metadata": {},
   "outputs": [
    {
     "name": "stdout",
     "output_type": "stream",
     "text": [
      "20\n"
     ]
    }
   ],
   "source": [
    "# Code your solution to Exrercise 2-1 here\n",
    "\n",
    "sum = 0\n",
    "for i in range(2, 10, 2):\n",
    "    sum += i\n",
    "print(sum)\n",
    "        "
   ]
  },
  {
   "cell_type": "markdown",
   "metadata": {},
   "source": [
    "<details>\n",
    "<summary>Click to reveal the solution for Exercise 2-1:</summary>\n",
    "    \n",
    "```python\n",
    "# Create a list of numbers\n",
    "numbers = [1, 2, 3, 4, 5, 6, 7, 8, 9, 10]\n",
    "\n",
    "# Initialize a variable to store the sum of even numbers\n",
    "even_sum = 0\n",
    "\n",
    "# Iterate through the list and calculate the sum of even numbers\n",
    "for num in numbers:\n",
    "    if num % 2 == 0:\n",
    "        even_sum += num\n",
    "\n",
    "print(\"The sum of even numbers is:\", even_sum)\n",
    "```"
   ]
  },
  {
   "cell_type": "markdown",
   "metadata": {},
   "source": [
    "# TODO-5"
   ]
  },
  {
   "cell_type": "code",
   "execution_count": 17,
   "metadata": {},
   "outputs": [],
   "source": [
    "# Write your code below"
   ]
  },
  {
   "cell_type": "markdown",
   "metadata": {},
   "source": [
    "**Exercise 2-2: Counting Characters**\n",
    "\n",
    "In this task, you'll write a script that counts the number of characters in each word of a given sentence. Here's what you need to do:\n",
    "\n",
    "1. Define a sentence as a string with several words.\n",
    "2. Use a `for` loop to iterate through each word in the sentence.\n",
    "3. Within the loop, count the number of characters in each word.\n",
    "4. Print the word and its corresponding character count.\n",
    "\n",
    "**Reflection MCQ 2:**\n",
    "\n",
    "What is the primary purpose of the `for` loop in this exercise?\n",
    "\n",
    "a) To count the number of characters in a sentence\n",
    "\n",
    "b) To display the sentence to the user\n",
    "\n",
    "c) To iterate through the words in a sentence and count the characters in each word\n",
    "\n",
    "d) To iterate through the characters in each word\n",
    "\n",
    "<details>\n",
    "<summary>Click to reveal the answer</summary>\n",
    "*Correct Answer: c) To iterate through the words in a sentence and count the characters in each word*"
   ]
  },
  {
   "cell_type": "markdown",
   "metadata": {},
   "source": [
    "# TODO-6"
   ]
  },
  {
   "cell_type": "code",
   "execution_count": 2,
   "metadata": {},
   "outputs": [],
   "source": [
    "# Code your solution to Exrercise 2-2 here"
   ]
  },
  {
   "cell_type": "markdown",
   "metadata": {},
   "source": [
    "<details>\n",
    "<summary>Click to reveal the solution for Exercise 2-2:</summary>\n",
    "    \n",
    "```python\n",
    "# Define a sentence as a string\n",
    "sentence = \"This is a sample sentence for character counting.\"\n",
    "\n",
    "# Split the sentence into words\n",
    "words = sentence.split()\n",
    "\n",
    "# Iterate through the words and count characters\n",
    "for word in words:\n",
    "    char_count = len(word)\n",
    "    print(f\"{word}: {char_count} characters\")\n",
    "```"
   ]
  },
  {
   "cell_type": "markdown",
   "metadata": {},
   "source": [
    "**Exercise 2-3: Generating a Multiplication Table**\n",
    "\n",
    "For this exercise, you'll create a Python script that generates a multiplication table for a given number. Here's what you need to do:\n",
    "\n",
    "1. Prompt the user to enter a numerical value.\n",
    "2. Use a `for` loop to iterate from 1 to 10.\n",
    "3. Within the loop, calculate the product of the user's number and the current loop variable (1 to 10).\n",
    "4. Print the equation and the result to create a multiplication table.\n",
    "\n",
    "**Reflection MCQ 3:**\n",
    "\n",
    "What is the primary purpose of the `for` loop in this exercise?\n",
    "\n",
    "a) To prompt the user for a number\n",
    "\n",
    "b) To calculate the product of two numbers\n",
    "\n",
    "c) To display the multiplication table\n",
    "\n",
    "d) To iterate through a range of numbers and perform multiplication for each\n",
    "\n",
    "<details>\n",
    "<summary>Click to reveal the answer</summary>\n",
    "*Correct Answer: d) To iterate through a range of numbers and perform multiplication for each*"
   ]
  },
  {
   "cell_type": "markdown",
   "metadata": {},
   "source": [
    "# TODO-7"
   ]
  },
  {
   "cell_type": "code",
   "execution_count": 4,
   "metadata": {},
   "outputs": [],
   "source": [
    "# Code your solution to Exrercise 2-3 here"
   ]
  },
  {
   "cell_type": "markdown",
   "metadata": {},
   "source": [
    "<details>\n",
    "<summary>Click to reveal the solution for Exercise 2-3:</summary>\n",
    "    \n",
    "```python\n",
    "# Prompt the user to enter a numerical value\n",
    "num = int(input(\"Enter a number: \"))\n",
    "\n",
    "# Generate a multiplication table for the given number\n",
    "for i in range(1, 11):\n",
    "    result = num * i\n",
    "    print(f\"{num} x {i} = {result}\")\n",
    "```\n",
    "\n",
    "**OR**\n",
    "\n",
    "```python\n",
    "# Prompt the user to enter a numerical value\n",
    "num = int(input(\"Enter a number: \"))\n",
    "\n",
    "# Generate a multiplication table for the given number\n",
    "for i in range(1, 11):\n",
    "    result = num * i\n",
    "    print(f\"{num} x {i} = {result}\")\n",
    "```"
   ]
  },
  {
   "cell_type": "markdown",
   "metadata": {},
   "source": [
    "## Time for Putting Everything in Practice"
   ]
  },
  {
   "cell_type": "markdown",
   "metadata": {},
   "source": [
    "**Very Easy Problems:**\n",
    "\n",
    "1. **Problem: Introduction to Control Flow**\n",
    "   - Statement: Explain what control flow is in programming and provide one example of a control structure.\n",
    "   - Example: Control flow refers to the order in which statements are executed in a program. An example of a control structure is an `if` statement used to make decisions in code.\n",
    "\n",
    "2. **Problem: Identifying Loops**\n",
    "   - Statement: List two types of loops in Python and briefly describe their primary use.\n",
    "   - Example: Two types of loops in Python are `for` loops, used for iterating through sequences, and `while` loops, used for repeated execution based on a condition."
   ]
  },
  {
   "cell_type": "markdown",
   "metadata": {},
   "source": [
    "# TODO-8"
   ]
  },
  {
   "cell_type": "code",
   "execution_count": 9,
   "metadata": {},
   "outputs": [],
   "source": [
    "# Solution to Problem 1 Here"
   ]
  },
  {
   "cell_type": "markdown",
   "metadata": {},
   "source": [
    "# TODO-9"
   ]
  },
  {
   "cell_type": "code",
   "execution_count": 10,
   "metadata": {},
   "outputs": [],
   "source": [
    "# Solution to Problem 2 Here"
   ]
  },
  {
   "cell_type": "markdown",
   "metadata": {},
   "source": [
    "**Easy Problems:**\n",
    "\n",
    "3. **Problem: Simple If-Else Statement**\n",
    "   - Statement: Write a Python script that checks if a number is even or odd and prints an appropriate message.\n",
    "   - Example: If the user enters 6, the program should output: \"6 is even.\"\n",
    "\n",
    "4. **Problem: Counting Down with While Loop**\n",
    "   - Statement: Create a Python program that counts down from 10 to 1 using a `while` loop and prints each number.\n",
    "   - Example: Your program should output: \"10, 9, 8, 7, 6, 5, 4, 3, 2, 1.\""
   ]
  },
  {
   "cell_type": "markdown",
   "metadata": {},
   "source": [
    "# TODO-10"
   ]
  },
  {
   "cell_type": "code",
   "execution_count": 7,
   "metadata": {},
   "outputs": [],
   "source": [
    "# Solution to Problem 3 Here"
   ]
  },
  {
   "cell_type": "markdown",
   "metadata": {},
   "source": [
    "# TODO-11"
   ]
  },
  {
   "cell_type": "code",
   "execution_count": 8,
   "metadata": {},
   "outputs": [],
   "source": [
    "# Solution to Problem 4 Here"
   ]
  },
  {
   "cell_type": "markdown",
   "metadata": {},
   "source": [
    "**Medium Problems:**\n",
    "\n",
    "5. **Problem: Finding the Maximum**\n",
    "   - Statement: Write a Python script to find the maximum value in a list of numbers.\n",
    "   - Example: If the list is [12, 45, 23, 8, 37], your program should output: \"The maximum value is 45.\"\n",
    "\n",
    "6. **Problem: Multiplication Table with For Loop**\n",
    "   - Statement: Create a Python script that generates a multiplication table for a given number (up to 10) using a `for` loop.\n",
    "   - Example: If the user enters 7, your program should output the complete multiplication table for 7."
   ]
  },
  {
   "cell_type": "markdown",
   "metadata": {},
   "source": [
    "# TODO-12"
   ]
  },
  {
   "cell_type": "code",
   "execution_count": 5,
   "metadata": {},
   "outputs": [],
   "source": [
    "# Solution to Problem 5 Here"
   ]
  },
  {
   "cell_type": "markdown",
   "metadata": {},
   "source": [
    "# TODO-13"
   ]
  },
  {
   "cell_type": "code",
   "execution_count": 6,
   "metadata": {},
   "outputs": [],
   "source": [
    "# Solution to Problem 6 Here"
   ]
  },
  {
   "cell_type": "markdown",
   "metadata": {},
   "source": [
    "**Difficult Problem:**\n",
    "\n",
    "7. **Problem: Palindromic Phrases**\n",
    "   - Statement: Write a Python program to find and print all palindromic phrases in a given text. A palindromic phrase reads the same forwards and backward, ignoring spaces, punctuation, and letter case (e.g., \"A man, a plan, a canal, Panama!\").\n",
    "   - Hint: You'll need to remove spaces, punctuation, and convert all letters to lowercase for comparison.\n",
    "   - Example: If the input text is \"A Santa at NASA,\" your program should output: \"A man, a plan, a canal, Panama!\"."
   ]
  },
  {
   "cell_type": "markdown",
   "metadata": {},
   "source": [
    "# TODO-14"
   ]
  },
  {
   "cell_type": "code",
   "execution_count": null,
   "metadata": {},
   "outputs": [],
   "source": [
    "# Solution to Problem 7 Here"
   ]
  }
 ],
 "metadata": {
  "kernelspec": {
   "display_name": "Python 3",
   "language": "python",
   "name": "python3"
  },
  "language_info": {
   "codemirror_mode": {
    "name": "ipython",
    "version": 3
   },
   "file_extension": ".py",
   "mimetype": "text/x-python",
   "name": "python",
   "nbconvert_exporter": "python",
   "pygments_lexer": "ipython3",
   "version": "3.6.5"
  }
 },
 "nbformat": 4,
 "nbformat_minor": 2
}
