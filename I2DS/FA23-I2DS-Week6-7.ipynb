{
 "cells": [
  {
   "cell_type": "markdown",
   "metadata": {},
   "source": [
    "# Your Name:\n",
    "# Registration Number:"
   ]
  },
  {
   "cell_type": "markdown",
   "metadata": {},
   "source": [
    "## Intro to Data Science (Fall2023)\n",
    "### Week06-07 (21/21-Nov-2023)\n",
    "\n",
    "**M Ateeq**,<br>\n",
    "*Department of Data Science, The Islamia University of Bahawalpur.*"
   ]
  },
  {
   "cell_type": "markdown",
   "metadata": {},
   "source": [
    "### 1. Lecture\n",
    "\n",
    "#### 1.1 Introduction to Dictionaries\n",
    "   - Definition and Purpose\n",
    "   - Key-Value Pairs\n",
    "   \n",
    "#### 1.2 Creating Dictionaries\n",
    "   - Basic Syntax\n",
    "   - Example: Creating a Dictionary\n",
    "   \n",
    "#### 1.3 Accessing and Modifying Dictionary Elements\n",
    "   - Accessing Values by Key\n",
    "   - Modifying Values\n",
    "   - Adding New Key-Value Pairs\n",
    "   \n",
    "#### 1.4 Dictionary Methods\n",
    "   - `keys()`, `values()`, `items()`\n",
    "   - `get()` and `setdefault()`\n",
    "   - Example: Practical Use of Dictionary Methods\n",
    "   \n",
    "#### 1.5 Iterating Through a Dictionary\n",
    "   - Looping Through Keys, Values, and Items\n",
    "   - Example: Iterating Through a Dictionary\n",
    "   \n",
    "#### 1.6 Nested Dictionaries\n",
    "   - Definition and Structure\n",
    "   - Accessing and Modifying Nested Elements\n",
    "   - Example: Working with Nested Dictionaries\n",
    "\n",
    "#### 1.7 Practical Applications\n",
    "   - Use Cases in Real-World Scenarios\n",
    "   - Efficiency and Flexibility of Dictionaries"
   ]
  },
  {
   "cell_type": "markdown",
   "metadata": {},
   "source": [
    "### 2. Lab\n",
    "\n",
    "#### 2.1 Hands-On Practice\n",
    "   - Creating Dictionaries\n",
    "   - Accessing and Modifying Elements\n",
    "   - Using Dictionary Methods\n",
    "   \n",
    "#### 2.2 Exercises\n",
    "   - Problem Solving with Dictionaries\n",
    "   - Applying Nested Dictionaries\n",
    "   \n",
    "#### 2.3 Project\n",
    "   - Building a Dictionary-Based Application\n",
    "   - Encouraging Creativity and Problem-Solving Skills"
   ]
  },
  {
   "cell_type": "markdown",
   "metadata": {},
   "source": [
    "### 1.1 Introduction to Dictionaries\n",
    "\n",
    "In Python, a **dictionary** is a versatile and mutable data structure used to store and organize data in the form of **key-value pairs**. Unlike lists and tuples, where elements are accessed by their index, dictionaries allow retrieval of values using unique keys associated with each value. This makes dictionaries highly efficient for scenarios where data is best represented as pairs rather than a sequence.\n",
    "\n",
    "#### Key-Value Pairs\n",
    "\n",
    "- **Key:** A unique identifier for a value within a dictionary.\n",
    "- **Value:** The data associated with a specific key.\n",
    "\n",
    "**Example:**\n",
    "```python\n",
    "# Creating a simple dictionary\n",
    "student_grades = {'Alice': 92, 'Bob': 85, 'Charlie': 88}\n",
    "```\n",
    "\n",
    "*Side Note: Dictionaries are often compared to real-world dictionaries, where words (keys) are associated with their meanings (values). This analogy helps in understanding the concept of key-value pairs.*"
   ]
  },
  {
   "cell_type": "markdown",
   "metadata": {},
   "source": [
    "*Reflection Questions:*\n",
    "1. What is the primary purpose of dictionaries in Python?\n",
    "   - a) Storing only numerical data\n",
    "   - b) Managing key-value pairs\n",
    "   - c) Sorting elements in ascending order\n",
    "   - d) Performing mathematical operations\n",
    "\n",
    "<details>\n",
    "<summary>Click to reveal the answer:</summary>\n",
    "b) Managing key-value pairs"
   ]
  },
  {
   "cell_type": "markdown",
   "metadata": {},
   "source": [
    "2. What is the fundamental difference between dictionaries and lists in Python?\n",
    "   - a) Lists use keys, dictionaries use indexes.\n",
    "   - b) Lists store values, dictionaries store pairs.\n",
    "   - c) Lists are mutable, dictionaries are immutable.\n",
    "   - d) Lists have a fixed size, dictionaries can grow dynamically.\n",
    "\n",
    "<details>\n",
    "<summary>Click to reveal the answer:</summary>\n",
    "b) Lists store values, dictionaries store pairs."
   ]
  },
  {
   "cell_type": "markdown",
   "metadata": {},
   "source": [
    "3. Why are dictionaries considered efficient for data retrieval?\n",
    "   - a) Values are stored in a sequential order.\n",
    "   - b) Elements can be accessed by index.\n",
    "   - c) Data is organized as key-value pairs.\n",
    "   - d) Dictionaries have a fixed size.\n",
    "\n",
    "<details>\n",
    "<summary>Click to reveal the answer:</summary>\n",
    "c) Data is organized as key-value pairs."
   ]
  },
  {
   "cell_type": "markdown",
   "metadata": {},
   "source": [
    "4. How would you describe a key in a dictionary?\n",
    "   - a) A value associated with a specific data type.\n",
    "   - b) An index indicating the position of an element.\n",
    "   - c) A unique identifier for a value.\n",
    "   - d) A numerical representation of data.\n",
    "\n",
    "<details>\n",
    "<summary>Click to reveal the answer:</summary>\n",
    "c) A unique identifier for a value."
   ]
  },
  {
   "cell_type": "markdown",
   "metadata": {},
   "source": [
    "### 1.2 Creating Dictionaries\n",
    "\n",
    "Creating dictionaries in Python involves specifying the key-value pairs within curly braces `{}`. Here's a breakdown of the basic syntax and an example to illustrate the process.\n",
    "\n",
    "#### Basic Syntax\n",
    "\n",
    "- The general syntax for creating a dictionary is as follows:\n",
    "\n",
    "```python\n",
    "dictionary_name = {key1: value1, key2: value2, ...}\n",
    "```\n",
    "\n",
    "- Keys and values are separated by colons (`:`), and each key-value pair is separated by commas."
   ]
  },
  {
   "cell_type": "markdown",
   "metadata": {},
   "source": [
    "**Example: Creating a Dictionary**\n",
    "\n",
    "Let's consider a dictionary representing the ages of individuals:\n",
    "\n",
    "```python\n",
    "# Creating a dictionary of ages\n",
    "ages = {'Alice': 25, 'Bob': 30, 'Charlie': 22}\n",
    "```\n",
    "\n",
    "In this example:\n",
    "- `Alice`, `Bob`, and `Charlie` are keys.\n",
    "- `25`, `30`, and `22` are their respective values.\n",
    "\n",
    "*Side Note: Keys must be unique within a dictionary, as they serve as identifiers for their corresponding values. Attempting to have duplicate keys will result in the last assignment taking precedence.*"
   ]
  },
  {
   "cell_type": "code",
   "execution_count": null,
   "metadata": {},
   "outputs": [],
   "source": [
    "ages = {'Alice': 25, 'Bob': 30, 'Charlie': 22}"
   ]
  },
  {
   "cell_type": "markdown",
   "metadata": {},
   "source": [
    "*Reflection Questions:*\n",
    "1. What is the purpose of curly braces in the basic syntax of creating dictionaries?\n",
    "   - a) To indicate the type of data being stored.\n",
    "   - b) To create a block of code.\n",
    "   - c) To represent a set of key-value pairs.\n",
    "   - d) To define the scope of the dictionary.\n",
    "   \n",
    "   <details>\n",
    "<summary>Click to reveal the answer:</summary>\n",
    "c) To represent a set of key-value pairs."
   ]
  },
  {
   "cell_type": "markdown",
   "metadata": {},
   "source": [
    "2. In the example provided, what are the keys and values in the `ages` dictionary?\n",
    "   - a) Keys: 25, 30, 22; Values: 'Alice', 'Bob', 'Charlie'\n",
    "   - b) Keys: 'Alice', 'Bob', 'Charlie'; Values: 25, 30, 22\n",
    "   - c) Keys: 25, 'Bob', 22; Values: 'Alice', 'Charlie', 30\n",
    "   - d) Keys: 'Alice', 'Bob', 'Charlie'; Values: 25, 30, 22\n",
    "   \n",
    "<details>\n",
    "<summary>Click to reveal the answer:</summary>\n",
    "Keys: 'Alice', 'Bob', 'Charlie'; Values: 25, 30, 22"
   ]
  },
  {
   "cell_type": "markdown",
   "metadata": {},
   "source": [
    "3. Why is it important for keys to be unique within a dictionary?\n",
    "   - a) It simplifies the syntax of dictionary creation.\n",
    "   - b) It ensures efficient data retrieval.\n",
    "   - c) It allows for the use of duplicate keys.\n",
    "   - d) It is a convention but not a requirement.\n",
    "   \n",
    "<details>\n",
    "<summary>Click to reveal the answer:</summary>\n",
    "b) It ensures efficient data retrieval."
   ]
  },
  {
   "cell_type": "markdown",
   "metadata": {},
   "source": [
    "### 1.3 Accessing and Modifying Dictionary Elements\n",
    "\n",
    "Once a dictionary is created, you can access and modify its elements using various methods.\n",
    "\n",
    "#### Accessing Values by Key\n",
    "\n",
    "- To retrieve the value associated with a specific key, use the following syntax:\n",
    "\n",
    "```python\n",
    "value = dictionary_name[key]\n",
    "```\n",
    "\n",
    "**Example:**\n",
    "```python\n",
    "# Accessing the age of 'Bob'\n",
    "bob_age = ages['Bob']\n",
    "print(f\"The age of Bob is {bob_age} years.\")\n",
    "```"
   ]
  },
  {
   "cell_type": "code",
   "execution_count": 15,
   "metadata": {},
   "outputs": [
    {
     "name": "stdout",
     "output_type": "stream",
     "text": [
      "The age of Bob is 30 years.\n"
     ]
    }
   ],
   "source": [
    "bob_age = ages['Bob']\n",
    "print(f\"The age of Bob is {bob_age} years.\")"
   ]
  },
  {
   "cell_type": "markdown",
   "metadata": {},
   "source": [
    "#### Modifying Values\n",
    "\n",
    "- To modify the value associated with a key, use the key within the assignment statement:\n",
    "\n",
    "```python\n",
    "dictionary_name[key] = new_value\n",
    "```\n",
    "\n",
    "**Example:**\n",
    "```python\n",
    "# Modifying Alice's age\n",
    "ages['Alice'] = 26\n",
    "print(f\"Updated age of Alice: {ages['Alice']} years.\")\n",
    "```"
   ]
  },
  {
   "cell_type": "code",
   "execution_count": 17,
   "metadata": {},
   "outputs": [
    {
     "name": "stdout",
     "output_type": "stream",
     "text": [
      "Updated age of Alice: 26 years.\n",
      "New age of Junaid: 21 years.\n"
     ]
    }
   ],
   "source": [
    "ages['Alice'] = 26\n",
    "ages['Junaid'] = 21\n",
    "print(f\"Updated age of Alice: {ages['Alice']} years.\")\n",
    "print(f\"New age of Junaid: {ages['Junaid']} years.\")"
   ]
  },
  {
   "cell_type": "markdown",
   "metadata": {},
   "source": [
    "#### Adding New Key-Value Pairs\n",
    "\n",
    "- To add a new key-value pair to the dictionary, use the following syntax:\n",
    "\n",
    "```python\n",
    "dictionary_name[new_key] = new_value\n",
    "```\n",
    "\n",
    "**Example:**\n",
    "```python\n",
    "# Adding a new person and age to the dictionary\n",
    "ages['David'] = 35\n",
    "print(f\"The age of David is {ages['David']} years.\")\n",
    "```\n",
    "\n",
    "*Side Note: If the specified key already exists when adding a new key-value pair, the associated value will be updated.*"
   ]
  },
  {
   "cell_type": "code",
   "execution_count": 20,
   "metadata": {},
   "outputs": [
    {
     "name": "stdout",
     "output_type": "stream",
     "text": [
      "The age of David is 35 years.\n"
     ]
    },
    {
     "data": {
      "text/plain": [
       "{'Alice': 26,\n",
       " 'Bob': 30,\n",
       " 'Charlie': 22,\n",
       " 'Emily': 28,\n",
       " 'Junaid': 21,\n",
       " 'David': 35,\n",
       " 12: 35}"
      ]
     },
     "execution_count": 20,
     "metadata": {},
     "output_type": "execute_result"
    }
   ],
   "source": [
    "ages['David'] = 35\n",
    "ages[12] = 35\n",
    "print(f\"The age of David is {ages['David']} years.\")\n",
    "ages"
   ]
  },
  {
   "cell_type": "markdown",
   "metadata": {},
   "source": [
    "*Reflection Questions:*\n",
    "1. How is a specific value accessed in a dictionary using its key?\n",
    "   - a) By using the `value` method\n",
    "   - b) Using the `index()` function\n",
    "   - c) Through key-based indexing\n",
    "   - d) With the `find()` method\n",
    "   \n",
    "   <details>\n",
    "<summary>Click to reveal the answer:</summary>\n",
    "c) Through key-based indexing"
   ]
  },
  {
   "cell_type": "markdown",
   "metadata": {},
   "source": [
    "2. In the example provided, how is Alice's age modified in the `ages` dictionary?\n",
    "   - a) `ages['Alice'] = 26`\n",
    "   - b) `ages.modify('Alice', 26)`\n",
    "   - c) `ages.update('Alice', 26)`\n",
    "   - d) `ages.set('Alice', 26)`\n",
    "   \n",
    "   <details>\n",
    "<summary>Click to reveal the answer:</summary>\n",
    "`ages['Alice'] = 26`"
   ]
  },
  {
   "cell_type": "markdown",
   "metadata": {},
   "source": [
    "3. How can you add a new key-value pair to an existing dictionary?\n",
    "   - a) Using the `append()` function\n",
    "   - b) Assigning a value to a new key\n",
    "   - c) Merging two dictionaries\n",
    "   - d) Creating a new dictionary and copying values\n",
    "   \n",
    "<details>\n",
    "<summary>Click to reveal the answer:</summary>\n",
    "b) Assigning a value to a new key"
   ]
  },
  {
   "cell_type": "markdown",
   "metadata": {},
   "source": [
    "4. What happens if you try to add a new key-value pair to a dictionary using an existing key?\n",
    "   - a) The new value is added to the existing value.\n",
    "   - b) An error is raised, and the program terminates.\n",
    "   - c) The existing value is replaced with the new value.\n",
    "   - d) The dictionary is automatically expanded to accommodate the new pair.\n",
    "   \n",
    "<details>\n",
    "<summary>Click to reveal the answer:</summary>\n",
    "c) The existing value is replaced with the new value."
   ]
  },
  {
   "cell_type": "markdown",
   "metadata": {},
   "source": [
    "### 1.4 Dictionary Methods\n",
    "\n",
    "Dictionaries in Python come with a variety of built-in methods that offer convenient ways to manipulate and work with dictionary data.\n",
    "\n",
    "#### `keys()`, `values()`, `items()`\n",
    "\n",
    "- These methods provide views of the keys, values, and key-value pairs in the dictionary, respectively."
   ]
  },
  {
   "cell_type": "markdown",
   "metadata": {},
   "source": [
    "**Example:**\n",
    "```python\n",
    "# Using dictionary methods\n",
    "ages = {'Alice': 25, 'Bob': 30, 'Charlie': 22}\n",
    "\n",
    "# Getting a view of keys\n",
    "all_keys = ages.keys()\n",
    "print(f\"Keys: {all_keys}\")\n",
    "\n",
    "# Getting a view of values\n",
    "all_values = ages.values()\n",
    "print(f\"Values: {all_values}\")\n",
    "\n",
    "# Getting a view of key-value pairs\n",
    "all_items = ages.items()\n",
    "print(f\"Key-Value Pairs: {all_items}\")\n",
    "```"
   ]
  },
  {
   "cell_type": "code",
   "execution_count": 27,
   "metadata": {},
   "outputs": [
    {
     "name": "stdout",
     "output_type": "stream",
     "text": [
      "Keys: dict_keys(['Alice', 'Bob', 'Charlie', 'Emily'])\n",
      "Values: dict_values([25, 30, 22, 24])\n",
      "Key-Value Pairs: dict_items([('Alice', 25), ('Bob', 30), ('Charlie', 22), ('Emily', 24)])\n"
     ]
    }
   ],
   "source": [
    "# Using dictionary methods\n",
    "ages = {'Alice': 25, 'Bob': 30, 'Charlie': 22, \"Emily\":24}\n",
    "\n",
    "# Getting a view of keys\n",
    "all_keys = ages.keys()\n",
    "print(f\"Keys: {all_keys}\")\n",
    "\n",
    "# Getting a view of values\n",
    "all_values = ages.values()\n",
    "print(f\"Values: {all_values}\")\n",
    "\n",
    "# Getting a view of key-value pairs\n",
    "all_items = ages.items()\n",
    "print(f\"Key-Value Pairs: {all_items}\")"
   ]
  },
  {
   "cell_type": "markdown",
   "metadata": {},
   "source": [
    "#### `get()` and `setdefault()`\n",
    "\n",
    "- The `get()` method allows safe retrieval of a value by key, and `setdefault()` sets a default value if the key is not present.\n",
    "\n",
    "**Example:**\n",
    "```python\n",
    "# Using get() to safely retrieve a value\n",
    "age_of_david = ages.get('David', 'Age not available')\n",
    "print(f\"The age of David is {age_of_david} years.\")\n",
    "\n",
    "# Using setdefault() to set a default value\n",
    "age_of_emily = ages.setdefault('Emily', 28)\n",
    "print(f\"The age of Emily is {age_of_emily} years.\")\n",
    "```\n",
    "\n",
    "*Side Note: The `get()` method is useful to avoid KeyError when attempting to access a non-existent key, while `setdefault()` helps in providing default values for new keys.*"
   ]
  },
  {
   "cell_type": "code",
   "execution_count": 29,
   "metadata": {},
   "outputs": [
    {
     "name": "stdout",
     "output_type": "stream",
     "text": [
      "The age of David is Age not available years.\n",
      "The age of Emily is 24 years.\n"
     ]
    }
   ],
   "source": [
    "# Using get() to safely retrieve a value\n",
    "age_of_david = ages.get('David', 'Age not available')\n",
    "print(f\"The age of David is {age_of_david} years.\")\n",
    "\n",
    "# Using setdefault() to set a default value\n",
    "age_of_emily = ages.setdefault('Emily', 28)\n",
    "print(f\"The age of Emily is {age_of_emily} years.\")"
   ]
  },
  {
   "cell_type": "code",
   "execution_count": 30,
   "metadata": {},
   "outputs": [
    {
     "name": "stdout",
     "output_type": "stream",
     "text": [
      "City: Unknown\n",
      "Updated Dictionary: {'name': 'John', 'age': 25, 'city': 'Unknown'}\n"
     ]
    }
   ],
   "source": [
    "my_dict = {'name': 'John', 'age': 25}\n",
    "\n",
    "# Using setdefault to retrieve the value for 'city'\n",
    "city = my_dict.setdefault('city', 'Unknown')\n",
    "\n",
    "print(\"City:\", city)  # Output: City: Unknown\n",
    "print(\"Updated Dictionary:\", my_dict)\n",
    "# Output: Updated Dictionary: {'name': 'John', 'age': 25, 'city': 'Unknown'}"
   ]
  },
  {
   "cell_type": "markdown",
   "metadata": {},
   "source": [
    "*Reflection Questions:*\n",
    "1. Which method is used to obtain a list of all keys in a dictionary?\n",
    "   - a) `keys()`\n",
    "   - b) `list()`\n",
    "   - c) `get()`\n",
    "   - d) `items()`\n",
    "\n",
    "<details>\n",
    "<summary>Click to reveal the answer:</summary>\n",
    "a) `keys()`"
   ]
  },
  {
   "cell_type": "markdown",
   "metadata": {},
   "source": [
    "2. What is the purpose of the `keys()`, `values()`, and `items()` methods in dictionaries?\n",
    "   - a) To remove elements from the dictionary\n",
    "   - b) To retrieve views of keys, values, and key-value pairs\n",
    "   - c) To sort the dictionary in alphabetical order\n",
    "   - d) To modify the keys, values, and items in the dictionary\n",
    "\n",
    "<details>\n",
    "<summary>Click to reveal the answer:</summary>\n",
    "b) To retrieve views of keys, values, and key-value pairs"
   ]
  },
  {
   "cell_type": "markdown",
   "metadata": {},
   "source": [
    "3. In the example provided, what will be the output of `all_keys`?\n",
    "   - a) `[Alice, Bob, Charlie]`\n",
    "   - b) `['Alice', 'Bob', 'Charlie']`\n",
    "   - c) `(Alice, Bob, Charlie)`\n",
    "   - d) `{Alice, Bob, Charlie}`\n",
    "\n",
    "<details>\n",
    "<summary>Click to reveal the answer:</summary>\n",
    "b) `['Alice', 'Bob', 'Charlie']`"
   ]
  },
  {
   "cell_type": "markdown",
   "metadata": {},
   "source": [
    "4. When might you use the `get()` method instead of directly accessing a key in a dictionary?\n",
    "   - a) When you want to add a new key-value pair.\n",
    "   - b) When you want to retrieve a value safely without risking a KeyError.\n",
    "   - c) When you want to remove a key from the dictionary.\n",
    "   - d) When you want to reverse the order of keys in the dictionary.\n",
    "\n",
    "<details>\n",
    "<summary>Click to reveal the answer:</summary>\n",
    "b) When you want to retrieve a value safely without risking a KeyError."
   ]
  },
  {
   "cell_type": "markdown",
   "metadata": {},
   "source": [
    "### 1.5 Iterating Through a Dictionary\n",
    "\n",
    "Iterating through a dictionary allows you to access its keys, values, or key-value pairs systematically.\n",
    "\n",
    "#### Looping Through Keys, Values, and Items\n",
    "\n",
    "- The `for` loop is commonly used to iterate through different aspects of a dictionary."
   ]
  },
  {
   "cell_type": "markdown",
   "metadata": {},
   "source": [
    "**Example:**\n",
    "```python\n",
    "# Iterating through keys\n",
    "for key in ages:\n",
    "    print(f\"Key: {key}\")\n",
    "\n",
    "# Iterating through values\n",
    "for value in ages.values():\n",
    "    print(f\"Value: {value}\")\n",
    "\n",
    "# Iterating through key-value pairs\n",
    "for key, value in ages.items():\n",
    "    print(f\"{key}'s age is {value} years.\")\n",
    "```"
   ]
  },
  {
   "cell_type": "code",
   "execution_count": 31,
   "metadata": {},
   "outputs": [
    {
     "name": "stdout",
     "output_type": "stream",
     "text": [
      "Key: Alice\n",
      "Key: Bob\n",
      "Key: Charlie\n",
      "Key: Emily\n",
      "Value: 25\n",
      "Value: 30\n",
      "Value: 22\n",
      "Value: 24\n",
      "Alice's age is 25 years.\n",
      "Bob's age is 30 years.\n",
      "Charlie's age is 22 years.\n",
      "Emily's age is 24 years.\n"
     ]
    }
   ],
   "source": [
    "# Iterating through keys\n",
    "for key in ages: #.keys()\n",
    "    print(f\"Key: {key}\")\n",
    "\n",
    "# Iterating through values\n",
    "for value in ages.values():\n",
    "    print(f\"Value: {value}\")\n",
    "\n",
    "# Iterating through key-value pairs\n",
    "for key, value in ages.items():\n",
    "    print(f\"{key}'s age is {value} years.\")"
   ]
  },
  {
   "cell_type": "markdown",
   "metadata": {},
   "source": [
    "#### Example: Iterating Through a Dictionary\n",
    "\n",
    "Suppose you want to find and print the names of individuals above a certain age:\n",
    "\n",
    "```python\n",
    "# Iterating through keys and values to find names above a certain age\n",
    "for name, age in ages.items():\n",
    "    if age > 25:\n",
    "        print(f\"{name} is above 25 years old.\")\n",
    "```\n",
    "\n",
    "*Side Note: The order of iteration is not guaranteed to be in the same order as items were inserted into the dictionary. If order matters, use `collections.OrderedDict`.*"
   ]
  },
  {
   "cell_type": "code",
   "execution_count": 32,
   "metadata": {},
   "outputs": [
    {
     "name": "stdout",
     "output_type": "stream",
     "text": [
      "Bob is above 25 years old.\n"
     ]
    }
   ],
   "source": [
    "# Iterating through keys and values to find names above a certain age\n",
    "for name, age in ages.items():\n",
    "    if age > 25:\n",
    "        print(f\"{name} is above 25 years old.\")"
   ]
  },
  {
   "cell_type": "markdown",
   "metadata": {},
   "source": [
    "*Reflection Questions:*\n",
    "1. In the provided example, what does the `for key in ages` loop achieve?\n",
    "   - a) Iterates through values in the dictionary\n",
    "   - b) Iterates through keys in the dictionary\n",
    "   - c) Iterates through key-value pairs in the dictionary\n",
    "   - d) Creates a new dictionary with keys as values and vice versa\n",
    "\n",
    "<details>\n",
    "<summary>Click to reveal the answer:</summary>\n",
    "b) Iterates through keys in the dictionary"
   ]
  },
  {
   "cell_type": "markdown",
   "metadata": {},
   "source": [
    "2. Why is the order of iteration not guaranteed to be the same as the order of items inserted into the dictionary?\n",
    "   - a) Dictionaries automatically randomize their order for efficiency.\n",
    "   - b) Python dictionaries use hash tables for efficient key lookup.\n",
    "   - c) Iteration order is determined by the size of the dictionary.\n",
    "   - d) It is guaranteed, and the statement is incorrect.\n",
    "\n",
    "<details>\n",
    "<summary>Click to reveal the answer:</summary>\n",
    "b) Python dictionaries use hash tables for efficient key lookup."
   ]
  },
  {
   "cell_type": "markdown",
   "metadata": {},
   "source": [
    "### 1.6 Nested Dictionaries\n",
    "\n",
    "In Python, dictionaries can be nested within one another, allowing for the creation of more complex data structures.\n",
    "\n",
    "#### Definition and Structure\n",
    "\n",
    "- **Nested Dictionary:** A dictionary that is a value within another dictionary.\n",
    "\n",
    "**Example:**\n",
    "```python\n",
    "# Creating a nested dictionary\n",
    "employee_data = {\n",
    "    'Alice': {'age': 30, 'position': 'Manager'},\n",
    "    'Bob': {'age': 25, 'position': 'Developer'},\n",
    "    'Charlie': {'age': 35, 'position': 'Designer'}\n",
    "}\n",
    "```"
   ]
  },
  {
   "cell_type": "code",
   "execution_count": 33,
   "metadata": {},
   "outputs": [],
   "source": [
    "employee_data = {\n",
    "    'Alice': {'age': 30, 'position': 'Manager'},\n",
    "    'Bob': {'age': 25, 'position': 'Developer'},\n",
    "    'Charlie': {'age': 35, 'position': 'Designer'}\n",
    "}"
   ]
  },
  {
   "cell_type": "markdown",
   "metadata": {},
   "source": [
    "#### Accessing and Modifying Nested Elements\n",
    "\n",
    "- To access or modify values within a nested dictionary, use multiple square brackets to navigate through the levels.\n",
    "\n",
    "**Example:**\n",
    "```python\n",
    "# Accessing Charlie's age\n",
    "charlie_age = employee_data['Charlie']['age']\n",
    "print(f\"Charlie's age: {charlie_age}\")\n",
    "\n",
    "# Modifying Alice's position\n",
    "employee_data['Alice']['position'] = 'Senior Manager'\n",
    "print(f\"Alice's updated position: {employee_data['Alice']['position']}\")\n",
    "```\n",
    "\n",
    "*Side Note: Nesting dictionaries is particularly useful when dealing with structured data, such as information about employees, where each employee has multiple attributes.*"
   ]
  },
  {
   "cell_type": "code",
   "execution_count": 34,
   "metadata": {},
   "outputs": [
    {
     "name": "stdout",
     "output_type": "stream",
     "text": [
      "Charlie's age: 35\n",
      "Alice's updated position: Senior Manager\n"
     ]
    }
   ],
   "source": [
    "# Accessing Charlie's age\n",
    "charlie_age = employee_data['Charlie']['age']\n",
    "print(f\"Charlie's age: {charlie_age}\")\n",
    "\n",
    "# Modifying Alice's position\n",
    "employee_data['Alice']['position'] = 'Senior Manager'\n",
    "print(f\"Alice's updated position: {employee_data['Alice']['position']}\")"
   ]
  },
  {
   "cell_type": "markdown",
   "metadata": {},
   "source": [
    "*Reflection Questions:*\n",
    "1. What is a nested dictionary, and how does it differ from a regular dictionary?\n",
    "   - a) A dictionary with duplicated keys; it differs in syntax.\n",
    "   - b) A dictionary with only one key-value pair; it differs in size.\n",
    "   - c) A dictionary that is a value within another dictionary; it allows for more complex data structures.\n",
    "   - d) A dictionary that automatically sorts its keys; it differs in sorting behavior.\n",
    "\n",
    "<details>\n",
    "<summary>Click to reveal the answer:</summary>\n",
    "c) A dictionary that is a value within another dictionary; it allows for more complex data structures."
   ]
  },
  {
   "cell_type": "markdown",
   "metadata": {},
   "source": [
    "2. In the provided example, how would you access Bob's position in the `employee_data` dictionary?\n",
    "   - a) `employee_data['position']['Bob']`\n",
    "   - b) `employee_data['Bob']['position']`\n",
    "   - c) `employee_data['Bob'].position`\n",
    "   - d) `employee_data['position'].Bob`\n",
    "\n",
    "<details>\n",
    "<summary>Click to reveal the answer:</summary>\n",
    "b) `employee_data['Bob']['position']`"
   ]
  },
  {
   "cell_type": "markdown",
   "metadata": {},
   "source": [
    "3. Why might you choose to use nested dictionaries in Python?\n",
    "   - a) To reduce the overall size of the dictionary.\n",
    "   - b) To improve the efficiency of dictionary operations.\n",
    "   - c) To represent structured and hierarchical data.\n",
    "   - d) Nested dictionaries are not supported in Python.\n",
    "\n",
    "<details>\n",
    "<summary>Click to reveal the answer:</summary>\n",
    "c) To represent structured and hierarchical data."
   ]
  },
  {
   "cell_type": "markdown",
   "metadata": {},
   "source": [
    "### 1.7 Practical Applications\n",
    "\n",
    "Dictionaries play a crucial role in various real-world scenarios, offering a flexible and efficient way to manage and organize data.\n",
    "\n",
    "#### Use Cases in Real-World Scenarios\n",
    "\n",
    "1. **Database Records:**\n",
    "   - Dictionaries can represent database records, where each key-value pair corresponds to a field and its value. For example, a user profile may include keys like 'username', 'email', and 'age'."
   ]
  },
  {
   "cell_type": "markdown",
   "metadata": {},
   "source": [
    "2. **Configuration Settings:**\n",
    "   - Dictionaries are often used to store configuration settings for applications. Keys can represent different settings, and values hold the corresponding configurations.\n",
    "\n",
    "3. **Data Analysis:**\n",
    "   - In data analysis, dictionaries are useful for storing and manipulating data. For instance, a dictionary could hold information about sales figures, with product names as keys and sales amounts as values.\n",
    "\n",
    "4. **API Responses:**\n",
    "   - When working with APIs, responses are often in the form of dictionaries. Keys represent different attributes, and values contain the corresponding data."
   ]
  },
  {
   "cell_type": "markdown",
   "metadata": {},
   "source": [
    "#### Efficiency and Flexibility of Dictionaries\n",
    "\n",
    "- Dictionaries provide quick and direct access to values through keys, making them efficient for tasks such as data retrieval and modification. Their flexibility in handling various data types and structures makes them a versatile choice for developers.\n",
    "\n",
    "**Example:**\n",
    "```python\n",
    "# Example of a dictionary representing a user profile\n",
    "user_profile = {\n",
    "    'username': 'john_doe',\n",
    "    'email': 'john@example.com',\n",
    "    'age': 28,\n",
    "    'is_admin': False\n",
    "}\n",
    "```\n",
    "\n",
    "*Side Note: Understanding the practical applications of dictionaries enhances a programmer's ability to design efficient and structured solutions.*"
   ]
  },
  {
   "cell_type": "markdown",
   "metadata": {},
   "source": [
    "*Reflection Questions:*\n",
    "1. In the context of practical applications, why might dictionaries be preferred over other data structures?\n",
    "   - a) Dictionaries provide quick and direct access to values through keys.\n",
    "   - b) Other data structures do not support key-value pairs.\n",
    "   - c) Dictionaries have a fixed size, ensuring better memory management.\n",
    "   - d) Other data structures are not as flexible in handling various data types.\n",
    "\n",
    "<details>\n",
    "<summary>Click to reveal the answer:</summary>\n",
    "a) Dictionaries provide quick and direct access to values through keys."
   ]
  },
  {
   "cell_type": "markdown",
   "metadata": {},
   "source": [
    "2. How could dictionaries be applied in a scenario where you need to store and manage configuration settings for a software application?\n",
    "   - a) By using a list to store configuration options.\n",
    "   - b) By creating separate variables for each configuration setting.\n",
    "   - c) By using a dictionary with keys representing settings and values holding configurations.\n",
    "   - d) Configuration settings are not relevant to dictionaries.\n",
    "\n",
    "<details>\n",
    "<summary>Click to reveal the answer:</summary>\n",
    "c) By using a dictionary with keys representing settings and values holding configurations."
   ]
  },
  {
   "cell_type": "markdown",
   "metadata": {},
   "source": [
    "3. When might a nested dictionary be beneficial in a real-world scenario?\n",
    "   - a) When dealing with a small amount of structured data.\n",
    "   - b) When the data is unorganized and not hierarchical.\n",
    "   - c) When representing complex structures with nested attributes or categories.\n",
    "   - d) Nested dictionaries are never beneficial in real-world scenarios.\n",
    "\n",
    "<details>\n",
    "<summary>Click to reveal the answer:</summary>\n",
    "c) When representing complex structures with nested attributes or categories."
   ]
  },
  {
   "cell_type": "markdown",
   "metadata": {},
   "source": [
    "### 2.1 Hands-On Practice\n",
    "\n",
    "To reinforce your understanding of dictionaries in Python, let's engage in some hands-on practice. Follow these exercises to apply the concepts learned in the lecture.\n",
    "\n",
    "#### Creating Dictionaries\n",
    "\n",
    "1. Create a dictionary named `book` with the following key-value pairs:\n",
    "   - Key: 'title', Value: 'The Road Less Traveled'\n",
    "   - Key: 'author', Value: 'M. Scott Peck'\n",
    "   - Key: 'year', Value: 1978\n",
    "\n",
    "```python\n",
    "# Exercise 1: Creating the 'book' dictionary\n",
    "book = {'title': 'The  Road Less Traveled', 'author': 'M. Scott Peck', 'year': 1978}\n",
    "```"
   ]
  },
  {
   "cell_type": "markdown",
   "metadata": {},
   "source": [
    "# Practice Here"
   ]
  },
  {
   "cell_type": "code",
   "execution_count": null,
   "metadata": {},
   "outputs": [],
   "source": [
    "# Test code here"
   ]
  },
  {
   "cell_type": "markdown",
   "metadata": {},
   "source": [
    "#### Accessing and Modifying Elements\n",
    "\n",
    "2. Access and print the value of the 'author' key from the `book` dictionary.\n",
    "\n",
    "```python\n",
    "# Exercise 2: Accessing the 'author' key\n",
    "print(f\"The author of the book is {book['author']}.\")\n",
    "```\n",
    "\n",
    "3. Modify the 'year' key in the `book` dictionary to the current year (use the appropriate Python function to obtain the current year).\n",
    "\n",
    "```python\n",
    "# Exercise 3: Modifying the 'year' key\n",
    "import datetime\n",
    "current_year = datetime.datetime.now().year\n",
    "book['year'] = current_year\n",
    "print(f\"The book was updated to the year {current_year}.\")\n",
    "```"
   ]
  },
  {
   "cell_type": "markdown",
   "metadata": {},
   "source": [
    "# Practice Here"
   ]
  },
  {
   "cell_type": "code",
   "execution_count": null,
   "metadata": {},
   "outputs": [],
   "source": [
    "# Test code here"
   ]
  },
  {
   "cell_type": "markdown",
   "metadata": {},
   "source": [
    "#### Using Dictionary Methods\n",
    "\n",
    "4. Create a dictionary named `fruit_counts` with the following data:\n",
    "   - 'apple': 5\n",
    "   - 'banana': 3\n",
    "   - 'orange': 8\n",
    "\n",
    "```python\n",
    "# Exercise 4: Creating the 'fruit_counts' dictionary\n",
    "fruit_counts = {'apple': 5, 'banana': 3, 'orange': 8}\n",
    "```\n",
    "\n",
    "5. Use the `keys()` method to print all the fruit names in the `fruit_counts` dictionary.\n",
    "\n",
    "```python\n",
    "# Exercise 5: Using the 'keys()' method\n",
    "print(\"Fruit Names:\", fruit_counts.keys())\n",
    "```"
   ]
  },
  {
   "cell_type": "markdown",
   "metadata": {},
   "source": [
    "# Practice Here"
   ]
  },
  {
   "cell_type": "code",
   "execution_count": null,
   "metadata": {},
   "outputs": [],
   "source": [
    "# Test code here"
   ]
  },
  {
   "cell_type": "markdown",
   "metadata": {},
   "source": [
    "#### Iterating Through a Dictionary\n",
    "\n",
    "6. Iterate through the `fruit_counts` dictionary and print each fruit along with its count.\n",
    "\n",
    "```python\n",
    "# Exercise 6: Iterating through the 'fruit_counts' dictionary\n",
    "for fruit, count in fruit_counts.items():\n",
    "    print(f\"There are {count} {fruit}s.\")\n",
    "```\n",
    "\n",
    "*Side Note: Hands-on practice is crucial for solidifying your understanding of dictionary operations. Feel free to experiment with additional scenarios to enhance your skills.*"
   ]
  },
  {
   "cell_type": "markdown",
   "metadata": {},
   "source": [
    "# Practice Here"
   ]
  },
  {
   "cell_type": "code",
   "execution_count": null,
   "metadata": {},
   "outputs": [],
   "source": [
    "# Test code here"
   ]
  },
  {
   "cell_type": "markdown",
   "metadata": {},
   "source": [
    "### 2.2 Exercises\n",
    "\n",
    "Extend your understanding of dictionaries by solving the following exercises. These exercises are designed to challenge your problem-solving skills and creativity.\n",
    "\n",
    "#### Problem Solving with Dictionaries\n",
    "\n",
    "1. **Word Frequency Counter:**\n",
    "   - Create a function `word_frequency(text)` that takes a string of text as input and returns a dictionary where keys are unique words, and values are the frequency of each word in the text. Ignore case sensitivity.\n",
    "\n",
    "```python\n",
    "# Exercise 1: Word Frequency Counter\n",
    "def word_frequency(text):\n",
    "    word_count = {}\n",
    "    words = text.lower().split()\n",
    "    \n",
    "    for word in words:\n",
    "        # Remove punctuation from each word\n",
    "        word = word.strip(\".,!?\")\n",
    "        word_count[word] = word_count.get(word, 0) + 1\n",
    "\n",
    "    return word_count\n",
    "```"
   ]
  },
  {
   "cell_type": "markdown",
   "metadata": {},
   "source": [
    "# TODO 1"
   ]
  },
  {
   "cell_type": "code",
   "execution_count": null,
   "metadata": {},
   "outputs": [],
   "source": [
    "# Test code here"
   ]
  },
  {
   "cell_type": "markdown",
   "metadata": {},
   "source": [
    "2. **Voting System:**\n",
    "   - Create a function `voting_system(votes)` that takes a list of votes as input and returns a dictionary showing the count of each candidate's votes. Each candidate is represented by a string.\n",
    "\n",
    "```python\n",
    "# Exercise 2: Voting System\n",
    "def voting_system(votes):\n",
    "    vote_count = {}\n",
    "    \n",
    "    for candidate in votes:\n",
    "        vote_count[candidate] = vote_count.get(candidate, 0) + 1\n",
    "\n",
    "    return vote_count\n",
    "```"
   ]
  },
  {
   "cell_type": "markdown",
   "metadata": {},
   "source": [
    "# TODO 2"
   ]
  },
  {
   "cell_type": "code",
   "execution_count": null,
   "metadata": {},
   "outputs": [],
   "source": [
    "# Test code here"
   ]
  },
  {
   "cell_type": "markdown",
   "metadata": {},
   "source": [
    "#### Applying Nested Dictionaries\n",
    "\n",
    "3. **Student Grades:**\n",
    "   - Create a nested dictionary to store grades of students. The outer dictionary should have student names as keys, and the inner dictionary should have subjects as keys and corresponding grades as values.\n",
    "\n",
    "```python\n",
    "# Exercise 3: Student Grades\n",
    "student_grades = {\n",
    "    'Alice': {'Math': 90, 'English': 85, 'Science': 92},\n",
    "    'Bob': {'Math': 78, 'English': 88, 'Science': 95},\n",
    "    'Charlie': {'Math': 92, 'English': 80, 'Science': 89}\n",
    "}\n",
    "```"
   ]
  },
  {
   "cell_type": "markdown",
   "metadata": {},
   "source": [
    "# TODO 3"
   ]
  },
  {
   "cell_type": "code",
   "execution_count": null,
   "metadata": {},
   "outputs": [],
   "source": [
    "# Test code here"
   ]
  },
  {
   "cell_type": "markdown",
   "metadata": {},
   "source": [
    "4. **Inventory Management:**\n",
    "   - Implement a simple inventory management system using nested dictionaries. The outer dictionary represents different products, and the inner dictionary includes information like quantity and price.\n",
    "\n",
    "```python\n",
    "# Exercise 4: Inventory Management\n",
    "inventory = {\n",
    "    'apple': {'quantity': 100, 'price': 1.50},\n",
    "    'banana': {'quantity': 50, 'price': 0.75},\n",
    "    'orange': {'quantity': 75, 'price': 2.00}\n",
    "}\n",
    "```\n",
    "\n",
    "*Side Note: These exercises provide opportunities to explore real-world scenarios where dictionaries can be applied creatively.*"
   ]
  },
  {
   "cell_type": "markdown",
   "metadata": {},
   "source": [
    "# TODO 4"
   ]
  },
  {
   "cell_type": "code",
   "execution_count": null,
   "metadata": {},
   "outputs": [],
   "source": [
    "# Test code here"
   ]
  },
  {
   "cell_type": "markdown",
   "metadata": {},
   "source": [
    "*Reflection Questions:*\n",
    "1. In Exercise 1, why is the `strip(\".,!?\")` method used when processing each word in the `word_frequency` function?\n",
    "   - a) To convert each word to uppercase.\n",
    "   - b) To remove trailing whitespaces.\n",
    "   - c) To strip common punctuation from each word.\n",
    "   - d) To count the occurrences of each character in the text."
   ]
  },
  {
   "cell_type": "markdown",
   "metadata": {},
   "source": [
    "2. How would you modify the `voting_system` function in Exercise 2 to handle cases where the input votes are not case sensitive?\n",
    "   - a) Use `candidate.lower()` when updating the dictionary.\n",
    "   - b) The function already handles case sensitivity.\n",
    "   - c) Convert the entire `votes` list to lowercase.\n",
    "   - d) Add a case-sensitive flag as an argument to the function."
   ]
  },
  {
   "cell_type": "markdown",
   "metadata": {},
   "source": [
    "3. What advantage does using nested dictionaries provide in Exercise 4 (Inventory Management)?\n",
    "   - a) Nested dictionaries allow for more efficient data retrieval.\n",
    "   - b) It simplifies the process of adding new products to the inventory.\n",
    "   - c) Nested dictionaries facilitate the organization of complex data structures.\n",
    "   - d) Using nested dictionaries is not necessary for inventory management."
   ]
  },
  {
   "cell_type": "markdown",
   "metadata": {},
   "source": [
    "### 2.3 Project\n",
    "\n",
    "Now, let's apply your knowledge of dictionaries to a small project. The goal is to build a dictionary-based application that simulates a simple contact management system.\n",
    "\n",
    "#### Building a Dictionary-Based Contact Management System\n",
    "\n",
    "1. **Initialize the Contact Dictionary:**\n",
    "   - Start by creating an empty dictionary named `contacts` to store contact information.\n",
    "\n",
    "```python\n",
    "# Project Step 1: Initialize the Contact Dictionary\n",
    "contacts = {}\n",
    "```"
   ]
  },
  {
   "cell_type": "markdown",
   "metadata": {},
   "source": [
    "# TODO 5"
   ]
  },
  {
   "cell_type": "code",
   "execution_count": null,
   "metadata": {},
   "outputs": [],
   "source": [
    "# Test code here"
   ]
  },
  {
   "cell_type": "markdown",
   "metadata": {},
   "source": [
    "2. **Add Contacts:**\n",
    "   - Create a function `add_contact(name, phone, email)` that takes a name, phone number, and email address as parameters and adds a new contact to the `contacts` dictionary. The contact's name should be the key, and the value should be a dictionary containing phone and email.\n",
    "\n",
    "```python\n",
    "# Project Step 2: Add Contacts\n",
    "def add_contact(name, phone, email):\n",
    "    contacts[name] = {'phone': phone, 'email': email}\n",
    "\n",
    "# Example Usage:\n",
    "add_contact('Alice', '123-456-7890', 'alice@email.com')\n",
    "add_contact('Bob', '987-654-3210', 'bob@email.com')\n",
    "```"
   ]
  },
  {
   "cell_type": "markdown",
   "metadata": {},
   "source": [
    "# TODO 6"
   ]
  },
  {
   "cell_type": "code",
   "execution_count": null,
   "metadata": {},
   "outputs": [],
   "source": []
  },
  {
   "cell_type": "markdown",
   "metadata": {},
   "source": [
    "3. **Retrieve Contact Information:**\n",
    "   - Create a function `get_contact_info(name)` that takes a contact's name as a parameter and returns their phone number and email address. If the contact does not exist, return a message indicating that the contact is not found.\n",
    "\n",
    "```python\n",
    "# Project Step 3: Retrieve Contact Information\n",
    "def get_contact_info(name):\n",
    "    contact_info = contacts.get(name)\n",
    "    if contact_info:\n",
    "        return f\"Phone: {contact_info['phone']}, Email: {contact_info['email']}\"\n",
    "    else:\n",
    "        return f\"Contact '{name}' not found.\"\n",
    "\n",
    "# Example Usage:\n",
    "print(get_contact_info('Alice'))\n",
    "print(get_contact_info('Charlie'))\n",
    "```"
   ]
  },
  {
   "cell_type": "markdown",
   "metadata": {},
   "source": [
    "# TODO 7"
   ]
  },
  {
   "cell_type": "code",
   "execution_count": null,
   "metadata": {},
   "outputs": [],
   "source": [
    "# Test code here"
   ]
  },
  {
   "cell_type": "markdown",
   "metadata": {},
   "source": [
    "4. **Update Contact Information:**\n",
    "   - Create a function `update_contact(name, new_phone, new_email)` that updates the phone number and email address for an existing contact. If the contact does not exist, return a message indicating that the contact is not found.\n",
    "\n",
    "```python\n",
    "# Project Step 4: Update Contact Information\n",
    "def update_contact(name, new_phone, new_email):\n",
    "    if name in contacts:\n",
    "        contacts[name]['phone'] = new_phone\n",
    "        contacts[name]['email'] = new_email\n",
    "        return f\"Contact '{name}' updated successfully.\"\n",
    "    else:\n",
    "        return f\"Contact '{name}' not found.\"\n",
    "\n",
    "# Example Usage:\n",
    "update_contact('Alice', '555-123-4567', 'newalice@email.com')\n",
    "update_contact('Charlie', '111-222-3333', 'charlie@email.com')\n",
    "```\n",
    "\n",
    "*Side Note: This project simulates a simplified contact management system. You can further enhance and expand it based on your creativity and programming skills.*"
   ]
  },
  {
   "cell_type": "markdown",
   "metadata": {},
   "source": [
    "# TODO 8"
   ]
  },
  {
   "cell_type": "code",
   "execution_count": null,
   "metadata": {},
   "outputs": [],
   "source": [
    "# Test code here"
   ]
  },
  {
   "cell_type": "markdown",
   "metadata": {},
   "source": [
    "*Reflection Questions:*\n",
    "1. In the `add_contact` function, why is a dictionary used as the value for each contact in the `contacts` dictionary?\n",
    "   - a) To allow for multiple values for each contact.\n",
    "   - b) Dictionaries provide a way to store and retrieve multiple pieces of information for each contact.\n",
    "   - c) Lists are not suitable for storing contact information.\n",
    "   - d) Dictionaries are required for function parameters."
   ]
  },
  {
   "cell_type": "markdown",
   "metadata": {},
   "source": [
    "2. How would you modify the `get_contact_info` function to return a custom message when the contact information is successfully retrieved?\n",
    "   - a) Add a new parameter for the success message.\n",
    "   - b) Use a conditional statement to check if the contact is found and return a custom message.\n",
    "   - c) The function already returns a success message.\n",
    "   - d) Modify the return statement to include a success message."
   ]
  },
  {
   "cell_type": "markdown",
   "metadata": {},
   "source": [
    "3. Why might it be important to check if a contact exists before updating its information in the `update_contact` function?\n",
    "   - a) To prevent the function from running if the contact is not found.\n",
    "   - b) To automatically create a new contact if it does not exist.\n",
    "   - c) To ensure that the contact's information is always updated, regardless of existence.\n",
    "   - d) The function already checks for contact existence."
   ]
  },
  {
   "cell_type": "markdown",
   "metadata": {},
   "source": [
    "## **Problems**\n",
    "\n",
    "**Very Easy Problems:**\n",
    "\n",
    "1. **Problem: Simple Contact Addition**\n",
    "   - Write a function `add_contact_simple(name)` that takes a name as a parameter and adds a new contact to the dictionary `contacts` with only the name as the key. The contact should have a placeholder dictionary as its value.\n",
    "\n",
    "   **Example:**\n",
    "   ```python\n",
    "   # Example Usage:\n",
    "   add_contact_simple('John')\n",
    "   print(contacts)  # Output: {'John': {}}\n",
    "   ```\n",
    "\n",
    "   *Hint: You don't need to add phone and email; just create a new contact with an empty dictionary as its value.*"
   ]
  },
  {
   "cell_type": "markdown",
   "metadata": {},
   "source": [
    "# TODO 9"
   ]
  },
  {
   "cell_type": "code",
   "execution_count": null,
   "metadata": {},
   "outputs": [],
   "source": [
    "# Problem 1: Simple Contact Addition\n",
    "def add_contact_simple(name):\n",
    "    contacts[name] = {}\n",
    "\n",
    "# Example Usage:\n",
    "add_contact_simple('John')\n",
    "print(contacts)"
   ]
  },
  {
   "cell_type": "markdown",
   "metadata": {},
   "source": [
    "2. **Problem: Retrieve Contact Information (Very Easy)**\n",
    "   - Write a function `get_contact_info_simple(name)` that takes a contact's name as a parameter and returns their information from the `contacts` dictionary. If the contact does not exist, return a message indicating that the contact is not found.\n",
    "\n",
    "   **Example:**\n",
    "   ```python\n",
    "   # Example Usage:\n",
    "   get_contact_info_simple('Alice')  # Output: 'Contact 'Alice' not found.'\n",
    "   ```\n",
    "\n",
    "   *Hint: Use the `get()` method to retrieve the contact's information.*"
   ]
  },
  {
   "cell_type": "markdown",
   "metadata": {},
   "source": [
    "# TODO 10"
   ]
  },
  {
   "cell_type": "code",
   "execution_count": null,
   "metadata": {},
   "outputs": [],
   "source": [
    "# Problem 2: Retrieve Contact Information (Very Easy)\n",
    "def get_contact_info_simple(name):\n",
    "    return contacts.get(name, f\"Contact '{name}' not found.\")\n",
    "\n",
    "# Example Usage:\n",
    "get_contact_info_simple('Alice')"
   ]
  },
  {
   "cell_type": "markdown",
   "metadata": {},
   "source": [
    "**Easy Problems:**\n",
    "\n",
    "3. **Problem: Contact Addition with Phone and Email**\n",
    "   - Enhance the `add_contact` function to take three parameters (`name`, `phone`, `email`) and add a new contact to the `contacts` dictionary with the provided phone and email.\n",
    "\n",
    "   **Example:**\n",
    "   ```python\n",
    "   # Example Usage:\n",
    "   add_contact('Jane', '555-123-4567', 'jane@email.com')\n",
    "   print(contacts)  # Output: {'Jane': {'phone': '555-123-4567', 'email': 'jane@email.com'}}\n",
    "   ```\n",
    "\n",
    "   *Hint: Update the function to use the provided parameters when creating a new contact.*"
   ]
  },
  {
   "cell_type": "markdown",
   "metadata": {},
   "source": [
    "# TODO 11"
   ]
  },
  {
   "cell_type": "code",
   "execution_count": null,
   "metadata": {},
   "outputs": [],
   "source": [
    "# Problem 3: Contact Addition with Phone and Email\n",
    "def add_contact(name, phone, email):\n",
    "    contacts[name] = {'phone': phone, 'email': email}\n",
    "\n",
    "# Example Usage:\n",
    "add_contact('Jane', '555-123-4567', 'jane@email.com')\n",
    "print(contacts)"
   ]
  },
  {
   "cell_type": "markdown",
   "metadata": {},
   "source": [
    "4. **Problem: Updating Contact Information (Easy)**\n",
    "   - Write a function `update_contact_simple(name, new_phone, new_email)` that takes a contact's name, a new phone number, and a new email address as parameters. Update the contact's phone and email information in the `contacts` dictionary.\n",
    "\n",
    "   **Example:**\n",
    "   ```python\n",
    "   # Example Usage:\n",
    "   update_contact_simple('Alice', '777-888-9999', 'alice_new@email.com')\n",
    "   print(contacts)  # Output: {'Alice': {'phone': '777-888-9999', 'email': 'alice_new@email.com'}}\n",
    "   ```\n",
    "\n",
    "   *Hint: Modify the existing contact's information with the provided parameters.*"
   ]
  },
  {
   "cell_type": "markdown",
   "metadata": {},
   "source": [
    "# TODO 12"
   ]
  },
  {
   "cell_type": "code",
   "execution_count": null,
   "metadata": {},
   "outputs": [],
   "source": [
    "# Problem 4: Updating Contact Information (Easy)\n",
    "def update_contact_simple(name, new_phone, new_email):\n",
    "    if name in contacts:\n",
    "        contacts[name]['phone'] = new_phone\n",
    "        contacts[name]['email'] = new_email\n",
    "        return f\"Contact '{name}' updated successfully.\"\n",
    "    else:\n",
    "        return f\"Contact '{name}' not found.\"\n",
    "\n",
    "# Example Usage:\n",
    "update_contact_simple('Alice', '777-888-9999', 'alice_new@email.com')\n",
    "print(contacts)"
   ]
  },
  {
   "cell_type": "markdown",
   "metadata": {},
   "source": [
    "**Medium Problems:**\n",
    "\n",
    "5. **Problem: Contact Information Retrieval with Default Message**\n",
    "   - Modify the `get_contact_info` function to take a second parameter (`default_msg`) and return the contact information along with the default message if the contact is not found.\n",
    "\n",
    "   **Example:**\n",
    "   ```python\n",
    "   # Example Usage:\n",
    "   get_contact_info('Charlie', 'Contact not available.')  # Output: 'Contact not available.'\n",
    "   ```\n",
    "\n",
    "   *Hint: Use the second parameter as a default value in the `get()` method.*"
   ]
  },
  {
   "cell_type": "markdown",
   "metadata": {},
   "source": [
    "# TODO 13"
   ]
  },
  {
   "cell_type": "code",
   "execution_count": null,
   "metadata": {},
   "outputs": [],
   "source": [
    "# Problem 5: Contact Information Retrieval with Default Message\n",
    "def get_contact_info(name, default_msg=\"Contact not found.\"):\n",
    "    contact_info = contacts.get(name, {})\n",
    "    return f\"Phone: {contact_info.get('phone', default_msg)}, Email: {contact_info.get('email', default_msg)}\"\n",
    "\n",
    "# Example Usage:\n",
    "get_contact_info('Charlie', 'Contact not available.')"
   ]
  },
  {
   "cell_type": "markdown",
   "metadata": {},
   "source": [
    "6. **Problem: Count Votes from a List**\n",
    "   - Write a function `count_votes(votes)` that takes a list of votes and returns a dictionary showing the count of each candidate's votes. Each candidate is represented by a string.\n",
    "\n",
    "   **Example:**\n",
    "   ```python\n",
    "   # Example Usage:\n",
    "   count_votes(['Alice', 'Bob', 'Alice', 'Charlie', 'Bob'])\n",
    "   # Output: {'Alice': 2, 'Bob': 2, 'Charlie': 1}\n",
    "   ```\n",
    "\n",
    "   *Hint: Adapt the `voting_system` function to count votes from a list.*"
   ]
  },
  {
   "cell_type": "markdown",
   "metadata": {},
   "source": [
    "# TODO 14"
   ]
  },
  {
   "cell_type": "code",
   "execution_count": null,
   "metadata": {},
   "outputs": [],
   "source": [
    "# Problem 6: Count Votes from a List\n",
    "def count_votes(votes):\n",
    "    vote_count = {}\n",
    "    for candidate in votes:\n",
    "        vote_count[candidate] = vote_count.get(candidate, 0) + 1\n",
    "    return vote_count\n",
    "\n",
    "# Example Usage:\n",
    "count_votes(['Alice', 'Bob', 'Alice', 'Charlie', 'Bob'])"
   ]
  },
  {
   "cell_type": "markdown",
   "metadata": {},
   "source": [
    "**Difficult Problem:**\n",
    "\n",
    "7. **Problem: Word Frequency Counter with Exclusion**\n",
    "   - Extend the `word_frequency` function to exclude a list of words (`exclude_words`) from the word count. The function should take two parameters: the text and the list of words to exclude.\n",
    "\n",
    "   **Example:**\n",
    "   ```python\n",
    "   # Example Usage:\n",
    "   word_frequency_exclude('The quick brown fox jumps over the lazy dog.', ['the', 'over'])\n",
    "   # Output: {'quick': 1, 'brown': 1, 'fox': 1, 'jumps': 1, 'lazy': 1, 'dog.': 1}\n",
    "   ```\n",
    "\n",
    "   *Hint: Before updating the count, check if the word is in the list of excluded words.*"
   ]
  },
  {
   "cell_type": "markdown",
   "metadata": {},
   "source": [
    "# TODO 15"
   ]
  },
  {
   "cell_type": "code",
   "execution_count": null,
   "metadata": {},
   "outputs": [],
   "source": [
    "# Problem 7: Word Frequency Counter with Exclusion\n",
    "def word_frequency_exclude(text, exclude_words):\n",
    "    word_count = {}\n",
    "    words = text.lower().split()\n",
    "    \n",
    "    for word in words:\n",
    "        # Remove punctuation from each word\n",
    "        word = word.strip(\".,!?\")\n",
    "        if word not in exclude_words:\n",
    "            word_count[word] = word_count.get(word, 0) + 1\n",
    "\n",
    "    return word_count\n",
    "\n",
    "# Example Usage:\n",
    "word_frequency_exclude('The quick brown fox jumps over the lazy dog.', ['the', 'over'])"
   ]
  },
  {
   "cell_type": "markdown",
   "metadata": {},
   "source": [
    "## Summary of List Methods\n",
    "\n",
    "\n",
    "    \n",
    "| Method                  | Purpose                                                    | Example Use                                           |\n",
    "|:-------------------------|:------------------------------------------------------------|:-------------------------------------------------------|\n",
    "| `dict.keys()`            | Returns a view of dictionary keys.                         | `my_dict = {'a': 1, 'b': 2}`<br>`keys = my_dict.keys()` |\n",
    "| `dict.values()`          | Returns a view of dictionary values.                       | `my_dict = {'a': 1, 'b': 2}`<br>`values = my_dict.values()` |\n",
    "| `dict.items()`           | Returns a view of dictionary key-value pairs.             | `my_dict = {'a': 1, 'b': 2}`<br>`items = my_dict.items()` |\n",
    "| `dict.get(key, default)` | Returns the value for the given key, or a default value if the key is not present. | `my_dict = {'a': 1, 'b': 2}`<br>`value = my_dict.get('a', 0)` |\n",
    "| `dict.pop(key, default)` | Removes and returns the value for the given key, or a default value if the key is not present. | `my_dict = {'a': 1, 'b': 2}`<br>`value = my_dict.pop('a', 0)` |\n",
    "| `dict.update(iterable)`  | Updates the dictionary with elements from another iterable or dictionary. | `my_dict = {'a': 1, 'b': 2}`<br>`my_dict.update({'c': 3, 'd': 4})` |\n",
    "| `dict.clear()`           | Removes all items from the dictionary.                     | `my_dict = {'a': 1, 'b': 2}`<br>`my_dict.clear()`       |\n",
    "\n",
    "\n",
    "*Note: The examples assume the existence of a dictionary named `my_dict`. Adjust the dictionary name and values as needed for specific use cases.*"
   ]
  },
  {
   "cell_type": "code",
   "execution_count": null,
   "metadata": {},
   "outputs": [],
   "source": []
  }
 ],
 "metadata": {
  "kernelspec": {
   "display_name": "Python 3",
   "language": "python",
   "name": "python3"
  },
  "language_info": {
   "codemirror_mode": {
    "name": "ipython",
    "version": 3
   },
   "file_extension": ".py",
   "mimetype": "text/x-python",
   "name": "python",
   "nbconvert_exporter": "python",
   "pygments_lexer": "ipython3",
   "version": "3.6.5"
  }
 },
 "nbformat": 4,
 "nbformat_minor": 2
}
