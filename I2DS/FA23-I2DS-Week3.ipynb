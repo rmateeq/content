{
 "cells": [
  {
   "cell_type": "markdown",
   "metadata": {},
   "source": [
    "# Your Name:\n",
    "# Registration Number:"
   ]
  },
  {
   "cell_type": "markdown",
   "metadata": {},
   "source": [
    "## Intro to Data Science (Fall2023)\n",
    "### Week03 (26/31-Oct-2023)\n",
    "\n",
    "**M Ateeq**,<br>\n",
    "*Department of Data Science, The Islamia University of Bahawalpur.*"
   ]
  },
  {
   "cell_type": "markdown",
   "metadata": {},
   "source": [
    "### Outline\n",
    "\n",
    "Here's a layout for the our topic \"Functions\" along with a lab component:\n",
    "\n",
    "### **Lecture: Introduction to Functions**\n",
    "\n",
    "* **Introduction**\n",
    "  - What are functions?\n",
    "  - Why are functions important in programming?\n",
    "\n",
    "* **Defining Functions**\n",
    "  - Syntax for defining functions.\n",
    "  - Function names, parameters, and the body.\n",
    "\n",
    "* **Function Call**\n",
    "  - How to call functions.\n",
    "  - Passing arguments.\n",
    "\n",
    "* **Return Statement**\n",
    "  - Using the `return` statement to send data back.\n",
    "  - Understanding the `None` return value.\n",
    "\n",
    "* **Scope**\n",
    "  - Local and global scope.\n",
    "  - Variable scope and lifetime.\n",
    "\n",
    "* **Built-in Functions**\n",
    "  - Introduction to common Python built-in functions.\n",
    "\n",
    "* **Recursion**\n",
    "  - Introduction to recursive functions.\n",
    "  - Example of a recursive function.\n",
    "\n",
    "* **Best Practices**\n",
    "  - Naming conventions.\n",
    "  - Commenting and documentation.\n",
    "  - Function design principles.\n",
    "\n",
    "### **Lab: Practical Application of Functions**\n",
    "\n",
    "* **Exercise 1: Simple Function**\n",
    "  - Create a simple function that takes two numbers as arguments and returns their sum.\n",
    "\n",
    "* **Exercise 2: Function with Parameters and Return**\n",
    "  - Create a function that calculates the area of a rectangle. It should take the length and width as arguments and return the result.\n",
    "\n",
    "* **Exercise 3: Function with Conditional Logic**\n",
    "  - Write a function that takes an integer as input and returns 'Even' or 'Odd' based on the input.\n",
    "\n",
    "* **Exercise 4: Recursive Function**\n",
    "  - Create a recursive function to calculate the factorial of a number.\n",
    "\n",
    "* **Exercise 5: Using Built-in Functions**\n",
    "  - Practice using Python's built-in functions like `len()`, `max()`, and `min()`.\n",
    "\n",
    "* **Exercise 6: Applying Functions to Real-World Problems**\n",
    "  - Solve a real-world problem using functions, like calculating the total cost of items in a shopping cart.\n",
    "\n",
    "* **Exercise 7: Best Practices**\n",
    "  - Review and discuss best practices for function design and documentation."
   ]
  },
  {
   "cell_type": "markdown",
   "metadata": {},
   "source": [
    "### **Introducing Functions **\n",
    "\n",
    "Welcome to our lecture on functions in Python. Functions are an essential concept in programming that allow you to encapsulate a set of instructions into a reusable block of code. In this section, we'll provide an introduction to what functions are and why they're crucial in programming.\n",
    "\n",
    "* **What Are Functions?**\n",
    "\n",
    "  Functions in programming are similar to functions in mathematics. They take input, perform some operations, and produce an output. Think of them as small, self-contained programs within your larger program.\n",
    "\n",
    "* **Why Functions Matter**\n",
    "\n",
    "  Functions serve several important purposes:\n",
    "\n",
    "  - **Reusability**: You can write a function once and use it multiple times in your code, reducing redundancy.\n",
    "  \n",
    "  - **Modularity**: Functions help you break down a complex program into smaller, manageable parts, making your code more organized and easier to maintain.\n",
    "\n",
    "  - **Abstraction**: Functions allow you to abstract the details of a specific task, making your code more readable and easier to understand.\n",
    "\n",
    "  Functions are the building blocks of Python programs, and mastering them is key to becoming a proficient programmer."
   ]
  },
  {
   "cell_type": "markdown",
   "metadata": {},
   "source": [
    "### **Defining Functions**\n",
    "\n",
    "In this section, we'll learn how to define functions in Python and understand their structure.\n",
    "\n",
    "* **Defining a Function**\n",
    "\n",
    "  To define a function in Python, you use the `def` keyword, followed by the function name and parentheses. For example:\n",
    "\n",
    "  ```python\n",
    "  def greet(name):\n",
    "      print(\"Hello, \" + name + \"!\")\n",
    "  ```\n",
    "\n",
    "  Here, `greet` is the function name, and `name` is a parameter (also called an argument) that the function accepts.\n",
    "\n",
    "* **The Function Body**\n",
    "\n",
    "  The function body contains the code that will be executed when the function is called. It is indented under the `def` statement and can include one or more lines of code. For example:\n",
    "\n",
    "  ```python\n",
    "  def square(number):\n",
    "      result = number ** 2\n",
    "      return result\n",
    "  ```\n",
    "\n",
    "  In this function, we calculate the square of a number and return the result.\n",
    "\n",
    "* **Parameters and Arguments**\n",
    "\n",
    "  Parameters are placeholders in the function definition. They specify the values the function expects when called. In our previous examples, `name` and `number` are parameters.\n",
    "\n",
    "  Arguments are the actual values passed to the function when it's called. For instance, when you call `greet(\"Alice\")`, \"Alice\" is an argument passed to the `name` parameter.\n",
    "\n",
    "* **Returning Values**\n",
    "\n",
    "  Functions can return values using the `return` statement. The value returned can be used in your code. For example:\n",
    "\n",
    "  ```python\n",
    "  def add(x, y):\n",
    "      result = x + y\n",
    "      return result\n",
    "  ```\n",
    "\n",
    "  When you call `add(3, 5)`, the function returns `8`, which can be assigned to a variable or used directly."
   ]
  },
  {
   "cell_type": "markdown",
   "metadata": {},
   "source": [
    "### **Function Call**\n",
    "\n",
    "Now that we've learned how to define functions, let's explore how to call them and pass arguments.\n",
    "\n",
    "* **Calling a Function**\n",
    "\n",
    "  To call a function, you use its name followed by parentheses. For instance:\n",
    "\n",
    "  ```python\n",
    "  greet(\"Alice\")\n",
    "  ```\n",
    "\n",
    "  This calls the `greet` function with \"Alice\" as the argument.\n",
    "\n",
    "* **Passing Arguments**\n",
    "\n",
    "  You can pass one or more arguments to a function. When you call the function, the arguments are matched to the parameters in order. For example:\n",
    "\n",
    "  ```python\n",
    "  def multiply(a, b):\n",
    "      result = a * b\n",
    "      return result\n",
    "\n",
    "  product = multiply(4, 7)\n",
    "  ```\n",
    "\n",
    "  In this case, `4` is assigned to `a` and `7` to `b`, and the function returns the product of these values, which is stored in the `product` variable."
   ]
  },
  {
   "cell_type": "code",
   "execution_count": null,
   "metadata": {},
   "outputs": [],
   "source": [
    "# Function Definition\n",
    "def multiply(a, b):\n",
    "    return a * b\n",
    "    #result = a * b\n",
    "    #return result\n",
    "\n",
    "# Function Call\n",
    "#product = multiply(4, 7)\n",
    "#print(product)\n",
    "print(multiply(4, 7))"
   ]
  },
  {
   "cell_type": "markdown",
   "metadata": {},
   "source": [
    "* **Returning Values**\n",
    "\n",
    "  When a function returns a value, you can use it in your code. For example:\n",
    "\n",
    "  ```python\n",
    "  def double(number):\n",
    "      result = number * 2\n",
    "      return result\n",
    "\n",
    "  original = 6\n",
    "  doubled = double(original)\n",
    "  ```\n",
    "\n",
    "  In this case, `doubled` will be `12` because the function returns the double of `original`.\n",
    "\n",
    "Understanding how to call functions and pass arguments is crucial because it enables you to utilize the logic encapsulated within functions and apply it to various parts of your program.\n",
    "\n",
    "This concludes our introduction to functions, defining them, and calling them. In the following sessions, we'll explore more advanced aspects of functions and apply them to real-world problems."
   ]
  },
  {
   "cell_type": "markdown",
   "metadata": {},
   "source": [
    "### Reflection\n",
    "\n",
    "1. What is the primary purpose of defining functions in Python?\n",
    "   - A) To store data\n",
    "   - B) To perform mathematical calculations\n",
    "   - C) To organize and reuse code\n",
    "   - D) To create graphical user interfaces\n",
    "   \n",
    "   <details>\n",
    "<summary>Click to reveal the answer</summary>\n",
    "\n",
    "   - **Answer: C) To organize and reuse code**"
   ]
  },
  {
   "cell_type": "markdown",
   "metadata": {},
   "source": [
    "2. In Python, what is a function call?\n",
    "   - A) A request to the Python interpreter\n",
    "   - B) A way to define a new function\n",
    "   - C) A statement that invokes a function's code\n",
    "   - D) A data type used for function parameters\n",
    "   \n",
    "   <details>\n",
    "<summary>Click to reveal the answer</summary>\n",
    "\n",
    "   - **Answer: C) A statement that invokes a function's code**"
   ]
  },
  {
   "cell_type": "markdown",
   "metadata": {},
   "source": [
    "### **Return Statement**\n",
    "\n",
    "In this section, we'll dive deeper into functions, specifically focusing on the return statement, which allows functions to send data back to the caller.\n",
    "\n",
    "* **The Return Statement**\n",
    "\n",
    "  The `return` statement is used to specify the value that a function should return. It can return a single value, multiple values (as a tuple), or even no value (in which case it returns `None`).\n",
    "\n",
    "  For example:\n",
    "\n",
    "  ```python\n",
    "  def add(x, y):\n",
    "      result = x + y\n",
    "      return result\n",
    "  ```\n",
    "\n",
    "  In this function, the `return` statement sends back the value of `result`, which is the sum of `x` and `y`.\n",
    "\n",
    "* **Returning Multiple Values**\n",
    "\n",
    "  You can return multiple values as a tuple. For instance:\n",
    "\n",
    "  ```python\n",
    "  def coordinates(x, y):\n",
    "      return x, y\n",
    "  ```\n",
    "\n",
    "  When you call this function with `coordinates(3, 4)`, it returns a tuple `(3, 4)`, containing both `x` and `y`."
   ]
  },
  {
   "cell_type": "code",
   "execution_count": null,
   "metadata": {},
   "outputs": [],
   "source": [
    "  def coordinates(x, y):\n",
    "      return x, y\n",
    "\n",
    "#a = coordinates(2, 3)\n",
    "a, b = coordinates(2, 3)\n",
    "print(type(a))\n",
    "print(a, b)"
   ]
  },
  {
   "cell_type": "markdown",
   "metadata": {},
   "source": [
    "* **Returning `None`**\n",
    "\n",
    "  If a function doesn't have a `return` statement, or if it has a `return` statement with no value, it returns `None`. For example:\n",
    "\n",
    "  ```python\n",
    "  def do_nothing():\n",
    "      return None\n",
    "  ```\n",
    "\n",
    "  This function returns `None` when called."
   ]
  },
  {
   "cell_type": "code",
   "execution_count": null,
   "metadata": {},
   "outputs": [],
   "source": [
    "def do_nothing():\n",
    "    return None\n",
    "    print(\"..inside do_nothing()..\")\n",
    "    pass\n",
    "\n",
    "print(do_nothing())"
   ]
  },
  {
   "cell_type": "markdown",
   "metadata": {},
   "source": [
    "## **Scope**\n",
    "\n",
    "Understanding scope is crucial when working with functions as it determines where a variable can be accessed in your code.\n",
    "\n",
    "* **Local Scope**\n",
    "\n",
    "  Variables defined inside a function have local scope, which means they are only accessible within that function. For example:\n",
    "\n",
    "  ```python\n",
    "  def example_function():\n",
    "      local_variable = 42\n",
    "  ```\n",
    "\n",
    "  `local_variable` can only be used inside `example_function`."
   ]
  },
  {
   "cell_type": "code",
   "execution_count": null,
   "metadata": {},
   "outputs": [],
   "source": [
    "def example_function():\n",
    "    local_variable = 42\n",
    "\n",
    "print(local_variable)"
   ]
  },
  {
   "cell_type": "markdown",
   "metadata": {},
   "source": [
    "* **Global Scope**\n",
    "\n",
    "  Variables defined outside any function have global scope and can be accessed from anywhere in the code. For instance:\n",
    "\n",
    "  ```python\n",
    "  global_variable = 100\n",
    "  def another_function():\n",
    "      result = global_variable * 2\n",
    "  ```\n",
    "\n",
    "  `global_variable` can be used within both `another_function` and any other part of the code."
   ]
  },
  {
   "cell_type": "code",
   "execution_count": null,
   "metadata": {},
   "outputs": [],
   "source": [
    "global_variable = 100\n",
    "def another_function():\n",
    "    result = global_variable * 2\n",
    "    return result\n",
    "\n",
    "print(global_variable)\n",
    "print(another_function())"
   ]
  },
  {
   "cell_type": "markdown",
   "metadata": {},
   "source": [
    "* **Variable Shadowing**\n",
    "\n",
    "  If a variable is defined in a local scope with the same name as a global variable, it \"shadows\" the global variable within the function. For example:\n",
    "\n",
    "  ```python\n",
    "  global_variable = 10\n",
    "  def shadowing_function():\n",
    "      global_variable = 5\n",
    "      result = global_variable * 2\n",
    "  ```\n",
    "\n",
    "  Inside `shadowing_function`, `global_variable` refers to the local variable, not the global one."
   ]
  },
  {
   "cell_type": "code",
   "execution_count": 1,
   "metadata": {},
   "outputs": [
    {
     "name": "stdout",
     "output_type": "stream",
     "text": [
      "5\n"
     ]
    },
    {
     "ename": "NameError",
     "evalue": "name 'global_variable' is not defined",
     "output_type": "error",
     "traceback": [
      "\u001b[1;31m---------------------------------------------------------------------------\u001b[0m",
      "\u001b[1;31mNameError\u001b[0m                                 Traceback (most recent call last)",
      "\u001b[1;32m<ipython-input-1-80236229abe0>\u001b[0m in \u001b[0;36m<module>\u001b[1;34m()\u001b[0m\n\u001b[0;32m      5\u001b[0m     \u001b[1;32mreturn\u001b[0m \u001b[0mglobal_variable\u001b[0m\u001b[1;33m\u001b[0m\u001b[0m\n\u001b[0;32m      6\u001b[0m \u001b[0mprint\u001b[0m\u001b[1;33m(\u001b[0m\u001b[0mshadowing_function\u001b[0m\u001b[1;33m(\u001b[0m\u001b[1;33m)\u001b[0m\u001b[1;33m)\u001b[0m\u001b[1;33m\u001b[0m\u001b[0m\n\u001b[1;32m----> 7\u001b[1;33m \u001b[0mprint\u001b[0m\u001b[1;33m(\u001b[0m\u001b[0mglobal_variable\u001b[0m\u001b[1;33m)\u001b[0m\u001b[1;33m\u001b[0m\u001b[0m\n\u001b[0m",
      "\u001b[1;31mNameError\u001b[0m: name 'global_variable' is not defined"
     ]
    }
   ],
   "source": [
    "#global_variable = 10\n",
    "def shadowing_function():\n",
    "    #global_variable = 5\n",
    "    global_variable = 5\n",
    "    return global_variable\n",
    "print(shadowing_function())\n",
    "print(global_variable)"
   ]
  },
  {
   "cell_type": "markdown",
   "metadata": {},
   "source": [
    "### **Built-in Functions**\n",
    "\n",
    "Python provides a wide range of built-in functions that make programming more convenient. Let's explore some of the commonly used built-in functions.\n",
    "\n",
    "* **`print()`**\n",
    "\n",
    "  The `print()` function is used to display output to the console. You can pass one or more values to `print()`, and it will display them.\n",
    "\n",
    "  ```python\n",
    "  print(\"Hello, world!\")\n",
    "  ```\n",
    "\n",
    "* **`len()`**\n",
    "\n",
    "  The `len()` function is used to get the length of a sequence, such as a string or a list.\n",
    "\n",
    "  ```python\n",
    "  string_length = len(\"Python\")\n",
    "  ```\n",
    "\n",
    "  `string_length` will be `6`.\n",
    "\n",
    "* **`input()`**\n",
    "\n",
    "  The `input()` function is used to collect user input from the console.\n",
    "\n",
    "  ```python\n",
    "  user_name = input(\"Enter your name: \")\n",
    "  ```\n",
    "\n",
    "  `user_name` will store the name entered by the user.\n",
    "\n",
    "* **`max()` and `min()`**\n",
    "\n",
    "  `max()` and `min()` functions are used to find the maximum and minimum values in a sequence, respectively.\n",
    "\n",
    "  ```python\n",
    "  numbers = [3, 7, 1, 9, 5]\n",
    "  max_value = max(numbers)\n",
    "  min_value = min(numbers)\n",
    "  ```\n",
    "\n",
    "  `max_value` will be `9`, and `min_value` will be `1`.\n",
    "\n",
    "Understanding and utilizing these built-in functions will make your coding tasks more efficient and simplify your code.\n",
    "\n",
    "That concludes our discussion on the return statement, scope, and some common built-in functions in Python. These concepts are foundational and will serve as the basis for more advanced topics in Python programming."
   ]
  },
  {
   "cell_type": "markdown",
   "metadata": {},
   "source": [
    "### Reflection\n",
    "\n",
    "3. What is the purpose of the \"return\" statement in a Python function?\n",
    "   - A) To print output to the console\n",
    "   - B) To define a new variable\n",
    "   - C) To exit the program\n",
    "   - D) To send a value back to the function caller\n",
    "   \n",
    "   <details>\n",
    "<summary>Click to reveal the answer</summary>\n",
    "   - **Answer: D) To send a value back to the function caller**"
   ]
  },
  {
   "cell_type": "markdown",
   "metadata": {},
   "source": [
    "4. What does \"scope\" refer to in the context of Python functions?\n",
    "   - A) The size of the function's code\n",
    "   - B) The area where the function is stored in memory\n",
    "   - C) The visibility and accessibility of variables\n",
    "   - D) The order of function execution\n",
    "   \n",
    "   <details>\n",
    "<summary>Click to reveal the answer</summary>\n",
    "   - **Answer: C) The visibility and accessibility of variables**"
   ]
  },
  {
   "cell_type": "markdown",
   "metadata": {},
   "source": [
    "5. Which of the following is NOT a built-in function in Python?\n",
    "   - A) len()\n",
    "   - B) input()\n",
    "   - C) calculate_area()\n",
    "   - D) print()\n",
    "   \n",
    "   <details>\n",
    "<summary>Click to reveal the answer</summary>\n",
    "   - **Answer: C) calculate_area()**"
   ]
  },
  {
   "cell_type": "markdown",
   "metadata": {},
   "source": [
    "### **Recursion**\n",
    "\n",
    "Recursion is a powerful concept in programming where a function calls itself to solve a problem. In this section, we'll explore the idea of recursion and see how it can be used in Python.\n",
    "\n",
    "* **What Is Recursion?**\n",
    "\n",
    "  Recursion is a technique where a function calls itself in order to solve a problem. It's often used for problems that can be broken down into smaller, similar sub-problems.\n",
    "\n",
    "* **The Recursive Function**\n",
    "\n",
    "  To create a recursive function, you define a function that calls itself within its own body. Here's a simple example of a recursive function that calculates the factorial of a number:\n",
    "\n",
    "  ```python\n",
    "  def factorial(n):\n",
    "      if n == 0:\n",
    "          return 1\n",
    "      else:\n",
    "          return n * factorial(n - 1)\n",
    "  ```\n",
    "\n",
    "  This function calls itself with a smaller value until it reaches the base case (in this case, when `n` is 0)."
   ]
  },
  {
   "cell_type": "code",
   "execution_count": 5,
   "metadata": {},
   "outputs": [
    {
     "name": "stdout",
     "output_type": "stream",
     "text": [
      "720\n"
     ]
    }
   ],
   "source": [
    "def factorial(n):\n",
    "    '''\n",
    "    calculates the factorial of a number.\n",
    "    \n",
    "    Inputs:\n",
    "    n a number\n",
    "    \n",
    "    Output:\n",
    "    facorial of n\n",
    "    \n",
    "    Example:\n",
    "    factorail(3) -> 6\n",
    "    factorial(5) -> 120\n",
    "    '''\n",
    "    if n == 1:\n",
    "        return 1\n",
    "    else:\n",
    "        return n * factorial(n - 1)\n",
    "\n",
    "print(factorial(6))"
   ]
  },
  {
   "cell_type": "markdown",
   "metadata": {},
   "source": [
    "* **Base Case**\n",
    "\n",
    "  A recursive function needs a base case to stop the recursion. The base case defines the condition when the function should stop calling itself. In the factorial example, the base case is `if n == 0`.\n",
    "\n",
    "* **Recursive vs. Iterative**\n",
    "\n",
    "  While many problems can be solved using recursion, they can also be solved using iteration (loops). The choice between recursion and iteration depends on the problem and personal preference. Recursion often leads to more elegant and concise solutions for some problems."
   ]
  },
  {
   "cell_type": "markdown",
   "metadata": {},
   "source": [
    "### **Best Practices**\n",
    "\n",
    "In this section, we'll discuss some best practices for writing clean and maintainable functions in Python.\n",
    "\n",
    "* **Descriptive Function Names**\n",
    "\n",
    "  Choose meaningful and descriptive names for your functions. A good function name should explain what the function does without the need for additional comments. For example, `calculate_area()` is more descriptive than `calc()`.\n",
    "\n",
    "* **Commenting and Documentation**\n",
    "\n",
    "  Add comments and docstrings to explain what your function does, the expected inputs, and the return values. Proper documentation makes your code more readable and helps other programmers (including your future self) understand your code.\n",
    "\n",
    "  ```python\n",
    "  def calculate_area(length, width):\n",
    "      \"\"\"\n",
    "      Calculate the area of a rectangle.\n",
    "\n",
    "      Args:\n",
    "          length (float): The length of the rectangle.\n",
    "          width (float): The width of the rectangle.\n",
    "\n",
    "      Returns:\n",
    "          float: The calculated area.\n",
    "      \"\"\"\n",
    "      return length * width\n",
    "  ```"
   ]
  },
  {
   "cell_type": "markdown",
   "metadata": {},
   "source": [
    "* **Function Design Principles**\n",
    "\n",
    "  Follow these design principles:\n",
    "\n",
    "  - **Single Responsibility**: Each function should have a single, well-defined purpose.\n",
    "  - **Avoid Global Variables**: Minimize the use of global variables; use function parameters instead.\n",
    "  - **Avoid Hardcoding**: Avoid hardcoding values within functions; make them parameters.\n",
    "  - **Modularity**: Break down complex tasks into smaller, modular functions.\n",
    "  - **Consistency**: Follow naming conventions and keep a consistent coding style.\n",
    "\n",
    "By following these best practices, your code will be more readable, maintainable, and easier to collaborate on with other programmers.\n",
    "\n",
    "That concludes our discussion on recursion and best practices when working with functions in Python. Understanding these concepts and following best practices will help you write more efficient, readable, and maintainable code."
   ]
  },
  {
   "cell_type": "markdown",
   "metadata": {},
   "source": [
    "### Reflection\n",
    "\n",
    "6. What is recursion in programming?\n",
    "   - A) A function that is called once\n",
    "   - B) A function that calls itself\n",
    "   - C) A loop that iterates indefinitely\n",
    "   - D) A built-in Python function\n",
    "   \n",
    "   <details>\n",
    "<summary>Click to reveal the answer</summary>\n",
    "   - **Answer: B) A function that calls itself**"
   ]
  },
  {
   "cell_type": "markdown",
   "metadata": {},
   "source": [
    "7. What is a \"base case\" in a recursive function?\n",
    "   - A) The starting point of the recursion\n",
    "   - B) A case where the function returns \"None\"\n",
    "   - C) A condition that prevents infinite recursion\n",
    "   - D) The maximum number of recursive calls allowed\n",
    "   \n",
    "   <details>\n",
    "<summary>Click to reveal the answer</summary>\n",
    "   - **Answer: C) A condition that prevents infinite recursion**"
   ]
  },
  {
   "cell_type": "markdown",
   "metadata": {},
   "source": [
    "8. When is recursion an appropriate choice for problem-solving?\n",
    "   - A) When it simplifies the problem and makes it more readable\n",
    "   - B) When it always results in faster program execution\n",
    "   - C) When the problem cannot be solved using any other technique\n",
    "   - D) When it guarantees a shorter code length\n",
    "   \n",
    "   <details>\n",
    "<summary>Click to reveal the answer</summary>\n",
    "   - **Answer: A) When it simplifies the problem and makes it more readable**"
   ]
  },
  {
   "cell_type": "markdown",
   "metadata": {},
   "source": [
    "9. What is the purpose of adding comments and docstrings to your code?\n",
    "   - A) To hide the code from other developers\n",
    "   - B) To slow down the program's execution\n",
    "   - C) To improve code readability and maintainability\n",
    "   - D) To make the code run faster\n",
    "   \n",
    "   <details>\n",
    "<summary>Click to reveal the answer</summary>\n",
    "   - **Answer: C) To improve code readability and maintainability**"
   ]
  },
  {
   "cell_type": "markdown",
   "metadata": {},
   "source": [
    "10. Which of the following is NOT a best practice for function design in Python?\n",
    "   - A) Ensuring functions have a single, well-defined purpose\n",
    "   - B) Avoiding global variables within functions\n",
    "   - C) Using the same variable names throughout the code\n",
    "   - D) Replacing hard-coded values with parameters where appropriate\n",
    "   \n",
    "   <details>\n",
    "<summary>Click to reveal the answer</summary>\n",
    "   - **Answer: C) Using the same variable names throughout the code**"
   ]
  },
  {
   "cell_type": "markdown",
   "metadata": {},
   "source": [
    "### **Exercise 1: Simple Function**\n",
    "\n",
    "In this exercise, we'll start with a simple function. We'll create a function that takes two numbers as arguments and returns their sum. This exercise aims to help you understand the basic structure of functions and how to use the `return` statement.\n",
    "\n",
    "* **Function Definition**\n",
    "\n",
    "  We'll start by defining a function called `add_numbers` that takes two parameters, `a` and `b`.\n",
    "\n",
    "  ```python\n",
    "  def add_numbers(a, b):\n",
    "      # Your code goes here\n",
    "  ```\n",
    "\n",
    "* **Adding Logic**\n",
    "\n",
    "  Inside the function, write the code to calculate the sum of `a` and `b` and store it in a variable. Then, use the `return` statement to send this result back.\n",
    "\n",
    "  ```python\n",
    "  def add_numbers(a, b):\n",
    "      result = a + b\n",
    "      return result\n",
    "  ```\n",
    "\n",
    "* **Calling the Function**\n",
    "\n",
    "  After defining the function, call it with different values to ensure it works correctly. For example:\n",
    "\n",
    "  ```python\n",
    "  sum_result = add_numbers(5, 7)\n",
    "  print(\"Sum:\", sum_result)\n",
    "  ```\n",
    "\n",
    "  Verify that the function returns the correct sum."
   ]
  },
  {
   "cell_type": "markdown",
   "metadata": {},
   "source": [
    "# TODO-1"
   ]
  },
  {
   "cell_type": "code",
   "execution_count": null,
   "metadata": {},
   "outputs": [],
   "source": [
    "# Code your solution to Exrercise 1 here"
   ]
  },
  {
   "cell_type": "markdown",
   "metadata": {},
   "source": [
    "<details>\n",
    "<summary>Click to reveal the solution to Exercise 1</summary>\n",
    "\n",
    "```python\n",
    "def add_numbers(a, b):\n",
    "    result = a + b\n",
    "    return result\n",
    "\n",
    "sum_result = add_numbers(5, 7)\n",
    "print(\"Sum:\", sum_result)\n",
    "```"
   ]
  },
  {
   "cell_type": "markdown",
   "metadata": {},
   "source": [
    "### **Exercise 2: Function with Parameters and Return**\n",
    "\n",
    "In this exercise, we'll create a function that calculates the area of a rectangle. This function will have parameters for length and width, and it will return the calculated area. This exercise will help you practice using parameters and the `return` statement.\n",
    "\n",
    "* **Function Definition**\n",
    "\n",
    "  Start by defining a function called `calculate_area` that takes two parameters, `length` and `width`.\n",
    "\n",
    "  ```python\n",
    "  def calculate_area(length, width):\n",
    "      # Your code goes here\n",
    "  ```\n",
    "\n",
    "* **Adding Logic**\n",
    "\n",
    "  Within the function, calculate the area of the rectangle using the formula `area = length * width`. Store the result in a variable, and then use the `return` statement to send it back.\n",
    "\n",
    "  ```python\n",
    "  def calculate_area(length, width):\n",
    "      area = length * width\n",
    "      return area\n",
    "  ```"
   ]
  },
  {
   "cell_type": "markdown",
   "metadata": {},
   "source": [
    "* **Calling the Function**\n",
    "\n",
    "  After defining the function, call it with different values for `length` and `width to verify that it correctly calculates the area.\n",
    "\n",
    "  ```python\n",
    "  rectangle_length = 8\n",
    "  rectangle_width = 4\n",
    "\n",
    "  area_result = calculate_area(rectangle_length, rectangle_width)\n",
    "  print(\"Rectangle Area:\", area_result)\n",
    "  ```\n",
    "\n",
    "  Check that the function returns the expected area for the given length and width values.\n",
    "\n",
    "By completing these exercises, you'll gain hands-on experience with defining functions, using parameters, and utilizing the `return` statement to send results back from functions. These are fundamental skills that you'll use in various programming scenarios."
   ]
  },
  {
   "cell_type": "markdown",
   "metadata": {},
   "source": [
    "# TODO-2"
   ]
  },
  {
   "cell_type": "code",
   "execution_count": null,
   "metadata": {},
   "outputs": [],
   "source": [
    "# Code your solution to Exrercise 2 here"
   ]
  },
  {
   "cell_type": "markdown",
   "metadata": {},
   "source": [
    "<details>\n",
    "<summary>Click to reveal the solution to Exercise 2</summary>\n",
    "\n",
    "```python\n",
    "def calculate_area(length, width):\n",
    "    area = length * width\n",
    "    return area\n",
    "\n",
    "rectangle_length = 8\n",
    "rectangle_width = 4\n",
    "\n",
    "area_result = calculate_area(rectangle_length, rectangle_width)\n",
    "print(\"Rectangle Area:\", area_result)\n",
    "```"
   ]
  },
  {
   "cell_type": "markdown",
   "metadata": {},
   "source": [
    "### **Exercise 3: Function with Conditional Logic**\n",
    "\n",
    "In this exercise, we'll create a function that takes an integer as input and returns either \"Even\" or \"Odd\" based on the input value. This exercise will help you practice using conditional statements in functions.\n",
    "\n",
    "* **Function Definition**\n",
    "\n",
    "  Start by defining a function called `even_or_odd` that takes a single parameter, `number`.\n",
    "\n",
    "  ```python\n",
    "  def even_or_odd(number):\n",
    "      # Your code goes here\n",
    "  ```\n",
    "\n",
    "* **Adding Conditional Logic**\n",
    "\n",
    "  Inside the function, use conditional statements (if-else) to check whether the `number` is even or odd. Depending on the result, use the `return` statement to send back \"Even\" or \"Odd.\"\n",
    "\n",
    "  ```python\n",
    "  def even_or_odd(number):\n",
    "      if number % 2 == 0:\n",
    "          return \"Even\"\n",
    "      else:\n",
    "          return \"Odd\"\n",
    "  ```"
   ]
  },
  {
   "cell_type": "markdown",
   "metadata": {},
   "source": [
    "* **Calling the Function**\n",
    "\n",
    "  After defining the function, call it with different numbers to ensure it correctly identifies whether they are even or odd.\n",
    "\n",
    "  ```python\n",
    "  result1 = even_or_odd(4)\n",
    "  result2 = even_or_odd(7)\n",
    "\n",
    "  print(\"Result 1:\", result1)\n",
    "  print(\"Result 2:\", result2)\n",
    "  ```\n",
    "\n",
    "  Verify that the function returns the expected results."
   ]
  },
  {
   "cell_type": "markdown",
   "metadata": {},
   "source": [
    "# TODO-3"
   ]
  },
  {
   "cell_type": "code",
   "execution_count": null,
   "metadata": {},
   "outputs": [],
   "source": [
    "# Code your solution to Exrercise 3 here"
   ]
  },
  {
   "cell_type": "markdown",
   "metadata": {},
   "source": [
    "<details>\n",
    "<summary>Click to reveal the solution to Exercise 3</summary>\n",
    "    \n",
    "```python\n",
    "def even_or_odd(number):\n",
    "    if number % 2 == 0:\n",
    "        return \"Even\"\n",
    "    else:\n",
    "        return \"Odd\"\n",
    "\n",
    "result1 = even_or_odd(4)\n",
    "result2 = even_or_odd(7)\n",
    "\n",
    "print(\"Result 1:\", result1)\n",
    "print(\"Result 2:\", result2)\n",
    "```"
   ]
  },
  {
   "cell_type": "markdown",
   "metadata": {},
   "source": [
    "### **Exercise 4: Recursive Function**\n",
    "\n",
    "In this exercise, we'll create a recursive function to calculate the factorial of a number. This exercise will help you understand recursion and how a function can call itself.\n",
    "\n",
    "* **Function Definition**\n",
    "\n",
    "  Start by defining a function called `factorial` that takes a single parameter, `n`.\n",
    "\n",
    "  ```python\n",
    "  def factorial(n):\n",
    "      # Your code goes here\n",
    "  ```\n",
    "\n",
    "* **Recursive Logic**\n",
    "\n",
    "  Inside the function, use recursion to calculate the factorial of `n`. You can use a conditional statement to define the base case. If `n` is 0, return 1; otherwise, return `n` multiplied by the factorial of `n-1`.\n",
    "\n",
    "  ```python\n",
    "  def factorial(n):\n",
    "      if n == 0:\n",
    "          return 1\n",
    "      else:\n",
    "          return n * factorial(n - 1)\n",
    "  ```"
   ]
  },
  {
   "cell_type": "markdown",
   "metadata": {},
   "source": [
    "* **Calling the Function**\n",
    "\n",
    "  After defining the function, call it with different values of `n` to calculate their factorials.\n",
    "\n",
    "  ```python\n",
    "  fact_5 = factorial(5)\n",
    "  fact_7 = factorial(7)\n",
    "\n",
    "  print(\"Factorial of 5:\", fact_5)\n",
    "  print(\"Factorial of 7:\", fact_7)\n",
    "  ```\n",
    "\n",
    "  Verify that the function correctly calculates the factorials."
   ]
  },
  {
   "cell_type": "markdown",
   "metadata": {},
   "source": [
    "# TODO-4"
   ]
  },
  {
   "cell_type": "code",
   "execution_count": null,
   "metadata": {},
   "outputs": [],
   "source": [
    "# Code your solution to Exrercise 4 here"
   ]
  },
  {
   "cell_type": "markdown",
   "metadata": {},
   "source": [
    "<details>\n",
    "<summary>Click to reveal the solution to Exercise 4</summary>\n",
    "    \n",
    "```python\n",
    "def factorial(n):\n",
    "    if n == 0:\n",
    "        return 1\n",
    "    else:\n",
    "        return n * factorial(n - 1)\n",
    "\n",
    "fact_5 = factorial(5)\n",
    "fact_7 = factorial(7)\n",
    "\n",
    "print(\"Factorial of 5:\", fact_5)\n",
    "print(\"Factorial of 7:\", fact_7)\n",
    "```"
   ]
  },
  {
   "cell_type": "markdown",
   "metadata": {},
   "source": [
    "### **Exercise 5: Applying Functions to Real-World Problems**\n",
    "\n",
    "In this exercise, we'll apply what we've learned about functions to real-world problems. We'll work on two tasks that involve creating functions to solve practical problems.\n",
    "\n",
    "* **Task 5-1: Calculate Area of a Triangle**\n",
    "\n",
    "  - Define a function called `triangle_area` that takes the base and height of a triangle as parameters and returns the calculated area.\n",
    "  - Call the function with different values to calculate and display the area of different triangles."
   ]
  },
  {
   "cell_type": "markdown",
   "metadata": {},
   "source": [
    "# TODO-5"
   ]
  },
  {
   "cell_type": "code",
   "execution_count": null,
   "metadata": {},
   "outputs": [],
   "source": [
    "# Code your solution to Exrercise 5-1 here"
   ]
  },
  {
   "cell_type": "markdown",
   "metadata": {},
   "source": [
    "* **Task 5-2: Convert Fahrenheit to Celsius**\n",
    "\n",
    "  - Create a function called `fahrenheit_to_celsius` that takes a temperature in Fahrenheit as a parameter and returns the equivalent temperature in Celsius.\n",
    "  - Call the function with different Fahrenheit values to calculate and display their Celsius equivalents."
   ]
  },
  {
   "cell_type": "markdown",
   "metadata": {},
   "source": [
    "# TODO-6"
   ]
  },
  {
   "cell_type": "code",
   "execution_count": null,
   "metadata": {},
   "outputs": [],
   "source": [
    "# Code your solution to Exrercise 5-2 here"
   ]
  },
  {
   "cell_type": "markdown",
   "metadata": {},
   "source": [
    "## **Problems**\n",
    "\n",
    "**Very Easy:**\n",
    "\n",
    "1. **Problem 1: Function Naming**\n",
    "   \n",
    "   **Statement:** Rename the function `x()` to something more descriptive that indicates its purpose. You can suppose any suitable purpose to rename it appropriately.\n",
    "\n",
    "   **Example:**\n",
    "   \n",
    "   Original function:\n",
    "   ```python\n",
    "   def x():\n",
    "       # Function logic here\n",
    "   ```\n",
    "\n",
    "2. **Problem 2: Commenting**\n",
    "\n",
    "   **Statement:** Add a docstring to the function below to explain its purpose, parameters, and return value.\n",
    "\n",
    "   **Example:**\n",
    "   \n",
    "   Original function:\n",
    "   ```python\n",
    "   def calculate_total(a, b):\n",
    "       return a + b\n",
    "   ```"
   ]
  },
  {
   "cell_type": "markdown",
   "metadata": {},
   "source": [
    "# TODO-7"
   ]
  },
  {
   "cell_type": "code",
   "execution_count": null,
   "metadata": {},
   "outputs": [],
   "source": [
    "# Code your solution to Problem 1 here"
   ]
  },
  {
   "cell_type": "markdown",
   "metadata": {},
   "source": [
    "# TODO-8"
   ]
  },
  {
   "cell_type": "code",
   "execution_count": null,
   "metadata": {},
   "outputs": [],
   "source": [
    "# Code your solution to Problem 2 here"
   ]
  },
  {
   "cell_type": "markdown",
   "metadata": {},
   "source": [
    "**Easy:**\n",
    "\n",
    "3. **Problem 3: Calculate Factorial**\n",
    "\n",
    "   **Statement:** Create a function called `factorial` that takes an integer as input and returns its factorial. Use loop (not recursion) for this task.\n",
    "\n",
    "   **Example:**\n",
    "\n",
    "   ```python\n",
    "   def factorial(n):\n",
    "       # Your code here\n",
    "   ```\n"
   ]
  },
  {
   "cell_type": "markdown",
   "metadata": {},
   "source": [
    "# TODO-9"
   ]
  },
  {
   "cell_type": "code",
   "execution_count": null,
   "metadata": {},
   "outputs": [],
   "source": [
    "# Code your solution to Problem 3 here"
   ]
  },
  {
   "cell_type": "markdown",
   "metadata": {},
   "source": [
    "**Medium:**\n",
    "\n",
    "4. **Problem 4: Celsius to Fahrenheit Conversion**\n",
    "\n",
    "   **Statement:** Write a function called `celsius_to_fahrenheit` that converts a temperature in Celsius to Fahrenheit. Use the formula `F = (C * 9/5) + 32`.\n",
    "\n",
    "   **Example:**\n",
    "\n",
    "   ```python\n",
    "   def celsius_to_fahrenheit(celsius):\n",
    "       # Your code here\n",
    "   ```\n",
    "\n",
    "   Hint: Use the provided formula to calculate the conversion.\n",
    "\n",
    "5. **Problem 5: Calculate Triangle Area**\n",
    "\n",
    "   **Statement:** Create a function called `triangle_area` that calculates the area of a triangle. It should take the base and height as input parameters. Use the formula `Area = (1/2) * base * height`.\n",
    "\n",
    "   **Example:**\n",
    "\n",
    "   ```python\n",
    "   def triangle_area(base, height):\n",
    "       # Your code here\n",
    "   ```\n",
    "\n",
    "   Hint: Apply the given formula to calculate the area of the triangle."
   ]
  },
  {
   "cell_type": "markdown",
   "metadata": {},
   "source": [
    "# TODO-10"
   ]
  },
  {
   "cell_type": "code",
   "execution_count": null,
   "metadata": {},
   "outputs": [],
   "source": [
    "# Code your solution to Problem 4 here"
   ]
  },
  {
   "cell_type": "markdown",
   "metadata": {},
   "source": [
    "# TODO-11"
   ]
  },
  {
   "cell_type": "code",
   "execution_count": null,
   "metadata": {},
   "outputs": [],
   "source": [
    "# Code your solution to Problem 5 here"
   ]
  },
  {
   "cell_type": "markdown",
   "metadata": {},
   "source": [
    "**Difficult:**\n",
    "\n",
    "6. **Problem 6: Recursive Fibonacci**\n",
    "\n",
    "   **Statement:** Write a function to calculate the nth Fibonacci number using recursion. The Fibonacci sequence starts with 0 and 1, and each subsequent number is the sum of the two previous numbers (e.g., 0, 1, 1, 2, 3, 5, ...).\n",
    "\n",
    "   **Example:**\n",
    "\n",
    "   ```python\n",
    "   def fibonacci(n):\n",
    "       # Your code here\n",
    "   ```\n",
    "\n",
    "   Hint: You can use a recursive approach, but remember to define the base cases for 0 and 1."
   ]
  },
  {
   "cell_type": "markdown",
   "metadata": {},
   "source": [
    "# TODO-12"
   ]
  },
  {
   "cell_type": "code",
   "execution_count": null,
   "metadata": {},
   "outputs": [],
   "source": [
    "# Code your solution to Problem 6 here"
   ]
  }
 ],
 "metadata": {
  "kernelspec": {
   "display_name": "Python 3",
   "language": "python",
   "name": "python3"
  },
  "language_info": {
   "codemirror_mode": {
    "name": "ipython",
    "version": 3
   },
   "file_extension": ".py",
   "mimetype": "text/x-python",
   "name": "python",
   "nbconvert_exporter": "python",
   "pygments_lexer": "ipython3",
   "version": "3.6.5"
  }
 },
 "nbformat": 4,
 "nbformat_minor": 2
}
