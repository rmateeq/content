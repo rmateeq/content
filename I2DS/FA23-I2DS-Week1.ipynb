{
 "cells": [
  {
   "cell_type": "markdown",
   "metadata": {},
   "source": [
    "# Your Name:\n",
    "# Registration Number:"
   ]
  },
  {
   "cell_type": "markdown",
   "metadata": {},
   "source": [
    "## Intro to Data Science (Fall2023)\n",
    "### Week01 (10/12-Oct-2023)\n",
    "\n",
    "**M Ateeq**,<br>\n",
    "*Department of Data Science, The Islamia University of Bahawalpur.*"
   ]
  },
  {
   "cell_type": "markdown",
   "metadata": {},
   "source": [
    "### Outline\n",
    "\n",
    "Here's a layout for the our introductory topic \"Basics of Python syntax (variables, data types, operators)\" along with a lab component:\n",
    "\n",
    "### **Lecture:**\n",
    "\n",
    "**Introduction to Python**\n",
    "- Brief history and significance of Python.\n",
    "- Python's popularity and real-world applications.\n",
    "\n",
    "**Setting Up Python Environment**\n",
    "- Installation of Python.\n",
    "- Overview of popular Python development environments (e.g., Jupyter Notebook, VSCode).\n",
    "- Creating and running your first Python program.\n",
    "\n",
    "**Python Syntax**\n",
    "- Python's indentation-based structure.\n",
    "- Using comments in Python.\n",
    "- Understanding variables and data types (integers, floats, strings, booleans).\n",
    "- Variable naming conventions and best practices.\n",
    "\n",
    "**Operators**\n",
    "- Arithmetic operators (+, -, *, /, //, %).\n",
    "- Comparison operators (==, !=, <, >, <=, >=).\n",
    "- Logical operators (and, or, not).\n",
    "- Assignment operators (=, +=, -=, *=, /=).\n",
    "\n",
    "**Input and Output**\n",
    "- Taking user input using the `input()` function.\n",
    "- Displaying output using the `print()` function.\n",
    "- Formatting output with f-strings.\n",
    "\n",
    "**Lab Activity:**\n",
    "\n",
    "In the lab component, you can practice what you learned in the lecture. Here are some lab exercises that align with the lecture topics:\n",
    "\n",
    "**Lab Exercise 1: Basic Syntax and Variables (30 minutes)**\n",
    "- Create a Python script that defines variables of different data types.\n",
    "- Perform basic arithmetic operations and display the results.\n",
    "\n",
    "**Lab Exercise 2: Operators (30 minutes)**\n",
    "- Write a Python script that uses comparison and logical operators to make decisions and display outcomes.\n",
    "\n",
    "**Lab Exercise 3: Input and Output (30 minutes)**\n",
    "- Develop a Python program that takes user input, processes it, and displays the output with proper formatting."
   ]
  },
  {
   "cell_type": "markdown",
   "metadata": {},
   "source": [
    "### **Introduction to Python**\n",
    "\n",
    "Welcome to the first part of our Python programming series. In this segment, you will be introduced to Python and cover some fundamental concepts to get you started on your Python journey.\n",
    "\n",
    "**I. What is Python?**\n",
    "\n",
    "Python is a high-level, **interpreted** programming language known for its simplicity and readability. It was created by *Guido van Rossum* and first released in *1991*. Python has gained immense popularity in various fields, including web development, data science, artificial intelligence, and more.\n",
    "\n",
    "**II. Setting Up Python Environment**\n",
    "\n",
    "Before we start coding, let's set up our Python environment. Here's a step-by-step tutorial on how to install Anaconda and launch Jupyter Notebooks on Windows:\n",
    "\n",
    "**Installing Anaconda on Windows:**\n",
    "\n",
    "1. **Download Anaconda:**\n",
    "   - Visit the Anaconda download page: https://www.anaconda.com/products/distribution\n",
    "   - Download the Anaconda Distribution for Windows.\n",
    "\n",
    "2. **Run the Installer:**\n",
    "   - Locate the downloaded installer file (usually named something like \"Anaconda3-2023.09-x-Windows-x86_64.exe\") and double-click to run it.\n",
    "\n",
    "3. **Follow the Installer:**\n",
    "   - Follow the installation prompts. You can choose to install Anaconda for just your user or all users on the system. It's typically recommended to select \"Just Me\" unless you have specific system-wide requirements.\n",
    "\n",
    "4. **Choose Installation Location:**\n",
    "   - Specify the installation location. You can use the default location or choose a custom location.\n",
    "\n",
    "5. **Select Advanced Options:**\n",
    "   - In the \"Advanced Options\" window, make sure to check the box that says \"Add Anaconda to my PATH environment variable.\" This allows you to run Anaconda and Python from the command line easily.\n",
    "\n",
    "6. **Install Anaconda:**\n",
    "   - Click \"Install\" to start the installation process. This may take a few minutes.\n",
    "\n",
    "7. **Completing the Installation:**\n",
    "   - Once the installation is complete, click \"Next.\"\n",
    "\n",
    "**Launching Jupyter Notebooks:**\n",
    "\n",
    "1. **Launch Jupyter Notebook:**\n",
    "   - After installation, you can open Jupyter Notebook from the Windows Start menu. Search for \"Jupyter Notebook\" and click on it to launch.\n",
    "\n",
    "2. **Using Jupyter Notebook:**\n",
    "   - This will open a web browser window with the Jupyter Notebook interface. You can start creating and running Python notebooks right from your browser.\n",
    "\n",
    "4. **Creating a New Notebook:**\n",
    "   - In Jupyter Notebook, you can create a new notebook by clicking \"New\" and selecting \"Python 3\" (or any other available Python kernel).\n",
    "\n",
    "5. **Writing and Running Code:**\n",
    "   - You can write Python code in the notebook cells and run them by clicking the \"Run\" button or by using the Shift + Enter keyboard shortcut.\n",
    "\n",
    "6. **Saving and Exiting:**\n",
    "   - Save your notebook using the \"Save\" button, and when you're done, you can close the notebook tab. Your work will be saved for the next session.\n",
    "\n",
    "That's it! You've successfully installed Anaconda and launched Jupyter Notebooks on your Windows system. You can now use Jupyter Notebooks for interactive Python programming, data analysis, and more.\n",
    "\n",
    "**III. Your First Python Program**\n",
    "\n",
    "Let's dive right in and write a simple Python program. Open your preferred Python development environment and follow along.\n",
    "\n",
    "```python\n",
    "# This is a Python comment. Comments are ignored by the interpreter.\n",
    "# Let's print a message to the screen.\n",
    "print(\"Hello, Python!\")\n",
    "```"
   ]
  },
  {
   "cell_type": "code",
   "execution_count": 26,
   "metadata": {},
   "outputs": [
    {
     "name": "stdout",
     "output_type": "stream",
     "text": [
      "Hello, Python!\n"
     ]
    }
   ],
   "source": [
    "# This is a Python comment. Comments are ignored by the interpreter.\n",
    "# Let's print a message to the screen.\n",
    "print(\"Hello, Python!\")"
   ]
  },
  {
   "cell_type": "markdown",
   "metadata": {},
   "source": [
    "\n",
    "- In Python, comments are preceded by the `#` symbol. They are ignored by the interpreter and are used to provide explanations or notes within the code.\n",
    "\n",
    "- The `print()` function is used to display information on the screen. In this case, it prints the text \"Hello, Python!\".\n",
    "\n",
    "**IV. Python Syntax**\n",
    "\n",
    "Python uses a clean and readable syntax. Here are some key points:\n",
    "\n",
    "- Python code is organized using **indentation**. Proper indentation is crucial for code readability and execution. Unlike many other programming languages that use braces `{}` or semicolons `;`, Python relies on indentation to define code blocks.\n",
    "\n",
    "- Variables are used to store data. In Python, you **don't need to declare a variable's data type explicitly**. Python infers the data type based on the value assigned to the variable.\n",
    "\n",
    "**V. Example: Variables in Python**\n",
    "\n",
    "Let's look at an example of declaring variables in Python:\n",
    "\n",
    "```python\n",
    "# Variables\n",
    "name = \"John\"\n",
    "age = 30\n",
    "height = 5.9\n",
    "is_student = True\n",
    "```"
   ]
  },
  {
   "cell_type": "code",
   "execution_count": 27,
   "metadata": {},
   "outputs": [],
   "source": [
    "# Variables\n",
    "name = \"John\"\n",
    "age = 30 #int age = 30;\n",
    "height = 5.9\n",
    "is_student = True"
   ]
  },
  {
   "cell_type": "markdown",
   "metadata": {},
   "source": [
    "- In this example, we declare four variables: `name`, `age`, `height`, and `is_student`. Python **automatically assigns the appropriate data type** based on the values we provide (string, integer, float, and boolean, respectively).\n",
    "\n",
    "That's it for this brief introduction to Python. We've covered what Python is, how to set up your environment, and even written your first Python program. Up next, we'll delve deeper into Python syntax and explore more programming concepts."
   ]
  },
  {
   "cell_type": "markdown",
   "metadata": {},
   "source": [
    "### **Python Syntax**\n",
    "\n",
    "In this section, we will delve into the fundamental aspect of Python programming: its syntax. Understanding Python syntax is crucial for writing clear and functional code. Let's begin by exploring some key concepts.\n",
    "\n",
    "**I. Python Indentation**\n",
    "\n",
    "Python uses **indentation to define code blocks**, unlike many other programming languages that use braces `{}` or semicolons `;`. Proper indentation is not just a matter of style; it is essential for code readability and execution.\n",
    "\n",
    "```python\n",
    "# Example of indentation\n",
    "if True:\n",
    "    print(\"This code is indented properly.\")\n",
    "else:\n",
    "    print(\"This code is not indented properly.\")\n",
    "```\n",
    "\n",
    "- Indentation helps Python determine the **scope of statements within blocks like loops, conditionals, and functions**.\n",
    "- Be consistent with your indentation style (**commonly 4 spaces or a tab**).\n",
    "\n",
    "**II. Comments in Python**\n",
    "\n",
    "Comments are used to provide explanations or notes within your code. Python ignores comments during execution.\n",
    "\n",
    "```python\n",
    "# This is a single-line comment\n",
    "\n",
    "\"\"\"\n",
    "This is a\n",
    "multi-line comment\n",
    "\"\"\"\n",
    "```\n",
    "\n",
    "- Single-line comments start with `#`, and multi-line comments are enclosed in triple double-quotes `\"\"\"` or triple single-quotes `'''`.\n",
    "\n",
    "**III. Variables and Data Types**\n",
    "\n",
    "Python is **dynamically typed**, meaning you don't need to declare a variable's data type explicitly. Python infers the data type based on the value assigned to the variable.\n",
    "\n",
    "```python\n",
    "# Variables and data types\n",
    "name = \"Alice\"  # String\n",
    "age = 25        # Integer\n",
    "height = 5.8    # Float\n",
    "is_student = True  # Boolean\n",
    "```\n",
    "\n",
    "- Python supports various data types, including integers, floats, strings, booleans, lists, tuples, and more.\n",
    "\n",
    "**IV. Basic Operators**\n",
    "\n",
    "Python provides a range of operators for performing various operations. Here are some common ones:\n",
    "\n",
    "```python\n",
    "# Arithmetic operators\n",
    "x = 10\n",
    "y = 3\n",
    "addition = x + y\n",
    "subtraction = x - y\n",
    "multiplication = x * y\n",
    "division = x / y\n",
    "```"
   ]
  },
  {
   "cell_type": "code",
   "execution_count": 28,
   "metadata": {},
   "outputs": [
    {
     "name": "stdout",
     "output_type": "stream",
     "text": [
      "13 7 30 3.3333333333333335\n"
     ]
    }
   ],
   "source": [
    "# Arithmetic operators\n",
    "x = 10\n",
    "y = 3\n",
    "addition = x + y\n",
    "subtraction = x - y\n",
    "multiplication = x * y\n",
    "division = x / y\n",
    "\n",
    "print(addition, subtraction, multiplication, division)"
   ]
  },
  {
   "cell_type": "markdown",
   "metadata": {},
   "source": [
    "- Arithmetic operators include `+`, `-`, `*`, `/`, `//` (floor division), and `%` (modulo).\n",
    "\n",
    "```python\n",
    "# Comparison operators\n",
    "a = 5\n",
    "b = 7\n",
    "equals = a == b\n",
    "not_equals = a != b\n",
    "greater_than = a > b\n",
    "```"
   ]
  },
  {
   "cell_type": "code",
   "execution_count": 29,
   "metadata": {},
   "outputs": [
    {
     "name": "stdout",
     "output_type": "stream",
     "text": [
      "False True False\n"
     ]
    }
   ],
   "source": [
    "# Comparison operators\n",
    "a = 5\n",
    "b = 7\n",
    "equals = a == b\n",
    "not_equals = a != b\n",
    "greater_than = a > b\n",
    "\n",
    "print(equals, not_equals, greater_than)"
   ]
  },
  {
   "cell_type": "markdown",
   "metadata": {},
   "source": [
    "- Comparison operators include `==`, `!=`, `<`, `>`, `<=`, and `>=`.\n",
    "\n",
    "```python\n",
    "# Logical operators\n",
    "p = True\n",
    "q = False\n",
    "and_result = p and q\n",
    "or_result = p or q\n",
    "not_result = not p\n",
    "```"
   ]
  },
  {
   "cell_type": "code",
   "execution_count": 30,
   "metadata": {},
   "outputs": [
    {
     "name": "stdout",
     "output_type": "stream",
     "text": [
      "False True False\n"
     ]
    }
   ],
   "source": [
    "# Logical operators\n",
    "p = True\n",
    "q = False\n",
    "and_result = p and q\n",
    "or_result = p or q\n",
    "not_result = not p\n",
    "\n",
    "print(and_result, or_result, not_result)"
   ]
  },
  {
   "cell_type": "markdown",
   "metadata": {},
   "source": [
    "- Logical operators include `and`, `or`, and `not`.\n",
    "\n",
    "**V. Example: Using Variables and Operators**\n",
    "\n",
    "Let's see a practical example:\n",
    "\n",
    "```python\n",
    "# Calculate the area of a rectangle\n",
    "length = 8\n",
    "width = 5\n",
    "area = length * width\n",
    "```"
   ]
  },
  {
   "cell_type": "code",
   "execution_count": 31,
   "metadata": {},
   "outputs": [
    {
     "name": "stdout",
     "output_type": "stream",
     "text": [
      "40\n"
     ]
    }
   ],
   "source": [
    "# Calculate the area of a rectangle\n",
    "length = 8\n",
    "width = 5\n",
    "area = length * width\n",
    "\n",
    "print(area)"
   ]
  },
  {
   "cell_type": "markdown",
   "metadata": {},
   "source": [
    "- In this example, we calculate the area of a rectangle by multiplying its length and width.\n",
    "\n",
    "That concludes our overview of Python syntax basics. Up next, we will explore control flow in Python, including if statements and loops, which are essential for making decisions and repeating tasks in your programs."
   ]
  },
  {
   "cell_type": "markdown",
   "metadata": {},
   "source": [
    "### **Input and Output**\n",
    "\n",
    "In this section, we'll explore how to take input from users and display output in Python. Input and output operations are essential for building interactive programs. Let's dive into the world of input and output in Python.\n",
    "\n",
    "**I. Taking User Input**\n",
    "\n",
    "Python provides the `input()` function to take input from the user.\n",
    "\n",
    "```python\n",
    "# Taking user input\n",
    "name = input(\"Enter your name: \")\n",
    "```\n",
    "\n",
    "- The `input()` function displays the message inside the parentheses and waits for the user to enter text.\n",
    "- The entered text is stored in the variable `name`."
   ]
  },
  {
   "cell_type": "code",
   "execution_count": 3,
   "metadata": {},
   "outputs": [
    {
     "name": "stdout",
     "output_type": "stream",
     "text": [
      "Enter your name: kiran\n"
     ]
    }
   ],
   "source": [
    "name = input(\"Enter your name: \")"
   ]
  },
  {
   "cell_type": "markdown",
   "metadata": {},
   "source": [
    "**II. Displaying Output**\n",
    "\n",
    "Python uses the `print()` function to display information on the screen.\n",
    "\n",
    "```python\n",
    "# Displaying output\n",
    "print(\"Hello, \" + name + \"!\")\n",
    "```\n",
    "\n",
    "- The `print()` function can display text, variables, and the result of expressions.\n",
    "- In this example, we print a greeting message that includes the user's name."
   ]
  },
  {
   "cell_type": "code",
   "execution_count": 8,
   "metadata": {},
   "outputs": [
    {
     "name": "stdout",
     "output_type": "stream",
     "text": [
      "Hello, kiran!\n"
     ]
    }
   ],
   "source": [
    "print(\"Hello, \" + name + \"!\")"
   ]
  },
  {
   "cell_type": "markdown",
   "metadata": {},
   "source": [
    "**III. Formatting Output**\n",
    "\n",
    "Python offers various ways to format output for better readability.\n",
    "\n",
    "```python\n",
    "# Formatting output with f-strings\n",
    "age = 30\n",
    "print(f\"{name} is {age} years old.\")\n",
    "```\n",
    "\n",
    "- We use f-strings (formatted strings) to embed variables and expressions within strings. They are enclosed in `{}` curly braces and preceded by an `f` character.\n",
    "- In this example, we create a sentence that incorporates the user's name and age."
   ]
  },
  {
   "cell_type": "code",
   "execution_count": 13,
   "metadata": {},
   "outputs": [
    {
     "name": "stdout",
     "output_type": "stream",
     "text": [
      "kiran is 30.5 years old.\n",
      "kiran is 30.5 years old.\n"
     ]
    }
   ],
   "source": [
    "# Formatting output with f-strings\n",
    "age = 30.5\n",
    "print(f\"{name} is {age} years old.\")\n",
    "print(name + \" is \" + str(age) + \" years old.\")"
   ]
  },
  {
   "cell_type": "markdown",
   "metadata": {},
   "source": [
    "**IV. Example: Building a Simple Calculator**\n",
    "\n",
    "Let's create a basic calculator program that takes two numbers as input and performs arithmetic operations based on user choice.\n",
    "\n",
    "```python\n",
    "# Simple calculator\n",
    "num1 = float(input(\"Enter the first number: \"))\n",
    "num2 = float(input(\"Enter the second number: \"))\n",
    "\n",
    "operation = input(\"Choose an operation (+, -, *, /): \")\n",
    "\n",
    "if operation == \"+\":\n",
    "    result = num1 + num2\n",
    "elif operation == \"-\":\n",
    "    result = num1 - num2\n",
    "elif operation == \"*\":\n",
    "    result = num1 * num2\n",
    "elif operation == \"/\":\n",
    "    result = num1 / num2\n",
    "else:\n",
    "    result = \"Invalid operation\"\n",
    "\n",
    "print(f\"Result: {result}\")\n",
    "```\n",
    "\n",
    "- In this example, the program takes two numbers and an operation as input and performs the corresponding arithmetic operation. The result is displayed using an f-string."
   ]
  },
  {
   "cell_type": "code",
   "execution_count": 15,
   "metadata": {},
   "outputs": [
    {
     "name": "stdout",
     "output_type": "stream",
     "text": [
      "Enter the first number: 5\n",
      "Enter the second number: 10\n",
      "Choose an operation (+, -, *, /): -\n",
      "Result: -5.0\n"
     ]
    }
   ],
   "source": [
    "# Simple calculator\n",
    "num1 = float(input(\"Enter the first number: \"))\n",
    "num2 = float(input(\"Enter the second number: \"))\n",
    "\n",
    "operation = input(\"Choose an operation (+, -, *, /): \")\n",
    "\n",
    "if operation == \"+\":\n",
    "    result = num1 + num2\n",
    "elif operation == \"-\":\n",
    "    result = num1 - num2\n",
    "elif operation == \"*\":\n",
    "    result = num1 * num2\n",
    "elif operation == \"/\":\n",
    "    result = num1 / num2\n",
    "else:\n",
    "    result = \"Invalid operation\"\n",
    "\n",
    "print(f\"Result: {result}\")"
   ]
  },
  {
   "cell_type": "markdown",
   "metadata": {},
   "source": [
    "**V. Best Practices**\n",
    "\n",
    "- Always validate and sanitize user input to prevent errors and security issues.\n",
    "- Provide clear and informative prompts to guide users when taking input.\n",
    "\n",
    "That concludes our discussion on input and output in Python. You now have the tools to interact with users and display information effectively in your Python programs. In our next session, we'll explore control flow, including if statements and loops, which enable us to make decisions and control the flow of our programs.\n",
    "\n",
    "**For the moment, let's practice what we have learned!**"
   ]
  },
  {
   "cell_type": "markdown",
   "metadata": {},
   "source": [
    "## **Lab Activity:**\n",
    "\n",
    "In the lab component, you will practice what you learned in the lecture. Here are some lab exercises that align with the lecture topics:\n",
    "\n",
    "**Lab Exercise 1: Basic Syntax and Variables (30 minutes)**\n",
    "- Create a Python script that defines variables of different data types.\n",
    "- Perform basic arithmetic operations and display the results.\n",
    "\n",
    "**Lab Exercise 2: Operators (30 minutes)**\n",
    "- Write a Python script that uses comparison and logical operators to make decisions and display outcomes.\n",
    "\n",
    "**Lab Exercise 3: Input and Output (30 minutes)**\n",
    "- Develop a Python program that takes user input, processes it, and displays the output with proper formatting."
   ]
  },
  {
   "cell_type": "markdown",
   "metadata": {},
   "source": [
    "### **Lab Exercise 1: Basic Syntax and Variables (30 minutes)**\n",
    "\n",
    "Welcome to Lab Exercise 1! In this hands-on session, you will practice what you've learned about Python's basic syntax and variables. This exercise is designed to reinforce your understanding of these fundamental concepts.\n",
    "\n",
    "**I. Task Description**\n",
    "\n",
    "Your task is to create a Python script that demonstrates your knowledge of basic Python syntax and variables. Specifically, you will:\n",
    "\n",
    "1. Declare several variables with different data types.\n",
    "2. Perform basic arithmetic operations on those variables.\n",
    "3. Display the results using the `print()` function.\n",
    "\n",
    "**II. Step-by-Step Instructions**\n",
    "\n",
    "Let's break down the exercise into smaller steps:\n",
    "\n",
    "**Step 1: Variable Declarations**\n",
    "\n",
    "Declare the following variables with appropriate values:\n",
    "\n",
    "- `name`: Your name (a string).\n",
    "- `age`: Your age (an integer).\n",
    "- `height`: Your height in feet (a float).\n",
    "- `is_student`: A boolean indicating whether you are a student (True or False).\n",
    "\n",
    "**Step 2: Arithmetic Operations**\n",
    "\n",
    "Perform the following arithmetic operations and assign the results to new variables:\n",
    "\n",
    "- `years_until_100`: Calculate the number of years until you turn 100 years old.\n",
    "- `height_in_meters`: Convert your height from feet to meters (1 foot = 0.3048 meters).\n",
    "- `double_age`: Double your age.\n",
    "\n",
    "**Step 3: Displaying Results**\n",
    "\n",
    "Use the `print()` function to display the results of the calculations. You should print a message that includes the variable names and their values.\n",
    "\n",
    "**III. Example**\n",
    "\n",
    "Here's an example of how your Python script might look:\n",
    "\n",
    "```python\n",
    "# Variable Declarations\n",
    "name = \"Alice\"\n",
    "age = 25\n",
    "height = 5.8\n",
    "is_student = True\n",
    "\n",
    "# Arithmetic Operations\n",
    "years_until_100 = 100 - age\n",
    "height_in_meters = height * 0.3048\n",
    "double_age = age * 2\n",
    "\n",
    "# Displaying Results\n",
    "print(f\"Name: {name}\")\n",
    "print(f\"Age: {age} years\")\n",
    "print(f\"Height: {height} feet ({height_in_meters} meters)\")\n",
    "print(f\"Is a student: {is_student}\")\n",
    "print(f\"Years until 100: {years_until_100} years\")\n",
    "print(f\"Double age: {double_age} years\")\n",
    "```"
   ]
  },
  {
   "cell_type": "code",
   "execution_count": 16,
   "metadata": {},
   "outputs": [
    {
     "name": "stdout",
     "output_type": "stream",
     "text": [
      "Name: Alice\n",
      "Age: 25 years\n",
      "Height: 5.8 feet (1.76784 meters)\n",
      "Is a student: True\n",
      "Years until 100: 75 years\n",
      "Double age: 50 years\n"
     ]
    }
   ],
   "source": [
    "# Variable Declarations\n",
    "name = \"Alice\"\n",
    "age = 25\n",
    "height = 5.8\n",
    "is_student = True\n",
    "\n",
    "# Arithmetic Operations\n",
    "years_until_100 = 100 - age\n",
    "height_in_meters = height * 0.3048\n",
    "double_age = age * 2\n",
    "\n",
    "# Displaying Results\n",
    "print(f\"Name: {name}\")\n",
    "print(f\"Age: {age} years\")\n",
    "print(f\"Height: {height} feet ({height_in_meters} meters)\")\n",
    "print(f\"Is a student: {is_student}\")\n",
    "print(f\"Years until 100: {years_until_100} years\")\n",
    "print(f\"Double age: {double_age} years\")"
   ]
  },
  {
   "cell_type": "markdown",
   "metadata": {},
   "source": [
    "**IV. Your Task**\n",
    "\n",
    "Now it's your turn! Open your Python development environment (preferably a Jupyter Notebook), and follow the instructions in Steps 1, 2, and 3 to complete the task. Don't forget to run your script to see the results.\n",
    "\n",
    "Feel free to ask for help or clarification if needed. This exercise is designed to help solidify your understanding of Python's basic syntax and variables, so take your time and have fun coding!"
   ]
  },
  {
   "cell_type": "markdown",
   "metadata": {},
   "source": [
    "# TODO-1"
   ]
  },
  {
   "cell_type": "code",
   "execution_count": null,
   "metadata": {},
   "outputs": [],
   "source": [
    "# Write your code below"
   ]
  },
  {
   "cell_type": "markdown",
   "metadata": {},
   "source": [
    "### **Lab Exercise 2: Operators (30 minutes)**\n",
    "\n",
    "Welcome to Lab Exercise 2! In this hands-on session, we will explore various Python operators and practice using them in different scenarios. Operators are essential for performing calculations and making decisions in your Python programs. Let's dive into the exercise.\n",
    "\n",
    "**I. Task Description**\n",
    "\n",
    "Your task for this exercise is to create a Python script that demonstrates the use of different types of operators. Specifically, you will:\n",
    "\n",
    "1. Use arithmetic operators to perform calculations.\n",
    "2. Employ comparison operators to make decisions.\n",
    "3. Apply logical operators to control program flow.\n",
    "\n",
    "**II. Step-by-Step Instructions**\n",
    "\n",
    "Let's break down the exercise into smaller steps:\n",
    "\n",
    "**Step 1: Arithmetic Operations**\n",
    "\n",
    "- Declare two variables `num1` and `num2` with numerical values of your choice.\n",
    "- Perform the following arithmetic operations and store the results in separate variables:\n",
    "  - Addition: `add_result`\n",
    "  - Subtraction: `sub_result`\n",
    "  - Multiplication: `mul_result`\n",
    "  - Division: `div_result`\n",
    "\n",
    "**Step 2: Comparison Operations**\n",
    "\n",
    "- Compare the values of `add_result` and `mul_result` using comparison operators.\n",
    "- Store the results of each comparison in boolean variables:\n",
    "  - Is `add_result` equal to `mul_result`? (`equals`)\n",
    "  - Is `add_result` not equal to `mul_result`? (`not_equals`)\n",
    "  - Is `add_result` greater than `mul_result`? (`greater_than`)\n",
    "\n",
    "**Step 3: Logical Operations**\n",
    "\n",
    "- Use logical operators to combine the boolean variables from Step 2.\n",
    "- Calculate the following:\n",
    "  - Is `equals` and `not_equals` both True? (`and_result`)\n",
    "  - Is `equals` or `greater_than` True? (`or_result`)\n",
    "  - Is `not_equals` False? (`not_result`)\n",
    "\n",
    "**Step 4: Displaying Results**\n",
    "\n",
    "- Use the `print()` function to display the results of your calculations and comparisons.\n",
    "- Include clear messages to explain each result.\n",
    "\n",
    "**III. Example**\n",
    "\n",
    "Here's an example of how your Python script might look:\n",
    "\n",
    "```python\n",
    "# Arithmetic Operations\n",
    "num1 = 10\n",
    "num2 = 5\n",
    "add_result = num1 + num2\n",
    "sub_result = num1 - num2\n",
    "mul_result = num1 * num2\n",
    "div_result = num1 / num2\n",
    "\n",
    "# Comparison Operations\n",
    "equals = add_result == mul_result\n",
    "not_equals = add_result != mul_result\n",
    "greater_than = add_result > mul_result\n",
    "\n",
    "# Logical Operations\n",
    "and_result = equals and not_equals\n",
    "or_result = equals or greater_than\n",
    "not_result = not not_equals\n",
    "\n",
    "# Displaying Results\n",
    "print(f\"Addition Result: {add_result}\")\n",
    "print(f\"Subtraction Result: {sub_result}\")\n",
    "print(f\"Multiplication Result: {mul_result}\")\n",
    "print(f\"Division Result: {div_result}\")\n",
    "\n",
    "print(f\"Equals: {equals}\")\n",
    "print(f\"Not Equals: {not_equals}\")\n",
    "print(f\"Greater Than: {greater_than}\")\n",
    "\n",
    "print(f\"AND Result: {and_result}\")\n",
    "print(f\"OR Result: {or_result}\")\n",
    "print(f\"NOT Result: {not_result}\")\n",
    "```"
   ]
  },
  {
   "cell_type": "code",
   "execution_count": 17,
   "metadata": {},
   "outputs": [
    {
     "name": "stdout",
     "output_type": "stream",
     "text": [
      "Addition Result: 15\n",
      "Subtraction Result: 5\n",
      "Multiplication Result: 50\n",
      "Division Result: 2.0\n",
      "Equals: False\n",
      "Not Equals: True\n",
      "Greater Than: False\n",
      "AND Result: False\n",
      "OR Result: False\n",
      "NOT Result: False\n"
     ]
    }
   ],
   "source": [
    "# Arithmetic Operations\n",
    "num1 = 10\n",
    "num2 = 5\n",
    "add_result = num1 + num2\n",
    "sub_result = num1 - num2\n",
    "mul_result = num1 * num2\n",
    "div_result = num1 / num2\n",
    "\n",
    "# Comparison Operations\n",
    "equals = add_result == mul_result\n",
    "not_equals = add_result != mul_result\n",
    "greater_than = add_result > mul_result\n",
    "\n",
    "# Logical Operations\n",
    "and_result = equals and not_equals\n",
    "or_result = equals or greater_than\n",
    "not_result = not not_equals\n",
    "\n",
    "# Displaying Results\n",
    "print(f\"Addition Result: {add_result}\")\n",
    "print(f\"Subtraction Result: {sub_result}\")\n",
    "print(f\"Multiplication Result: {mul_result}\")\n",
    "print(f\"Division Result: {div_result}\")\n",
    "\n",
    "print(f\"Equals: {equals}\")\n",
    "print(f\"Not Equals: {not_equals}\")\n",
    "print(f\"Greater Than: {greater_than}\")\n",
    "\n",
    "print(f\"AND Result: {and_result}\")\n",
    "print(f\"OR Result: {or_result}\")\n",
    "print(f\"NOT Result: {not_result}\")"
   ]
  },
  {
   "cell_type": "markdown",
   "metadata": {},
   "source": [
    "**IV. Your Task**\n",
    "\n",
    "Now it's your turn! Open your Python development environment, and follow the instructions in Steps 1, 2, 3, and 4 to complete the task. Don't forget to run your script to see the results.\n",
    "\n",
    "Operators are a fundamental part of Python, and mastering them is essential for programming. Enjoy the exercise, and feel free to ask for help or clarification if needed!"
   ]
  },
  {
   "cell_type": "markdown",
   "metadata": {},
   "source": [
    "# TODO-2"
   ]
  },
  {
   "cell_type": "code",
   "execution_count": null,
   "metadata": {},
   "outputs": [],
   "source": [
    "# Write your code below"
   ]
  },
  {
   "cell_type": "markdown",
   "metadata": {},
   "source": [
    "**Transcript: Lab Exercise 3: Input and Output (30 minutes)**\n",
    "\n",
    "Welcome to Lab Exercise 3! In this hands-on session, we will practice taking user input and displaying output in Python. Input and output operations are fundamental for creating interactive programs. Let's dive into the exercise.\n",
    "\n",
    "**I. Task Description**\n",
    "\n",
    "Your task for this exercise is to create a Python script that demonstrates taking user input, performing calculations, and displaying the results. Specifically, you will:\n",
    "\n",
    "1. Use the `input()` function to obtain user input.\n",
    "2. Perform calculations based on the input.\n",
    "3. Display the results using the `print()` function.\n",
    "\n",
    "**II. Step-by-Step Instructions**\n",
    "\n",
    "Let's break down the exercise into smaller steps:\n",
    "\n",
    "**Step 1: User Input**\n",
    "\n",
    "- Use the `input()` function to prompt the user for the following information:\n",
    "  - The user's name.\n",
    "  - A numerical value (e.g., a number of items, a distance, etc.).\n",
    "\n",
    "**Step 2: Calculations**\n",
    "\n",
    "- Perform a calculation based on the numerical input. You can choose any calculation you like, such as calculating the square of the number, finding the area of a rectangle, or computing a discount.\n",
    "\n",
    "**Step 3: Displaying Results**\n",
    "\n",
    "- Use the `print()` function to display the following information:\n",
    "  - A greeting message that includes the user's name.\n",
    "  - The user's input value.\n",
    "  - The result of your calculation.\n",
    "  - A closing message.\n",
    "\n",
    "**III. Example**\n",
    "\n",
    "Here's an example of how your Python script might look:\n",
    "\n",
    "```python\n",
    "# User Input\n",
    "name = input(\"Enter your name: \")\n",
    "number = float(input(\"Enter a number: \"))\n",
    "\n",
    "# Calculation\n",
    "result = number * 2  # Doubling the input number\n",
    "\n",
    "# Displaying Results\n",
    "print(f\"Hello, {name}!\")\n",
    "print(f\"You entered: {number}\")\n",
    "print(f\"Double of {number} is: {result}\")\n",
    "print(\"Thank you for using this program!\")\n",
    "```"
   ]
  },
  {
   "cell_type": "code",
   "execution_count": 18,
   "metadata": {},
   "outputs": [
    {
     "name": "stdout",
     "output_type": "stream",
     "text": [
      "Enter your name: aaa\n",
      "Enter a number: 2\n",
      "Hello, aaa!\n",
      "You entered: 2.0\n",
      "Double of 2.0 is: 4.0\n",
      "Thank you for using this program!\n"
     ]
    }
   ],
   "source": [
    "# User Input\n",
    "name = input(\"Enter your name: \")\n",
    "number = float(input(\"Enter a number: \"))\n",
    "\n",
    "# Calculation\n",
    "result = number * 2  # Doubling the input number\n",
    "\n",
    "# Displaying Results\n",
    "print(f\"Hello, {name}!\")\n",
    "print(f\"You entered: {number}\")\n",
    "print(f\"Double of {number} is: {result}\")\n",
    "print(\"Thank you for using this program!\")"
   ]
  },
  {
   "cell_type": "markdown",
   "metadata": {},
   "source": [
    "**IV. Your Task**\n",
    "\n",
    "Now it's your turn! Open your Python development environment, and follow the instructions in Steps 1, 2, and 3 to complete the task. Don't forget to run your script to see the results.\n",
    "\n",
    "Interactive programs that take user input and provide meaningful output are a common use case for Python. Enjoy the exercise, and feel free to ask for help or clarification if needed!"
   ]
  },
  {
   "cell_type": "markdown",
   "metadata": {},
   "source": [
    "# TODO-3"
   ]
  },
  {
   "cell_type": "code",
   "execution_count": null,
   "metadata": {},
   "outputs": [],
   "source": [
    "# Write your code below"
   ]
  },
  {
   "cell_type": "markdown",
   "metadata": {},
   "source": [
    "## Time for Putting Everything in Practice"
   ]
  },
  {
   "cell_type": "markdown",
   "metadata": {},
   "source": [
    "**Very Easy Problems:**\n",
    "\n",
    "1. **Problem: Simple Arithmetic**\n",
    "   - Statement: Calculate the result of adding 5 and 3.\n",
    "   - Example: What is the result of 5 + 3?\n",
    "\n",
    "2. **Problem: Basic Python Operations**\n",
    "   - Statement: Perform the following operations using Python: subtract 7 from 12, multiply 4 by 6, and divide 15 by 3.\n",
    "   - Example: Calculate 12 - 7, 4 * 6, and 15 / 3."
   ]
  },
  {
   "cell_type": "markdown",
   "metadata": {},
   "source": [
    "# TODO-4"
   ]
  },
  {
   "cell_type": "code",
   "execution_count": 8,
   "metadata": {},
   "outputs": [],
   "source": [
    "# Solution to Problem 1 Here"
   ]
  },
  {
   "cell_type": "markdown",
   "metadata": {},
   "source": [
    "# TODO-5"
   ]
  },
  {
   "cell_type": "code",
   "execution_count": 9,
   "metadata": {},
   "outputs": [],
   "source": [
    "# Solution to Problem 2 Here"
   ]
  },
  {
   "cell_type": "markdown",
   "metadata": {},
   "source": [
    "**Easy Problems:**\n",
    "\n",
    "3. **Problem: Finding the Square of a Number**\n",
    "   - Statement: Calculate the square of the number 9.\n",
    "   - Example: What is 9 squared?\n",
    "\n",
    "4. **Problem: Computing the Area of a Rectangle**\n",
    "   - Statement: Find the area of a rectangle with a length of 8 units and a width of 5 units.\n",
    "   - Example: What is the area of a rectangle with a length of 8 units and a width of 5 units?"
   ]
  },
  {
   "cell_type": "markdown",
   "metadata": {},
   "source": [
    "# TODO-6"
   ]
  },
  {
   "cell_type": "code",
   "execution_count": 10,
   "metadata": {},
   "outputs": [],
   "source": [
    "# Solution to Problem 3 Here"
   ]
  },
  {
   "cell_type": "markdown",
   "metadata": {},
   "source": [
    "# TODO-7"
   ]
  },
  {
   "cell_type": "code",
   "execution_count": 11,
   "metadata": {},
   "outputs": [],
   "source": [
    "# Solution to Problem 4 Here"
   ]
  },
  {
   "cell_type": "markdown",
   "metadata": {},
   "source": [
    "**Medium Problems:**\n",
    "\n",
    "5. **Problem: Percentage Calculation**\n",
    "   - Statement: Calculate 25% of the number 80.\n",
    "   - Example: What is 25% of 80?\n",
    "\n",
    "6. **Problem: Multiplying Decimal Numbers**\n",
    "   - Statement: Multiply 2.5 by 3.2.\n",
    "   - Example: Calculate the result of 2.5 * 3.2."
   ]
  },
  {
   "cell_type": "markdown",
   "metadata": {},
   "source": [
    "# TODO-8"
   ]
  },
  {
   "cell_type": "code",
   "execution_count": 12,
   "metadata": {},
   "outputs": [],
   "source": [
    "# Solution to Problem 5 Here"
   ]
  },
  {
   "cell_type": "markdown",
   "metadata": {},
   "source": [
    "# TODO-9"
   ]
  },
  {
   "cell_type": "code",
   "execution_count": 13,
   "metadata": {},
   "outputs": [],
   "source": [
    "# Solution to Problem 6 Here"
   ]
  },
  {
   "cell_type": "markdown",
   "metadata": {},
   "source": [
    "**Difficult Problem:**\n",
    "\n",
    "7. **Problem: Exponentiation**\n",
    "   - Statement: Calculate 2 raised to the power of 5.\n",
    "   - Example: What is 2^5?"
   ]
  },
  {
   "cell_type": "markdown",
   "metadata": {},
   "source": [
    "# TODO-10"
   ]
  },
  {
   "cell_type": "code",
   "execution_count": 7,
   "metadata": {},
   "outputs": [],
   "source": [
    "# Solution to Problem 7 Here"
   ]
  }
 ],
 "metadata": {
  "kernelspec": {
   "display_name": "Python 3",
   "language": "python",
   "name": "python3"
  },
  "language_info": {
   "codemirror_mode": {
    "name": "ipython",
    "version": 3
   },
   "file_extension": ".py",
   "mimetype": "text/x-python",
   "name": "python",
   "nbconvert_exporter": "python",
   "pygments_lexer": "ipython3",
   "version": "3.6.5"
  }
 },
 "nbformat": 4,
 "nbformat_minor": 2
}
