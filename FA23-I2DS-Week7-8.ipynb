{
 "cells": [
  {
   "cell_type": "markdown",
   "metadata": {},
   "source": [
    "# Your Name:\n",
    "# Registration Number:"
   ]
  },
  {
   "cell_type": "markdown",
   "metadata": {},
   "source": [
    "## Intro to Data Science (Fall2023)\n",
    "### Week07/08 (24/28-Nov-2023)\n",
    "\n",
    "**M Ateeq**,<br>\n",
    "*Department of Data Science, The Islamia University of Bahawalpur.*"
   ]
  },
  {
   "cell_type": "markdown",
   "metadata": {},
   "source": [
    "### **File I/O**\n",
    "\n",
    "#### **Lecture Outline:**\n",
    "1. Introduction to File Input/Output\n",
    "   - Definition and importance in programming\n",
    "   - Different types of files (text, binary)\n",
    "\n",
    "2. Reading from Files\n",
    "   - Opening and closing files\n",
    "   - Reading methods: `read()`, `readline()`, `readlines()`\n",
    "\n",
    "3. Writing to Files\n",
    "   - Opening files in write mode\n",
    "   - Writing methods: `write()`, `writelines()`\n",
    "\n",
    "4. File Modes and Operations\n",
    "   - Modes: read, write, append\n",
    "   - Using `with` statement for automatic file closing\n",
    "   - Handling exceptions during file operations\n",
    "\n",
    "5. Practical Examples\n",
    "   - Reading from and writing to a text file\n",
    "   - Working with CSV files"
   ]
  },
  {
   "cell_type": "markdown",
   "metadata": {},
   "source": [
    "#### **Lab Session Outline:**\n",
    "1. Exercise: Reading from Files\n",
    "   - Write a program to read data from a text file and display it.\n",
    "\n",
    "2. Exercise: Writing to Files\n",
    "   - Create a program that takes user input and writes it to a new text file.\n",
    "\n",
    "3. Mini-Project: CSV Manipulation\n",
    "   - Use the CSV module to read and write data to a CSV file.\n",
    "   - Perform basic operations like filtering and sorting."
   ]
  },
  {
   "cell_type": "markdown",
   "metadata": {},
   "source": [
    "### Introduction to File Input/Output\n",
    "\n",
    "#### 1. Definition and Importance in Programming\n",
    "File Input/Output, commonly known as **File I/O**, is a crucial aspect of programming that involves reading from and writing to files. Files serve as a persistent storage medium, allowing data to be stored beyond the lifespan of a program. File I/O facilitates the exchange of information between a program and external storage, enabling data persistence and sharing.\n",
    "\n",
    "**Reflection Question 1:**\n",
    "What is the primary purpose of File I/O in programming?\n",
    "- a) Displaying information to the console\n",
    "- b) Storing and retrieving data from external files\n",
    "- c) Managing variables in memory\n",
    "- d) Performing mathematical operations\n",
    "\n",
    "<details>\n",
    "<summary>Click to reveal the answer:</summary>\n",
    "    b)"
   ]
  },
  {
   "cell_type": "markdown",
   "metadata": {},
   "source": [
    "#### 2. Different Types of Files\n",
    "In Python, there are two main types of files: **text files** and **binary files**. Text files contain human-readable characters, while binary files contain a sequence of bytes. Understanding these distinctions is vital when choosing the appropriate file mode and method for reading or writing data.\n",
    "\n",
    "**Reflection Question 2:**\n",
    "When might you choose to use a binary file instead of a text file?\n",
    "- a) When the data is in a human-readable format\n",
    "- b) When working with images or executable files\n",
    "- c) When the file size is small\n",
    "- d) When sharing data with other programs\n",
    "\n",
    "<details>\n",
    "<summary>Click to reveal the answer:</summary>\n",
    "    b)"
   ]
  },
  {
   "cell_type": "markdown",
   "metadata": {},
   "source": [
    "#### 3. Reading from Files\n",
    "Reading from files involves opening a file and extracting its content. Python provides various methods for reading, such as:\n",
    "- **`read()`**: Reads the entire file.\n",
    "- **`readline()`**: Reads a single line.\n",
    "- **`readlines()`**: Reads all lines into a list.\n",
    "\n",
    "**Reflection Question 3:**\n",
    "Which method would you use to read a specific line from a text file?\n",
    "- a) `read()`\n",
    "- b) `readline()`\n",
    "- c) `readlines()`\n",
    "- d) `readline(3)`\n",
    "\n",
    "<details>\n",
    "<summary>Click to reveal the answer:</summary>\n",
    "    b)"
   ]
  },
  {
   "cell_type": "markdown",
   "metadata": {},
   "source": [
    "#### 4. Writing to Files\n",
    "Writing to files involves creating or overwriting content in a file. This is done by opening a file in write mode and using methods like:\n",
    "- **`write()`**: Writes a string to the file.\n",
    "- **`writelines()`**: Writes a list of strings to the file.\n",
    "\n",
    "**Reflection Question 4:**\n",
    "What happens if you open a file in write mode and the file already exists?\n",
    "- a) The existing file is overwritten.\n",
    "- b) An error is raised.\n",
    "- c) The new content is appended to the existing file.\n",
    "- d) The program crashes.\n",
    "\n",
    "<details>\n",
    "<summary>Click to reveal the answer:</summary>\n",
    "a)"
   ]
  },
  {
   "cell_type": "markdown",
   "metadata": {},
   "source": [
    "#### 5. File Modes and Operations\n",
    "File modes, such as read (`'r'`), write (`'w'`), and append (`'a'`), dictate the file's behavior. The `with` statement ensures proper file closure. Exception handling is crucial to address potential errors during file operations.\n",
    "\n",
    "**Reflection Question 5:**\n",
    "Which file mode is appropriate if you want to add new content to an existing file without overwriting the existing data?\n",
    "- a) `'r'`\n",
    "- b) `'w'`\n",
    "- c) `'a'`\n",
    "- d) `'x'`\n",
    "\n",
    "<details>\n",
    "<summary>Click to reveal the answer:</summary>\n",
    "   c)"
   ]
  },
  {
   "cell_type": "markdown",
   "metadata": {},
   "source": [
    "#### 6. Practical Examples\n",
    "Let's explore practical examples of File I/O, such as reading from and writing to a text file and working with CSV files.\n",
    "\n",
    "**Example 1: Reading from a Text File**\n",
    "```python\n",
    "def read_from_file(file_path):\n",
    "    with open(file_path, 'r') as file:\n",
    "        content = file.read()\n",
    "        return content\n",
    "```"
   ]
  },
  {
   "cell_type": "code",
   "execution_count": 2,
   "metadata": {},
   "outputs": [
    {
     "data": {
      "text/plain": [
       "'Hello BSDS 2nd,\\n\\nWelcome to Data Science.\\nIt is only because of problems that we grow mentally and spiritually!\\n\\nAll the best,'"
      ]
     },
     "execution_count": 2,
     "metadata": {},
     "output_type": "execute_result"
    }
   ],
   "source": [
    "def read_from_file(file_path):\n",
    "    with open(file_path, 'r') as file:\n",
    "        content = file.read()\n",
    "        return content\n",
    "\n",
    "read_from_file('week7_01.txt')"
   ]
  },
  {
   "cell_type": "markdown",
   "metadata": {},
   "source": [
    "**Example 2: Writing to a Text File**\n",
    "```python\n",
    "def write_to_file(file_path, data):\n",
    "    with open(file_path, 'w') as file:\n",
    "        file.write(data)\n",
    "```"
   ]
  },
  {
   "cell_type": "code",
   "execution_count": 3,
   "metadata": {},
   "outputs": [],
   "source": [
    "def write_to_file(file_path, data):\n",
    "    with open(file_path, 'w') as file:\n",
    "        file.write(data)\n",
    "\n",
    "data = '''This is sample data for writing to file\n",
    "Write this at new line!\\nAnd this one on third line!'''\n",
    "\n",
    "write_to_file('week7_02.txt', data)"
   ]
  },
  {
   "cell_type": "markdown",
   "metadata": {},
   "source": [
    "#### **`with` Context Manager**\n",
    "\n",
    "Opening and working with files in Python can be done without using the `with` statement, but employing `with` offers an elegant and efficient way to manage resources.\n",
    "\n",
    "When a file is opened without the `with` statement, it becomes the responsibility of the programmer to explicitly close the file after processing. Failing to do so may lead to resource leaks and unexpected behavior.\n",
    "\n",
    "On the other hand, the `with` statement acts as a context manager, providing a cleaner and more Pythonic approach to file handling. When a file is opened within a `with` block, Python ensures that the file is automatically closed when the block is exited, regardless of whether an exception occurs or not. This helps in preventing resource leaks and ensures that file-related resources are released promptly."
   ]
  },
  {
   "cell_type": "markdown",
   "metadata": {},
   "source": [
    "**Example 3: Working with CSV Files**\n",
    "```python\n",
    "import csv\n",
    "\n",
    "def read_csv(file_path):\n",
    "    with open(file_path, 'r') as csv_file:\n",
    "        reader = csv.reader(csv_file)\n",
    "        for row in reader:\n",
    "            print(row)\n",
    "```"
   ]
  },
  {
   "cell_type": "code",
   "execution_count": 4,
   "metadata": {},
   "outputs": [
    {
     "name": "stdout",
     "output_type": "stream",
     "text": [
      "['Name', ' Age', ' Department']\n",
      "['John Doe', ' 30', ' Sales']\n",
      "['Jane Smith', ' 25', ' Marketing']\n",
      "['Bob Johnson', ' 35', ' IT']\n",
      "['Alice Brown', ' 28', ' HR']\n"
     ]
    }
   ],
   "source": [
    "import csv\n",
    "\n",
    "def read_csv(file_path):\n",
    "    with open(file_path, 'r') as csv_file:\n",
    "        reader = csv.reader(csv_file)\n",
    "        for row in reader:\n",
    "            print(row)\n",
    "            \n",
    "read_csv('week7_03.csv')"
   ]
  },
  {
   "cell_type": "markdown",
   "metadata": {},
   "source": [
    "#### **CSV (Comma-Separated Values) Files:**\n",
    "\n",
    "CSV files are a popular and simple format for storing tabular data. Some important aspects are:\n",
    "- each line represents a row of data, and values within each row are separated by commas. \n",
    "- allows for the easy exchange of structured data between different programs. \n",
    "- widely used in data analysis, spreadsheet applications, and database management. \n",
    "- plain text files, making them human-readable, and their simplicity facilitates both data storage and easy integration into various data processing tools."
   ]
  },
  {
   "cell_type": "markdown",
   "metadata": {},
   "source": [
    "Let's consider a simple example where we have information about employees, and we want to represent this data in both the source (CSV) format and how it would appear in a spreadsheet:\n",
    "\n",
    "**Source (CSV) Format:**\n",
    "```plaintext\n",
    "Name, Age, Department\n",
    "John Doe, 30, Sales\n",
    "Jane Smith, 25, Marketing\n",
    "Bob Johnson, 35, IT\n",
    "Alice Brown, 28, HR\n",
    "```\n",
    "\n",
    "In a spreadsheet, it would look like:\n",
    "\n",
    "| Name         | Age | Department |\n",
    "|--------------|-----|------------|\n",
    "| John Doe     | 30  | Sales      |\n",
    "| Jane Smith   | 25  | Marketing  |\n",
    "| Bob Johnson  | 35  | IT         |\n",
    "| Alice Brown  | 28  | HR         |\n",
    "\n",
    "In the source format, each line corresponds to a row in the table, and the values for each column are separated by commas. In the spreadsheet view, the data is organized into a table with columns for \"Name,\" \"Age,\" and \"Department,\" and each row represents an individual employee with their respective information."
   ]
  },
  {
   "cell_type": "markdown",
   "metadata": {},
   "source": [
    "### Reading from Files\n",
    "\n",
    "#### 1. Opening and Closing Files\n",
    "Before reading from a file, it's essential to open it using the `open()` function. This function takes the file path and a mode parameter, such as `'r'` for reading. Always close the file after reading using the `close()` method or, better yet, leverage the `with` statement for automatic closure.\n",
    "\n",
    "**Example: Opening and Closing a File**\n",
    "```python\n",
    "def read_file(file_path):\n",
    "    try:\n",
    "        with open(file_path, 'r') as file:\n",
    "            content = file.read()\n",
    "            return content\n",
    "    except FileNotFoundError:\n",
    "        return \"File not found.\"\n",
    "    except Exception as e:\n",
    "        return f\"An error occurred: {e}\"\n",
    "```"
   ]
  },
  {
   "cell_type": "code",
   "execution_count": 5,
   "metadata": {},
   "outputs": [
    {
     "data": {
      "text/plain": [
       "'File not found.'"
      ]
     },
     "execution_count": 5,
     "metadata": {},
     "output_type": "execute_result"
    }
   ],
   "source": [
    "def read_file(file_path):\n",
    "    try:\n",
    "        with open(file_path, 'r') as file:\n",
    "            content = file.read()\n",
    "            return content\n",
    "    except FileNotFoundError:\n",
    "        return \"File not found.\"\n",
    "    except Exception as e:\n",
    "        return f\"An error occurred: {e}\"\n",
    "\n",
    "read_file('w.txt')"
   ]
  },
  {
   "cell_type": "markdown",
   "metadata": {},
   "source": [
    "**Explanation:**\n",
    "\n",
    "1. **`try` Block:**\n",
    "   - The code inside the `try` block is the main part of our program that we want to execute.\n",
    "   - In this case, it attempts to open a file (`file_path`) in read mode and read its content.\n",
    "\n",
    "2. **`except FileNotFoundError:`**\n",
    "   - If the code inside the `try` block encounters a `FileNotFoundError`, it jumps to the corresponding `except` block.\n",
    "   - This block handles the specific case where the file specified by `file_path` is not found.\n",
    "   - In this example, it returns the message \"File not found.\"\n",
    "\n",
    "3. **`except Exception as e:`**\n",
    "   - If any other type of exception occurs (other than `FileNotFoundError`), the program jumps to this block.\n",
    "   - It captures the exception in the variable `e` and returns a generic error message indicating that an error occurred, along with details about the specific error."
   ]
  },
  {
   "cell_type": "markdown",
   "metadata": {},
   "source": [
    "**A Simple Summary:**\n",
    "- The `try` block is like the main plan, where we try to open a file and read its content.\n",
    "- The `except` blocks are backup plans for different situations.\n",
    "- If the file is not found, we have a specific plan to handle that situation.\n",
    "- If something else unexpected happens, we have a general plan to catch and describe the problem.\n",
    "\n",
    "In simple terms, it's like having a primary plan and backup plans in case something doesn't go as expected when working with files."
   ]
  },
  {
   "cell_type": "markdown",
   "metadata": {},
   "source": [
    "#### **So What Exaclty is Exception Handling?**\n",
    "\n",
    "Exception handling is a programming concept that involves anticipating and managing runtime errors or exceptional situations that may occur during the execution of a program. In Python, exceptions are events that disrupt the normal flow of a program, and exception handling provides a mechanism to gracefully address these disruptions.\n",
    "\n",
    "**Why We Need Exception Handling:**\n",
    "1. **Error Resilience:** Exception handling allows programs to gracefully recover from unexpected errors, preventing abrupt terminations and providing an opportunity to handle errors in a controlled manner.\n",
    "\n",
    "2. **Debugging and Logging:** It facilitates debugging by providing detailed information about the nature and location of errors. Exception handling can include logging mechanisms that record errors for later analysis.\n",
    "\n",
    "3. **Enhanced Readability:** Properly handled exceptions contribute to code readability by separating error-handling logic from the main program flow, making the code more understandable and maintainable.\n",
    "\n",
    "4. **Robustness:** Exception handling makes programs more robust by allowing them to respond intelligently to unforeseen issues, improving overall reliability and user experience."
   ]
  },
  {
   "cell_type": "markdown",
   "metadata": {},
   "source": [
    "**Reflection Question 4:**\n",
    "Why is exception handling important when working with file I/O?\n",
    "- a) It improves code readability.\n",
    "- b) It allows the program to gracefully handle errors.\n",
    "- c) It speeds up file operations.\n",
    "- d) It eliminates the need for opening files.\n",
    "\n",
    "<details>\n",
    "<summary>Click to reveal the answer:</summary>\n"
   ]
  },
  {
   "cell_type": "markdown",
   "metadata": {},
   "source": [
    "**Reflection Question 6:**\n",
    "Why is it important to close files after reading?\n",
    "- a) It frees up memory.\n",
    "- b) It prevents unauthorized access.\n",
    "- c) It ensures data integrity and proper resource management.\n",
    "- d) All of the above.\n",
    "\n",
    "<details>\n",
    "<summary>Click to reveal the answer:</summary>\n",
    "    d)"
   ]
  },
  {
   "cell_type": "markdown",
   "metadata": {},
   "source": [
    "#### 2. Reading Methods\n",
    "Python provides various methods for reading different portions of a file:\n",
    "- **`read()`**: Reads the entire file as a string.\n",
    "- **`readline()`**: Reads a single line.\n",
    "- **`readlines()`**: Reads all lines and returns a list.\n",
    "\n",
    "**Example: Using `readline()`**\n",
    "```python\n",
    "def read_line(file_path):\n",
    "    with open(file_path, 'r') as file:\n",
    "        line = file.readline()\n",
    "        return line\n",
    "```"
   ]
  },
  {
   "cell_type": "code",
   "execution_count": 7,
   "metadata": {},
   "outputs": [
    {
     "data": {
      "text/plain": [
       "'Hello BSDS 2nd,\\n'"
      ]
     },
     "execution_count": 7,
     "metadata": {},
     "output_type": "execute_result"
    }
   ],
   "source": [
    "def read_line(file_path):\n",
    "    with open(file_path, 'r') as file:\n",
    "        line = file.readline()\n",
    "        return line\n",
    "    \n",
    "read_line('week7_01.txt')"
   ]
  },
  {
   "cell_type": "markdown",
   "metadata": {},
   "source": [
    "**Reflection Question 2:**\n",
    "If a file has 10 lines of text and you call `readline()` twice, what will the second call return?\n",
    "- a) The second line\n",
    "- b) The first line\n",
    "- c) The third line\n",
    "- d) An empty string\n",
    "\n",
    "<details>\n",
    "<summary>Click to reveal the answer:</summary>\n",
    "    a)"
   ]
  },
  {
   "cell_type": "markdown",
   "metadata": {},
   "source": [
    "#### 3. Iterating through Lines\n",
    "For large files, it's common to iterate through lines using a loop. This allows processing the file line by line, avoiding loading the entire content into memory.\n",
    "\n",
    "**Example: Iterating through Lines**\n",
    "```python\n",
    "def read_lines(file_path):\n",
    "    with open(file_path, 'r') as file:\n",
    "        for line in file:\n",
    "            print(line.strip())  # Strip removes leading and trailing whitespaces\n",
    "```"
   ]
  },
  {
   "cell_type": "code",
   "execution_count": 14,
   "metadata": {},
   "outputs": [
    {
     "name": "stdout",
     "output_type": "stream",
     "text": [
      "Hello BSDS 2nd,\n",
      "\n",
      "Welcome to Data Science.\n",
      "It is only because of problems that we grow mentally and spiritually!\n",
      "\n",
      "All the best,\n"
     ]
    }
   ],
   "source": [
    "def read_lines(file_path):\n",
    "    with open(file_path, 'r') as file:\n",
    "        #lines = file.readlines()\n",
    "        for line in file:\n",
    "            print(line.strip())  # Strip removes leading and trailing whitespaces\n",
    "    \n",
    "read_lines('week7_01.txt')"
   ]
  },
  {
   "cell_type": "markdown",
   "metadata": {},
   "source": [
    "**Reflection Question 3:**\n",
    "When might you prefer using a loop to read lines instead of `readlines()`?\n",
    "- a) For better performance with large files\n",
    "- b) When you want to read the entire file at once\n",
    "- c) When dealing with binary files\n",
    "- d) Both a and c\n",
    "\n",
    "<details>\n",
    "<summary>Click to reveal the answer:</summary>\n",
    "    a)"
   ]
  },
  {
   "cell_type": "markdown",
   "metadata": {},
   "source": [
    "#### 5. Binary File Reading (Optional)\n",
    "While this topic primarily focuses on text file reading, it's worth noting that similar principles apply to reading binary files. The `rb` mode is used to open files in binary mode.\n",
    "\n",
    "#### 6. Practical Exercise\n",
    "Create a program that reads data from a text file, processes it, and prints specific information. This exercise helps reinforce the concepts of opening files, reading methods, and exception handling."
   ]
  },
  {
   "cell_type": "code",
   "execution_count": null,
   "metadata": {},
   "outputs": [],
   "source": [
    "# Write your solution to practice exercise here..."
   ]
  },
  {
   "cell_type": "markdown",
   "metadata": {},
   "source": [
    "### Writing to Files\n",
    "\n",
    "#### 1. Opening Files in Write Mode\n",
    "Before writing to a file, you need to open it in write mode (`'w'`). If the file doesn't exist, Python will create it. If it does exist, opening in write mode will overwrite the existing content. It's crucial to handle file operations within a `with` statement for proper closure.\n",
    "\n",
    "**Example: Opening a File in Write Mode**\n",
    "```python\n",
    "def write_to_file(file_path, data):\n",
    "    try:\n",
    "        with open(file_path, 'w') as file:\n",
    "            file.write(data)\n",
    "            return \"Write operation successful.\"\n",
    "    except Exception as e:\n",
    "        return f\"An error occurred: {e}\"\n",
    "```"
   ]
  },
  {
   "cell_type": "markdown",
   "metadata": {},
   "source": [
    "**Reflection Question 1:**\n",
    "What happens if you open a file using `'w'` mode and the file already contains data?\n",
    "- a) The new data is appended to the existing content.\n",
    "- b) An error is raised.\n",
    "- c) The existing content is overwritten.\n",
    "- d) The program crashes.\n",
    "\n",
    "<details>\n",
    "<summary>Click to reveal the answer:</summary>\n",
    "    c)"
   ]
  },
  {
   "cell_type": "markdown",
   "metadata": {},
   "source": [
    "#### 2. Writing Methods\n",
    "Python provides two main methods for writing to files:\n",
    "- **`write()`**: Writes a string to the file.\n",
    "- **`writelines()`**: Writes a list of strings to the file.\n",
    "\n",
    "**Example: Using `write()`**\n",
    "```python\n",
    "def append_to_file(file_path, new_data):\n",
    "    try:\n",
    "        with open(file_path, 'a') as file:\n",
    "            file.write(\"\\n\" + new_data)  # Appending new data on a new line\n",
    "            return \"Append operation successful.\"\n",
    "    except Exception as e:\n",
    "        return f\"An error occurred: {e}\"\n",
    "```"
   ]
  },
  {
   "cell_type": "code",
   "execution_count": 19,
   "metadata": {},
   "outputs": [
    {
     "data": {
      "text/plain": [
       "'Append operation successful.'"
      ]
     },
     "execution_count": 19,
     "metadata": {},
     "output_type": "execute_result"
    }
   ],
   "source": [
    "def append_to_file(file_path, new_data):\n",
    "    try:\n",
    "        with open(file_path, 'a') as file:\n",
    "            file.write(new_data)  # Appending new data on a new line\n",
    "            return \"Append operation successful.\"\n",
    "    except Exception as e:\n",
    "        return f\"An error occurred: {e}\"\n",
    "\n",
    "data = \"Please append this!\"\n",
    "append_to_file('week7_02.txt', data)"
   ]
  },
  {
   "cell_type": "markdown",
   "metadata": {},
   "source": [
    "**Reflection Question 2:**\n",
    "If you want to add new data to the end of an existing file without overwriting its content, which method would you use?\n",
    "- a) `write()`\n",
    "- b) `writelines()`\n",
    "- c) Both `write()` and `writelines()`\n",
    "- d) `open()` without any method\n",
    "\n",
    "<details>\n",
    "<summary>Click to reveal the answer:</summary>\n",
    "    a)"
   ]
  },
  {
   "cell_type": "markdown",
   "metadata": {},
   "source": [
    "#### 3. Modes and Operations\n",
    "Understanding file modes is crucial for writing to files. The modes include `'w'` for write and `'a'` for append. Writing in append mode adds new content to the end of the file without overwriting the existing data.\n",
    "\n",
    "**Example: Appending to a File**\n",
    "```python\n",
    "def append_to_file(file_path, new_data):\n",
    "    try:\n",
    "        with open(file_path, 'a') as file:\n",
    "            file.write(\"\\n\" + new_data)  # Appending new data on a new line\n",
    "            return \"Append operation successful.\"\n",
    "    except Exception as e:\n",
    "        return f\"An error occurred: {e}\"\n",
    "```"
   ]
  },
  {
   "cell_type": "markdown",
   "metadata": {},
   "source": [
    "**Reflection Question 3:**\n",
    "What is the key difference between writing in `'w'` mode and `'a'` mode?\n",
    "- a) `'w'` overwrites the existing content; `'a'` appends to the end.\n",
    "- b) `'w'` appends to the end; `'a'` overwrites the existing content.\n",
    "- c) Both modes append new content.\n",
    "- d) There is no difference between `'w'` and `'a'` modes.\n",
    "\n",
    "<details>\n",
    "<summary>Click to reveal the answer:</summary>\n",
    "    a)"
   ]
  },
  {
   "cell_type": "markdown",
   "metadata": {},
   "source": [
    "#### 4. Using `with` Statement\n",
    "The `with` statement ensures that the file is properly closed after writing operations. This helps in avoiding potential issues related to unclosed files.\n",
    "\n",
    "**Example: Using `with` Statement for Writing**\n",
    "```python\n",
    "def write_with_statement(file_path, data):\n",
    "    try:\n",
    "        with open(file_path, 'w') as file:\n",
    "            file.write(data)\n",
    "            return \"Write operation successful.\"\n",
    "    except Exception as e:\n",
    "        return f\"An error occurred: {e}\"\n",
    "```"
   ]
  },
  {
   "cell_type": "markdown",
   "metadata": {},
   "source": [
    "**Reflection Question 4:**\n",
    "Why is it recommended to use the `with` statement when working with files?\n",
    "- a) It improves file writing performance.\n",
    "- b) It ensures proper closure of the file.\n",
    "- c) It allows writing to multiple files simultaneously.\n",
    "- d) It is required by the Python syntax.\n",
    "\n",
    "<details>\n",
    "<summary>Click to reveal the answer:</summary>\n",
    "   b)"
   ]
  },
  {
   "cell_type": "markdown",
   "metadata": {},
   "source": [
    "#### 5. Practical Exercise\n",
    "Create a program that takes user input and writes it to a new text file. This exercise reinforces the concepts of opening files in write mode, using writing methods, and proper exception handling."
   ]
  },
  {
   "cell_type": "code",
   "execution_count": 21,
   "metadata": {},
   "outputs": [
    {
     "name": "stdout",
     "output_type": "stream",
     "text": [
      "Enter what you want to store in file: Muhammad Ateeq\n"
     ]
    }
   ],
   "source": [
    "# Write your solution to practice exercise here...\n",
    "user_input = input(\"Enter what you want to store in file: \")\n",
    "with open(\"my_file.txt\", 'w') as file:\n",
    "    file.write(user_input)"
   ]
  },
  {
   "cell_type": "markdown",
   "metadata": {},
   "source": [
    "### File Modes and Operations\n",
    "\n",
    "#### 1. Introduction to File Modes\n",
    "File modes in Python determine the type of operations that can be performed on a file. The three main modes are:\n",
    "- **Read Mode (`'r'`)**: Opens a file for reading.\n",
    "- **Write Mode (`'w'`)**: Opens a file for writing. If the file exists, it truncates the file to zero length.\n",
    "- **Append Mode (`'a'`)**: Opens a file for writing. If the file exists, it appends data to the end.\n",
    "\n",
    "**Example: Opening a File in Different Modes**\n",
    "```python\n",
    "def open_file(file_path, mode):\n",
    "    try:\n",
    "        with open(file_path, mode) as file:\n",
    "            # Perform file operations here\n",
    "            pass\n",
    "    except Exception as e:\n",
    "        return f\"An error occurred: {e}\"\n",
    "```"
   ]
  },
  {
   "cell_type": "markdown",
   "metadata": {},
   "source": [
    "#### 2. Modes for Read, Write, and Append\n",
    "- **Read Mode (`'r'`)**: Used for reading the content of the file. If the file doesn't exist, a `FileNotFoundError` is raised.\n",
    "- **Write Mode (`'w'`)**: Used for writing to the file. If the file exists, it truncates the file to zero length; if it doesn't exist, a new file is created.\n",
    "- **Append Mode (`'a'`)**: Used for appending data to the end of the file. If the file doesn't exist, a new file is created."
   ]
  },
  {
   "cell_type": "markdown",
   "metadata": {},
   "source": [
    "#### 3. Modes for Binary Files (Optional)\n",
    "For working with binary files, the modes `'rb'`, `'wb'`, and `'ab'` are used for reading, writing, and appending, respectively.\n",
    "\n",
    "**Example: Opening a Binary File in Read Mode**\n",
    "```python\n",
    "def read_binary_file(file_path):\n",
    "    try:\n",
    "        with open(file_path, 'rb') as file:\n",
    "            content = file.read()\n",
    "            return content\n",
    "    except Exception as e:\n",
    "        return f\"An error occurred: {e}\"\n",
    "```"
   ]
  },
  {
   "cell_type": "markdown",
   "metadata": {},
   "source": [
    "**Reflection Question 1:**\n",
    "When might you choose to work with binary file modes instead of text file modes?\n",
    "- a) When the file contains human-readable text.\n",
    "- b) When the file contains images or executable files.\n",
    "- c) When the file is small in size.\n",
    "- d) When sharing data with other programs.\n",
    "\n",
    "<details>\n",
    "<summary>Click to reveal the answer:</summary>\n",
    "   b)"
   ]
  },
  {
   "cell_type": "markdown",
   "metadata": {},
   "source": [
    "#### 4. Exception Handling for File Operations\n",
    "File operations may encounter various issues, such as file not found or insufficient permissions. Proper exception handling helps prevent program crashes and provides meaningful error messages.\n",
    "\n",
    "**Example: Handling File Not Found**\n",
    "```python\n",
    "def read_file_safe(file_path):\n",
    "    try:\n",
    "        with open(file_path, 'r') as file:\n",
    "            content = file.read()\n",
    "            return content\n",
    "    except FileNotFoundError:\n",
    "        return \"File not found. Please check the file path.\"\n",
    "    except Exception as e:\n",
    "        return f\"An error occurred: {e}\"\n",
    "```"
   ]
  },
  {
   "cell_type": "markdown",
   "metadata": {},
   "source": [
    "**Reflection Question 2:**\n",
    "Why is exception handling important when working with file operations?\n",
    "- a) It improves code readability.\n",
    "- b) It allows the program to gracefully handle errors.\n",
    "- c) It speeds up file operations.\n",
    "- d) It eliminates the need for opening files.\n",
    "\n",
    "<details>\n",
    "<summary>Click to reveal the answer:</summary>\n",
    "b)"
   ]
  },
  {
   "cell_type": "markdown",
   "metadata": {},
   "source": [
    "#### 5. Practical Exercise\n",
    "Create a program that demonstrates reading and writing operations using different file modes. This exercise reinforces the concepts of file modes, operations, and exception handling."
   ]
  },
  {
   "cell_type": "code",
   "execution_count": null,
   "metadata": {},
   "outputs": [],
   "source": [
    "# Write your solution to practice exercise here..."
   ]
  },
  {
   "cell_type": "markdown",
   "metadata": {},
   "source": [
    "### Practical Examples\n",
    "\n",
    "#### 1. Reading from and Writing to a Text File\n",
    "\n",
    "**Example: Reading from a Text File**\n",
    "```python\n",
    "def read_from_file(file_path):\n",
    "    try:\n",
    "        with open(file_path, 'r') as file:\n",
    "            content = file.read()\n",
    "            return content\n",
    "    except FileNotFoundError:\n",
    "        return \"File not found.\"\n",
    "    except Exception as e:\n",
    "        return f\"An error occurred: {e}\"\n",
    "```"
   ]
  },
  {
   "cell_type": "markdown",
   "metadata": {},
   "source": [
    "**Example: Writing to a Text File**\n",
    "```python\n",
    "def write_to_file(file_path, data):\n",
    "    try:\n",
    "        with open(file_path, 'w') as file:\n",
    "            file.write(data)\n",
    "            return \"Write operation successful.\"\n",
    "    except Exception as e:\n",
    "        return f\"An error occurred: {e}\"\n",
    "```"
   ]
  },
  {
   "cell_type": "markdown",
   "metadata": {},
   "source": [
    "**Reflection Question 1:**\n",
    "How can you modify the `write_to_file` function to append data to an existing file instead of overwriting it?\n",
    "\n",
    "<details>\n",
    "<summary>Click to reveal the answer:</summary>\n",
    "- To modify the `write_to_file` function to append data to an existing file, you can change the file mode from `'w'` (write) to `'a'` (append). This can be done by replacing the mode parameter in the `open()` function. The modified function would look like this:\n",
    "     ```python\n",
    "     def append_to_file(file_path, data):\n",
    "         try:\n",
    "             with open(file_path, 'a') as file:\n",
    "                 file.write(\"\\n\" + data)  # Appending new data on a new line\n",
    "                 return \"Append operation successful.\"\n",
    "         except Exception as e:\n",
    "             return f\"An error occurred: {e}\"\n",
    "     ```\n"
   ]
  },
  {
   "cell_type": "code",
   "execution_count": null,
   "metadata": {},
   "outputs": [],
   "source": [
    "# Test code here"
   ]
  },
  {
   "cell_type": "markdown",
   "metadata": {},
   "source": [
    "#### 2. Working with CSV Files\n",
    "\n",
    "**Example: Reading from a CSV File**\n",
    "```python\n",
    "import csv\n",
    "\n",
    "def read_csv(file_path):\n",
    "    try:\n",
    "        with open(file_path, 'r') as csv_file:\n",
    "            reader = csv.reader(csv_file)\n",
    "            for row in reader:\n",
    "                print(row)\n",
    "    except FileNotFoundError:\n",
    "        return \"CSV file not found.\"\n",
    "    except Exception as e:\n",
    "        return f\"An error occurred: {e}\"\n",
    "```"
   ]
  },
  {
   "cell_type": "markdown",
   "metadata": {},
   "source": [
    "**Example: Writing to a CSV File**\n",
    "```python\n",
    "import csv\n",
    "\n",
    "def write_to_csv(file_path, data):\n",
    "    try:\n",
    "        with open(file_path, 'w', newline='') as csv_file:\n",
    "            writer = csv.writer(csv_file)\n",
    "            writer.writerows(data)\n",
    "            return \"CSV write operation successful.\"\n",
    "    except Exception as e:\n",
    "        return f\"An error occurred: {e}\"\n",
    "```"
   ]
  },
  {
   "cell_type": "markdown",
   "metadata": {},
   "source": [
    "**Reflection Question 2:**\n",
    "When working with CSV files, why is the `newline=''` parameter used when opening the file?\n",
    "\n",
    "<details>\n",
    "<summary>Click to reveal the answer:</summary>\n",
    "- The `newline=''` parameter is used when opening a CSV file to ensure consistent handling of newline characters. In some systems, differences in newline representations (e.g., '\\n' for Unix, '\\r\\n' for Windows) can lead to unexpected behavior. By specifying `newline=''`, you ensure that the CSV module handles newline characters uniformly, preventing issues related to platform-specific line endings.\n"
   ]
  },
  {
   "cell_type": "markdown",
   "metadata": {},
   "source": [
    "#### 3. Interactive Program: User Input and File Operations\n",
    "\n",
    "**Example: Interactive File Operations**\n",
    "```python\n",
    "def interactive_file_operations():\n",
    "    file_path = input(\"Enter the file path: \")\n",
    "    \n",
    "    try:\n",
    "        with open(file_path, 'r') as file:\n",
    "            content = file.read()\n",
    "            print(f\"File Content:\\n{content}\")\n",
    "\n",
    "        new_data = input(\"Enter new data to append: \")\n",
    "        with open(file_path, 'a') as file:\n",
    "            file.write(\"\\n\" + new_data)\n",
    "            print(\"Append operation successful.\")\n",
    "    except FileNotFoundError:\n",
    "        return \"File not found.\"\n",
    "    except Exception as e:\n",
    "        return f\"An error occurred: {e}\"\n",
    "```"
   ]
  },
  {
   "cell_type": "markdown",
   "metadata": {},
   "source": [
    "**Reflection Question 3:**\n",
    "How can you enhance the `interactive_file_operations` function to handle invalid file paths entered by the user?\n",
    "\n",
    "<details>\n",
    "<summary>Click to reveal the answer:</summary>\n",
    "- To enhance the `interactive_file_operations` function to handle invalid file paths entered by the user, you can use a loop to repeatedly prompt the user for a valid file path until a valid one is provided. This can be achieved by wrapping the file input prompt in a `while` loop and checking the existence of the file using `os.path.exists()` or a similar method. Here's an example modification:\n",
    "     ```python\n",
    "     import os\n",
    "\n",
    "     def interactive_file_operations():\n",
    "         while True:\n",
    "             file_path = input(\"Enter the file path: \")\n",
    "             if os.path.exists(file_path):\n",
    "                 break\n",
    "             else:\n",
    "                 print(\"Invalid file path. Please try again.\")\n",
    "\n",
    "         try:\n",
    "             with open(file_path, 'r') as file:\n",
    "                 content = file.read()\n",
    "                 print(f\"File Content:\\n{content}\")\n",
    "\n",
    "             new_data = input(\"Enter new data to append: \")\n",
    "             with open(file_path, 'a') as file:\n",
    "                 file.write(\"\\n\" + new_data)\n",
    "                 print(\"Append operation successful.\")\n",
    "         except Exception as e:\n",
    "             print(f\"An error occurred: {e}\")\n",
    "     ```"
   ]
  },
  {
   "cell_type": "code",
   "execution_count": null,
   "metadata": {},
   "outputs": [],
   "source": [
    "# Test code here"
   ]
  },
  {
   "cell_type": "markdown",
   "metadata": {},
   "source": [
    "#### 4. Using `with` Statement for File Operations\n",
    "\n",
    "**Example: Using `with` Statement for Reading**\n",
    "```python\n",
    "def read_file_with_statement(file_path):\n",
    "    try:\n",
    "        with open(file_path, 'r') as file:\n",
    "            content = file.read()\n",
    "            return content\n",
    "    except Exception as e:\n",
    "        return f\"An error occurred: {e}\"\n",
    "```"
   ]
  },
  {
   "cell_type": "markdown",
   "metadata": {},
   "source": [
    "**Example: Using `with` Statement for Writing**\n",
    "```python\n",
    "def write_with_statement(file_path, data):\n",
    "    try:\n",
    "        with open(file_path, 'w') as file:\n",
    "            file.write(data)\n",
    "            return \"Write operation successful.\"\n",
    "    except Exception as e:\n",
    "        return f\"An error occurred: {e}\"\n",
    "```"
   ]
  },
  {
   "cell_type": "markdown",
   "metadata": {},
   "source": [
    "**Reflection Question 4:**\n",
    "What advantages does the `with` statement provide when compared to manually opening and closing files?\n",
    "\n",
    "<details>\n",
    "<summary>Click to reveal the answer:</summary>\n",
    "- The `with` statement in Python provides automatic resource management, ensuring that the file is properly closed after the indented block of code is executed. This eliminates the need for explicitly calling `file.close()` and reduces the risk of resource leaks. The `with` statement also handles exceptions more gracefully, making the code cleaner and more readable. It simplifies error handling and ensures that even if an exception occurs, the file will be closed correctly. Overall, the `with` statement enhances code reliability and maintainability when working with file operations."
   ]
  },
  {
   "cell_type": "code",
   "execution_count": null,
   "metadata": {},
   "outputs": [],
   "source": [
    "# Test code here"
   ]
  },
  {
   "cell_type": "markdown",
   "metadata": {},
   "source": [
    "### 1. Exercise: Reading from Files\n",
    "\n",
    "#### Exercise Description:\n",
    "Create a Python program that reads data from a text file and displays it. This exercise focuses on applying the concepts of opening files, using reading methods, and handling exceptions during file operations.\n",
    "\n",
    "#### Instructions:\n",
    "\n",
    "1. **Function Signature:**\n",
    "   - Define a function named `read_and_display` that takes the file path as a parameter.\n",
    "\n",
    "2. **Opening the File:**\n",
    "   - Use a `try` block to open the file in read mode (`'r'`) using the `open()` function.\n",
    "   - Handle the `FileNotFoundError` exception and print a user-friendly error message if the file is not found.\n",
    "   - Handle other exceptions and print a generic error message for unexpected issues."
   ]
  },
  {
   "cell_type": "markdown",
   "metadata": {},
   "source": [
    "3. **Reading and Displaying Content:**\n",
    "   - Within the `try` block, use the `read()` method to read the entire content of the file.\n",
    "   - Print the content to the console.\n",
    "\n",
    "4. **Close the File:**\n",
    "   - Use the `with` statement to ensure proper closure of the file.\n",
    "\n",
    "5. **Example Function:**\n",
    "   ```python\n",
    "   def read_and_display(file_path):\n",
    "       try:\n",
    "           with open(file_path, 'r') as file:\n",
    "               content = file.read()\n",
    "               print(f\"File Content:\\n{content}\")\n",
    "       except FileNotFoundError:\n",
    "           print(\"File not found. Please check the file path.\")\n",
    "       except Exception as e:\n",
    "           print(f\"An error occurred: {e}\")\n",
    "   ```\n",
    "\n",
    "6. **Test the Function:**\n",
    "   - Call the `read_and_display` function with the path of an existing text file.\n",
    "   - Call the function with the path of a non-existent file to test the exception handling."
   ]
  },
  {
   "cell_type": "code",
   "execution_count": null,
   "metadata": {},
   "outputs": [],
   "source": [
    "# Test code here"
   ]
  },
  {
   "cell_type": "markdown",
   "metadata": {},
   "source": [
    "#### Reflection Questions:\n",
    "\n",
    "1. Why is exception handling important when reading from files?\n",
    "   - a) It improves code readability.\n",
    "   - b) It allows the program to gracefully handle errors.\n",
    "   - c) It speeds up file reading operations.\n",
    "   - d) It eliminates the need for opening files.\n",
    "\n",
    "<details>\n",
    "<summary>Click to reveal the answer:</summary>"
   ]
  },
  {
   "cell_type": "markdown",
   "metadata": {},
   "source": [
    "2. How can you modify the `read_and_display` function to handle the case where the file path provided by the user is empty?"
   ]
  },
  {
   "cell_type": "code",
   "execution_count": null,
   "metadata": {},
   "outputs": [],
   "source": [
    "# Test code here"
   ]
  },
  {
   "cell_type": "markdown",
   "metadata": {},
   "source": [
    "Write your answer here..."
   ]
  },
  {
   "cell_type": "markdown",
   "metadata": {},
   "source": [
    "3. In what scenarios might the `read()` method be preferable over `readline()` when reading from a file?"
   ]
  },
  {
   "cell_type": "markdown",
   "metadata": {},
   "source": [
    "Write your answer here..."
   ]
  },
  {
   "cell_type": "markdown",
   "metadata": {},
   "source": [
    "### 2. Exercise: Writing to Files\n",
    "\n",
    "#### Exercise Description:\n",
    "Develop a Python program that takes user input and writes it to a new text file. This exercise emphasizes the application of file opening in write mode, using writing methods, and handling exceptions during file operations.\n",
    "\n",
    "#### Instructions:\n",
    "\n",
    "1. **Function Signature:**\n",
    "   - Define a function named `write_user_input` that takes the file path and user input as parameters.\n",
    "\n",
    "2. **Opening the File in Write Mode:**\n",
    "   - Use a `try` block to open the file in write mode (`'w'`) using the `open()` function.\n",
    "   - Handle the `FileNotFoundError` exception and print a user-friendly error message if the file is not found.\n",
    "   - Handle other exceptions and print a generic error message for unexpected issues.\n",
    "3. **Writing User Input to the File:**\n",
    "   - Within the `try` block, use the `write()` method to add the user input to the file.\n",
    "   - Optionally, print a success message indicating that the write operation was successful."
   ]
  },
  {
   "cell_type": "markdown",
   "metadata": {},
   "source": [
    "4. **Close the File:**\n",
    "   - Use the `with` statement to ensure proper closure of the file.\n",
    "\n",
    "5. **Example Function:**\n",
    "   ```python\n",
    "   def write_user_input(file_path, user_input):\n",
    "       try:\n",
    "           with open(file_path, 'w') as file:\n",
    "               file.write(user_input)\n",
    "               print(\"Write operation successful.\")\n",
    "       except FileNotFoundError:\n",
    "           print(\"File not found. Please check the file path.\")\n",
    "       except Exception as e:\n",
    "           print(f\"An error occurred: {e}\")\n",
    "   ```\n",
    "\n",
    "6. **Test the Function:**\n",
    "   - Call the `write_user_input` function with the path of a new or existing text file.\n",
    "   - Provide user input when prompted by the program.\n",
    "   - Check the specified file to verify that the user input has been successfully written."
   ]
  },
  {
   "cell_type": "code",
   "execution_count": null,
   "metadata": {},
   "outputs": [],
   "source": [
    "# Test code here"
   ]
  },
  {
   "cell_type": "markdown",
   "metadata": {},
   "source": [
    "#### Reflection Questions:\n",
    "\n",
    "1. Why is it important to handle the `FileNotFoundError` exception when opening a file for writing?\n",
    "   - a) It prevents unauthorized access to the file.\n",
    "   - b) It ensures that the file is created if it doesn't exist.\n",
    "   - c) It speeds up the file writing operation.\n",
    "   - d) It eliminates the need for closing the file.\n",
    "\n",
    "<details>\n",
    "<summary>Click to reveal the answer:</summary>"
   ]
  },
  {
   "cell_type": "markdown",
   "metadata": {},
   "source": [
    "2. How can you enhance the `write_user_input` function to handle cases where the user input is an empty string?"
   ]
  },
  {
   "cell_type": "code",
   "execution_count": null,
   "metadata": {},
   "outputs": [],
   "source": [
    "# Test code here"
   ]
  },
  {
   "cell_type": "markdown",
   "metadata": {},
   "source": [
    "Write your answer here..."
   ]
  },
  {
   "cell_type": "markdown",
   "metadata": {},
   "source": [
    "3. When might you choose to use the `writelines()` method instead of `write()` when writing data to a file?"
   ]
  },
  {
   "cell_type": "markdown",
   "metadata": {},
   "source": [
    "Write your answer here..."
   ]
  },
  {
   "cell_type": "markdown",
   "metadata": {},
   "source": [
    "### 3. Mini-Project: CSV Manipulation\n",
    "\n",
    "#### Project Overview:\n",
    "In this mini-project, you will create a Python program that manipulates data in a CSV file. The goal is to provide hands-on experience with the CSV module and basic data operations.\n",
    "\n",
    "#### Instructions:\n",
    "\n",
    "1. **Function Signature:**\n",
    "   - Define a function named `csv_manipulation` that takes the file path as a parameter."
   ]
  },
  {
   "cell_type": "markdown",
   "metadata": {},
   "source": [
    "2. **Reading from the CSV File:**\n",
    "   - Use the `try` block to open the CSV file in read mode (`'r'`) using the `open()` function or the `csv.reader` method.\n",
    "   - Handle the `FileNotFoundError` exception and print a user-friendly error message if the file is not found.\n",
    "   - Handle other exceptions and print a generic error message for unexpected issues.\n",
    "\n",
    "3. **Displaying Current Data:**\n",
    "   - Within the `try` block, read and display the current content of the CSV file.\n",
    "   - Use the `csv.reader` to read each row and print the data to the console.\n",
    "\n",
    "4. **Manipulating the Data:**\n",
    "   - Implement basic data manipulation operations (e.g., filtering, sorting) on the CSV data.\n",
    "   - Use Python's built-in functions or libraries like Pandas if you're comfortable with it.\n",
    "\n",
    "5. **Writing Back to the CSV File:**\n",
    "   - Open the CSV file in write mode (`'w'`) to overwrite the existing content with the manipulated data.\n",
    "   - Use the `csv.writer` to write the modified data back to the CSV file."
   ]
  },
  {
   "cell_type": "markdown",
   "metadata": {},
   "source": [
    "6. **Example Function:**\n",
    "   ```python\n",
    "   import csv\n",
    "\n",
    "   def csv_manipulation(file_path):\n",
    "       try:\n",
    "           with open(file_path, 'r') as csv_file:\n",
    "               reader = csv.reader(csv_file)\n",
    "               print(\"Current Data:\")\n",
    "               for row in reader:\n",
    "                   print(row)\n",
    "\n",
    "           # Implement data manipulation operations here\n",
    "           # ...\n",
    "\n",
    "           with open(file_path, 'w', newline='') as new_csv_file:\n",
    "               writer = csv.writer(new_csv_file)\n",
    "               # Write the manipulated data back to the CSV file\n",
    "               # ...\n",
    "       except FileNotFoundError:\n",
    "           print(\"CSV file not found. Please check the file path.\")\n",
    "       except Exception as e:\n",
    "           print(f\"An error occurred: {e}\")\n",
    "   ```"
   ]
  },
  {
   "cell_type": "markdown",
   "metadata": {},
   "source": [
    "7. **Test the Function:**\n",
    "   - Call the `csv_manipulation` function with the path of an existing CSV file.\n",
    "   - Implement basic data manipulation operations and observe the changes.\n",
    "   - Check the CSV file to verify that the changes have been successfully written."
   ]
  },
  {
   "cell_type": "code",
   "execution_count": null,
   "metadata": {},
   "outputs": [],
   "source": [
    "# Test code here"
   ]
  },
  {
   "cell_type": "markdown",
   "metadata": {},
   "source": [
    "#### Reflection Questions:\n",
    "\n",
    "1. Why is it beneficial to use the `newline=''` parameter when opening a CSV file for writing?\n",
    "   - a) It improves the readability of the CSV file.\n",
    "   - b) It prevents issues with line endings in different operating systems.\n",
    "   - c) It speeds up the CSV writing operation.\n",
    "   - d) It eliminates the need for handling exceptions.\n",
    "\n",
    "<details>\n",
    "<summary>Click to reveal the answer:</summary>\n",
    "    b)"
   ]
  },
  {
   "cell_type": "markdown",
   "metadata": {},
   "source": [
    "2. How can you modify the `csv_manipulation` function to handle cases where the CSV file is empty?"
   ]
  },
  {
   "cell_type": "code",
   "execution_count": null,
   "metadata": {},
   "outputs": [],
   "source": [
    "# Test code here"
   ]
  },
  {
   "cell_type": "markdown",
   "metadata": {},
   "source": [
    "Write your answer here..."
   ]
  },
  {
   "cell_type": "markdown",
   "metadata": {},
   "source": [
    "3. In what scenarios might you choose to use Pandas for CSV manipulation instead of Python's built-in functions?"
   ]
  },
  {
   "cell_type": "markdown",
   "metadata": {},
   "source": [
    "Write your answer here..."
   ]
  },
  {
   "cell_type": "markdown",
   "metadata": {},
   "source": [
    "## Summary of File Methods\n",
    "\n",
    "\n",
    "| Method           | Purpose                              | Example Usage                                      |\n",
    "|------------------|--------------------------------------|----------------------------------------------------|\n",
    "| `open()`         | Opens a file and returns a file object. | `file = open('example.txt', 'r')`                  |\n",
    "| `close()`        | Closes the file.                      | `file.close()`                                     |\n",
    "| `read(size)`     | Reads a specified number of bytes from the file.<br>`size` parameter is optional | `content = file.read(50)`                      |\n",
    "| `readline()`     | Reads a single line from the file.    | `line = file.readline()`                           |\n",
    "| `readlines()`    | Reads all lines from the file and returns a list. | `lines = file.readlines()`                      |\n",
    "| `write(data)`    | Writes data to the file.              | `file.write(\"Hello, World!\")`                     |\n",
    "| `writelines(lines)` | Writes a list of lines to the file.  | `file.writelines(['Line 1\\n', 'Line 2\\n'])`      |\n",
    "| `seek(offset)`   | Moves the file pointer to a specified byte offset. | `file.seek(0)`                                   |\n",
    "| `tell()`         | Returns the current file pointer position. | `position = file.tell()`                         |\n",
    "| `flush()`        | Flushes the internal buffer, ensuring that all data is written to the file. | `file.flush()`                                |\n",
    "| `truncate(size)` | Resizes the file to the specified size. | `file.truncate(100)`                             |\n",
    "\n",
    "**Note:** It's important to use the `with` statement (`with open(...) as file:`) when working with files in Python. The `with` statement ensures proper file closure and exception handling.\n",
    "    \n"
   ]
  },
  {
   "cell_type": "markdown",
   "metadata": {},
   "source": [
    "## Summary of Methods for CSV Files\n",
    "\n",
    "\n",
    "| Method/Function                | Purpose                              | Example Usage                                               |\n",
    "|--------------------------------|--------------------------------------|-------------------------------------------------------------|\n",
    "| `csv.reader(file)`             | Reads a CSV file and returns a reader object. | `reader = csv.reader(open('data.csv', 'r'))`              |\n",
    "| `csv.writer(file)`             | Creates a CSV writer object for writing to a file. | `writer = csv.writer(open('output.csv', 'w', newline=''))` |\n",
    "| `writerow(row)`                 | Writes a single row to a CSV file.   | `writer.writerow(['Name', 'Age', 'City'])`                |\n",
    "| `writerows(rows)`               | Writes multiple rows to a CSV file. | `writer.writerows([['John', 25, 'New York'], ['Alice', 30, 'Los Angeles']])` |\n",
    "| `DictReader(file)`              | Reads a CSV file into a dictionary. | `dict_reader = csv.DictReader(open('data.csv', 'r'))`     |\n",
    "| `DictWriter(file, fieldnames)`  | Writes to a CSV file using dictionaries. | `dict_writer = csv.DictWriter(open('output.csv', 'w', newline=''), fieldnames=['Name', 'Age', 'City'])` |\n",
    "| `fieldnames` attribute          | Retrieves the fieldnames of a CSV file. | `fieldnames = dict_reader.fieldnames`                       |\n",
    "| `row` (in `DictReader`)         | Retrieves a row as a dictionary.     | `for row in dict_reader: print(row)`                       |\n",
    "| `getheader()` (in `DictReader`) | Retrieves the header row as a dictionary. | `header = dict_reader.getheader()`                        |"
   ]
  }
 ],
 "metadata": {
  "kernelspec": {
   "display_name": "Python 3",
   "language": "python",
   "name": "python3"
  },
  "language_info": {
   "codemirror_mode": {
    "name": "ipython",
    "version": 3
   },
   "file_extension": ".py",
   "mimetype": "text/x-python",
   "name": "python",
   "nbconvert_exporter": "python",
   "pygments_lexer": "ipython3",
   "version": "3.6.5"
  }
 },
 "nbformat": 4,
 "nbformat_minor": 2
}
